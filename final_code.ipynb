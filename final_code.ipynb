{
 "cells": [
  {
   "cell_type": "code",
   "execution_count": 10,
   "metadata": {
    "id": "GZ-0_iKb-2sm"
   },
   "outputs": [],
   "source": [
    "import numpy as np\n",
    "import pandas as pd\n",
    "from matplotlib import pyplot as plt\n",
    "from sklearn.feature_extraction.text import TfidfVectorizer\n",
    "from sklearn.preprocessing import MultiLabelBinarizer\n",
    "from sklearn.model_selection import train_test_split\n",
    "from sklearn.multiclass import OneVsRestClassifier\n",
    "from sklearn.linear_model import LogisticRegression\n",
    "from sklearn.pipeline import Pipeline\n",
    "import sklearn.metrics as metrics"
   ]
  },
  {
   "cell_type": "code",
   "execution_count": 13,
   "metadata": {
    "id": "bHbmg2pn_KB2"
   },
   "outputs": [
    {
     "name": "stdout",
     "output_type": "stream",
     "text": [
      "                                             Title  \\\n",
      "0                   [comma, array, print, bracket]   \n",
      "1                          [directory, c, listing]   \n",
      "2                        [return, wcf, datatables]   \n",
      "3                        [error, visible, element]   \n",
      "4  [resolution, opencv, camera, increase, capture]   \n",
      "\n",
      "                                                Body                    Tags  \\\n",
      "0  [fit, console, game, original, format, comma, ...  [array, android, java]   \n",
      "1  [scan, c, file, folder, platform, cross, direc...               [c, file]   \n",
      "2  [table, underlie, timeouts, data, connection, ...           [c#, service]   \n",
      "3  [demo, count, tesstcase, error, syntaxerror, e...            [javascript]   \n",
      "4  [webcam, resolution, opencv, quickcam, c++, im...              [c, image]   \n",
      "\n",
      "                                           text_comb  \n",
      "0  [fit, console, game, original, format, comma, ...  \n",
      "1  [scan, c, file, folder, platform, cross, direc...  \n",
      "2  [table, underlie, timeouts, data, connection, ...  \n",
      "3  [demo, count, tesstcase, error, syntaxerror, e...  \n",
      "4  [webcam, resolution, opencv, quickcam, c++, im...  \n",
      "Number of Tags: 50\n"
     ]
    }
   ],
   "source": [
    "path =\"C:/Users/moumouni/Desktop/OC_P5_ml/Stack_questions_cleaned.csv\"\n",
    "data = pd.read_csv(path,sep=';')\n",
    "from ast import literal_eval\n",
    "for col in ['Title', 'Body', 'Tags', 'text_comb']:\n",
    "     data[col] = data[col].apply(literal_eval) \n",
    "     \n",
    "print(data.head())\n",
    "\n",
    "# transform target tags\n",
    "mlb = MultiLabelBinarizer()\n",
    "mlb.fit(data.Tags)\n",
    "y_mlb = mlb.transform(data.Tags)\n",
    "print(\"Number of Tags:\", len(mlb.classes_))\n",
    "#\n",
    "# data split\n",
    "X_train, X_test, y_train, y_test = train_test_split(data.text_comb,\\\n",
    "                    y_mlb, test_size=0.25, random_state=42)\n"
   ]
  },
  {
   "cell_type": "code",
   "execution_count": 15,
   "metadata": {
    "colab": {
     "base_uri": "https://localhost:8080/"
    },
    "id": "aETKsB9pLIdx",
    "outputId": "a920075e-244c-4469-b830-3fb4e4a6412f"
   },
   "outputs": [
    {
     "name": "stdout",
     "output_type": "stream",
     "text": [
      "Score ROC_AUC: 0.9692983542147782\n"
     ]
    }
   ],
   "source": [
    "# define model\n",
    "final_model = Pipeline([('tfidf', TfidfVectorizer(analyzer=\"word\",\n",
    "                             max_df=.95,\n",
    "                             min_df= 5,\n",
    "                             tokenizer=None,\n",
    "                             preprocessor=' '.join,\n",
    "                             stop_words=None,\n",
    "                             lowercase=False)),\n",
    "                        ('lr', OneVsRestClassifier(LogisticRegression()))])\n",
    "\n",
    "#fit model\n",
    "\n",
    "final_model.fit(X_train,y_train)\n",
    "\n",
    "#prediction and score\n",
    "y_score = final_model.predict_proba(X_test)\n",
    "print('Score ROC_AUC:', metrics.roc_auc_score(y_test, y_score,multi_class=\"ovr\"))"
   ]
  },
  {
   "cell_type": "code",
   "execution_count": 16,
   "metadata": {},
   "outputs": [],
   "source": [
    "from pickle import dump\n",
    "dump(final_model, open(\"final_model.pkl\",\"wb\"))"
   ]
  },
  {
   "cell_type": "code",
   "execution_count": null,
   "metadata": {},
   "outputs": [],
   "source": []
  }
 ],
 "metadata": {
  "colab": {
   "name": "final_code.ipynb",
   "provenance": []
  },
  "kernelspec": {
   "display_name": "Python 3",
   "language": "python",
   "name": "python3"
  },
  "language_info": {
   "codemirror_mode": {
    "name": "ipython",
    "version": 3
   },
   "file_extension": ".py",
   "mimetype": "text/x-python",
   "name": "python",
   "nbconvert_exporter": "python",
   "pygments_lexer": "ipython3",
   "version": "3.8.5"
  }
 },
 "nbformat": 4,
 "nbformat_minor": 1
}
