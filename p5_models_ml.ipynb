{
 "cells": [
  {
   "attachments": {
    "stack.png": {
     "image/png": "[encoded data removed]"
    }
   },
   "cell_type": "markdown",
   "metadata": {
    "id": "CGoDOMtSYld3"
   },
   "source": [
    "# <font color=\"#114b98\">      <div align=\"center\">             Catégoriser automatiquement des questions \n",
    "\n",
    "\n",
    "\n",
    "![stack.png](attachment:stack.png)"
   ]
  },
  {
   "cell_type": "markdown",
   "metadata": {
    "id": "HsP0XZ8ydcl1"
   },
   "source": [
    "Le premier notebook contient le jeu de données des questions de Stacskoverflow\n",
    "ou nous avons réalisé un nettoyage les données et les enregistrées \n",
    "sous le nom \"Stack_questions_cleaned.csv\". Nous l'exportons ici (dans ce présent Notebook) afin de réaliser des \n",
    "essais de différentes approches de modélisation supervisée et non-supervisée\n",
    "des données textuelles\n",
    "avant de choisir un modèle exploitable pour une prediction de tags liés aux questions.\n",
    "\n",
    "Tous les Notebooks du projet et l'api seront versionnés dans un repositoire GitHub disponible à l'adresse:  https://github.com/Bounkass/Proj5ml_oc.git"
   ]
  },
  {
   "cell_type": "markdown",
   "metadata": {
    "id": "L6Pze_yeYqqK"
   },
   "source": [
    "## <font color=\"#ea1c60\">Sommaire</font>  \n",
    "[1.Chargement et preprossessing](#section_1)\n",
    "\n",
    "[2. Entrainement avec des approches supervisées](#section_2)\n",
    "\n",
    "[3. Comparaison des modèles supervisés](#section_3) \n",
    "\n",
    "[4. word2vec embeddings](#section_4)\n",
    "\n",
    "[5. BERT Embeddings](#section_5)\n",
    "\n",
    "[5.1 BERT hub Tensorflow](#section_51)\n",
    "\n",
    "[5.2 -U sentence-transformers](#section_52)\n",
    "\n",
    "[5.3 USE - Universal Sentence Encoder](#section_53)\n",
    "\n",
    "[6. USE - Entrainement avec des approches non supervisées](#section_6)\n",
    "\n",
    "[6.1 LDA Modèle](#section_61)\n",
    "\n",
    "[6.2 NMF Modèle](#section_62)"
   ]
  },
  {
   "cell_type": "code",
   "execution_count": 3,
   "metadata": {
    "executionInfo": {
     "elapsed": 681,
     "status": "ok",
     "timestamp": 1661295152717,
     "user": {
      "displayName": "mostapha bounkass",
      "userId": "09949847470110953923"
     },
     "user_tz": -120
    },
    "id": "z2NLC2joh2fv"
   },
   "outputs": [],
   "source": [
    "#python libraries\n",
    "import numpy as np\n",
    "import pandas as pd\n",
    "from matplotlib import pyplot as plt\n",
    "import seaborn as sns\n",
    "import time\n",
    "from sklearn.multiclass import OneVsRestClassifier\n",
    "from sklearn.neighbors import KNeighborsClassifier\n",
    "from sklearn.linear_model import LogisticRegression\n",
    "from sklearn.ensemble import RandomForestClassifier\n",
    "from sklearn.ensemble import GradientBoostingClassifier\n",
    "from sklearn.svm import SVC\n",
    "import sklearn.metrics as metrics\n",
    "from sklearn.metrics import average_precision_score, roc_auc_score, roc_curve\n",
    "from sklearn.feature_extraction.text import TfidfVectorizer\n",
    "from sklearn.preprocessing import MultiLabelBinarizer\n",
    "from sklearn.model_selection import train_test_split"
   ]
  },
  {
   "cell_type": "markdown",
   "metadata": {
    "id": "4nC6bJkeaWUt"
   },
   "source": [
    "### <font id=\"section_1\">1. Chargement et préprocessing"
   ]
  },
  {
   "cell_type": "code",
   "execution_count": 4,
   "metadata": {},
   "outputs": [],
   "source": [
    "#from google.colab import drive\n",
    "#drive.mount('/content/drive')\n",
    "#path = \"/content/drive/MyDrive/\""
   ]
  },
  {
   "cell_type": "code",
   "execution_count": 6,
   "metadata": {
    "executionInfo": {
     "elapsed": 224,
     "status": "ok",
     "timestamp": 1661295160179,
     "user": {
      "displayName": "mostapha bounkass",
      "userId": "09949847470110953923"
     },
     "user_tz": -120
    },
    "id": "CyRf8iX86S_k"
   },
   "outputs": [],
   "source": [
    "data = pd.read_csv('Stack_questions_cleaned.csv',sep=';')"
   ]
  },
  {
   "cell_type": "code",
   "execution_count": 7,
   "metadata": {
    "executionInfo": {
     "elapsed": 2547,
     "status": "ok",
     "timestamp": 1661295163808,
     "user": {
      "displayName": "mostapha bounkass",
      "userId": "09949847470110953923"
     },
     "user_tz": -120
    },
    "id": "Ld-DITs06xDg"
   },
   "outputs": [],
   "source": [
    "from ast import literal_eval\n",
    "for col in ['Title', 'Body', 'Tags', 'text_comb']:\n",
    "     data[col] = data[col].apply(literal_eval)"
   ]
  },
  {
   "cell_type": "code",
   "execution_count": 8,
   "metadata": {
    "colab": {
     "base_uri": "https://localhost:8080/",
     "height": 354
    },
    "executionInfo": {
     "elapsed": 336,
     "status": "ok",
     "timestamp": 1661295165384,
     "user": {
      "displayName": "mostapha bounkass",
      "userId": "09949847470110953923"
     },
     "user_tz": -120
    },
    "id": "6PPb-gYxUnuC",
    "outputId": "4095af4e-d76f-421d-dbc7-87a6380c0cb6"
   },
   "outputs": [
    {
     "data": {
      "text/html": [
       "<div>\n",
       "<style scoped>\n",
       "    .dataframe tbody tr th:only-of-type {\n",
       "        vertical-align: middle;\n",
       "    }\n",
       "\n",
       "    .dataframe tbody tr th {\n",
       "        vertical-align: top;\n",
       "    }\n",
       "\n",
       "    .dataframe thead th {\n",
       "        text-align: right;\n",
       "    }\n",
       "</style>\n",
       "<table border=\"1\" class=\"dataframe\">\n",
       "  <thead>\n",
       "    <tr style=\"text-align: right;\">\n",
       "      <th></th>\n",
       "      <th>Title</th>\n",
       "      <th>Body</th>\n",
       "      <th>Tags</th>\n",
       "      <th>text_comb</th>\n",
       "    </tr>\n",
       "  </thead>\n",
       "  <tbody>\n",
       "    <tr>\n",
       "      <th>0</th>\n",
       "      <td>[bracket, print, array, comma]</td>\n",
       "      <td>[slash, program, original, output, letter, por...</td>\n",
       "      <td>[java, array, android]</td>\n",
       "      <td>[slash, program, original, output, letter, por...</td>\n",
       "    </tr>\n",
       "    <tr>\n",
       "      <th>1</th>\n",
       "      <td>[c, listing, directory]</td>\n",
       "      <td>[file, directory, cross, folder, c, scan, plat...</td>\n",
       "      <td>[file, c]</td>\n",
       "      <td>[cross, directory, file, folder, listing, c, s...</td>\n",
       "    </tr>\n",
       "    <tr>\n",
       "      <th>2</th>\n",
       "      <td>[return, datatables, wcf, net]</td>\n",
       "      <td>[close, datatables, behaviorcontracts, datatab...</td>\n",
       "      <td>[web, service, c#, net]</td>\n",
       "      <td>[close, datatables, behaviorcontracts, datatab...</td>\n",
       "    </tr>\n",
       "    <tr>\n",
       "      <th>3</th>\n",
       "      <td>[element, visible, error]</td>\n",
       "      <td>[error, tesstcase, list, syntaxerror, element,...</td>\n",
       "      <td>[javascript]</td>\n",
       "      <td>[error, tesstcase, list, syntaxerror, element,...</td>\n",
       "    </tr>\n",
       "    <tr>\n",
       "      <th>4</th>\n",
       "      <td>[plugins, load, net]</td>\n",
       "      <td>[winapi, provide, question, plugins, create, l...</td>\n",
       "      <td>[net, window]</td>\n",
       "      <td>[winapi, provide, question, plugins, create, l...</td>\n",
       "    </tr>\n",
       "  </tbody>\n",
       "</table>\n",
       "</div>"
      ],
      "text/plain": [
       "                            Title  \\\n",
       "0  [bracket, print, array, comma]   \n",
       "1         [c, listing, directory]   \n",
       "2  [return, datatables, wcf, net]   \n",
       "3       [element, visible, error]   \n",
       "4            [plugins, load, net]   \n",
       "\n",
       "                                                Body                     Tags  \\\n",
       "0  [slash, program, original, output, letter, por...   [java, array, android]   \n",
       "1  [file, directory, cross, folder, c, scan, plat...                [file, c]   \n",
       "2  [close, datatables, behaviorcontracts, datatab...  [web, service, c#, net]   \n",
       "3  [error, tesstcase, list, syntaxerror, element,...             [javascript]   \n",
       "4  [winapi, provide, question, plugins, create, l...            [net, window]   \n",
       "\n",
       "                                           text_comb  \n",
       "0  [slash, program, original, output, letter, por...  \n",
       "1  [cross, directory, file, folder, listing, c, s...  \n",
       "2  [close, datatables, behaviorcontracts, datatab...  \n",
       "3  [error, tesstcase, list, syntaxerror, element,...  \n",
       "4  [winapi, provide, question, plugins, create, l...  "
      ]
     },
     "execution_count": 8,
     "metadata": {},
     "output_type": "execute_result"
    }
   ],
   "source": [
    "data.head()"
   ]
  },
  {
   "cell_type": "markdown",
   "metadata": {},
   "source": [
    "Les modèles de prédiction à besoin des entrées numériques pour faire des prédictions. Nous utilisons les features de Tf-idf qui engendre une matrice creuse. Les entrées de cette matrice sont des fréquences des mots pondérées par l'ordre des mots dans le corpus.\n",
    "\n",
    "Les variables cibles, colonne de Tags (pour les modèles supervisés), nous allons utiliser MultiLabelBinarizer Transformer de Scikit-Learn."
   ]
  },
  {
   "cell_type": "code",
   "execution_count": 9,
   "metadata": {
    "colab": {
     "base_uri": "https://localhost:8080/"
    },
    "executionInfo": {
     "elapsed": 1011,
     "status": "ok",
     "timestamp": 1661295171321,
     "user": {
      "displayName": "mostapha bounkass",
      "userId": "09949847470110953923"
     },
     "user_tz": -120
    },
    "id": "Mo4UVj-3Cqqk",
    "outputId": "e47067fd-0247-45e7-c1a2-2b8265026b47"
   },
   "outputs": [
    {
     "name": "stdout",
     "output_type": "stream",
     "text": [
      "Shape of X for Full_doc: (19491, 9087)\n",
      "Shape of y:              (19491, 50)\n",
      "CPU times: total: 4.48 s\n",
      "Wall time: 4.48 s\n"
     ]
    }
   ],
   "source": [
    "%%time\n",
    "# Define X and y\n",
    "X = data[\"text_comb\"]\n",
    "y = data[\"Tags\"]\n",
    "\n",
    "# Initialize the \"CountVectorizer\" TFIDF for text_comb\n",
    "vectorizer = TfidfVectorizer(analyzer=\"word\",\n",
    "                             max_df=.97,\n",
    "                             min_df= 3,\n",
    "                             tokenizer=None,\n",
    "                             preprocessor=' '.join,\n",
    "                             stop_words=None,\n",
    "                             lowercase=False)\n",
    "vectorizer.fit(X)\n",
    "X_tfidf = vectorizer.transform(X)\n",
    "\n",
    "print(\"Shape of X for Full_doc: {}\".format(X_tfidf.shape))\n",
    "\n",
    "# Multilabel binarizer for targets\n",
    "multilabel_binarizer = MultiLabelBinarizer()\n",
    "multilabel_binarizer.fit(y)\n",
    "y_binarized = multilabel_binarizer.transform(y)\n",
    "\n",
    "print(f\"Shape of y:              {y_binarized.shape}\")"
   ]
  },
  {
   "cell_type": "code",
   "execution_count": 10,
   "metadata": {
    "colab": {
     "base_uri": "https://localhost:8080/"
    },
    "executionInfo": {
     "elapsed": 255,
     "status": "ok",
     "timestamp": 1661295175466,
     "user": {
      "displayName": "mostapha bounkass",
      "userId": "09949847470110953923"
     },
     "user_tz": -120
    },
    "id": "OprQ7sa4GVAm",
    "outputId": "ddf6f421-4603-4c2d-d036-84808026d90c"
   },
   "outputs": [
    {
     "name": "stdout",
     "output_type": "stream",
     "text": [
      "X_train shape : (14618, 9087)\n",
      "X_test shape : (4873, 9087)\n",
      "y_train shape : (14618, 50)\n",
      "y_test shape : (4873, 50)\n"
     ]
    }
   ],
   "source": [
    "# Create train and test split (25%)\n",
    "X_train, X_test, y_train, y_test = train_test_split(X_tfidf, y_binarized,\n",
    "                                                    test_size=0.25, random_state=42)\n",
    "print(\"X_train shape : {}\".format(X_train.shape))\n",
    "print(\"X_test shape : {}\".format(X_test.shape))\n",
    "print(\"y_train shape : {}\".format(y_train.shape))\n",
    "print(\"y_test shape : {}\".format(y_test.shape))"
   ]
  },
  {
   "cell_type": "markdown",
   "metadata": {
    "id": "NzmmQ8b6QM9j"
   },
   "source": [
    "On considère des métriques pour comparer les modèles de classification avec  la méthode de probabilité:\n",
    "\n",
    "- précision moyenne\n",
    "- ROC-AUC moyenne\n",
    "\n",
    "Puis calculer le seuil optimal pour la courbe ROC pour ce type de multti_labels avec probabilité"
   ]
  },
  {
   "cell_type": "code",
   "execution_count": 11,
   "metadata": {
    "executionInfo": {
     "elapsed": 327,
     "status": "ok",
     "timestamp": 1661295185439,
     "user": {
      "displayName": "mostapha bounkass",
      "userId": "09949847470110953923"
     },
     "user_tz": -120
    },
    "id": "iW86CeO5hNqs"
   },
   "outputs": [],
   "source": [
    "def metrics_report(model_name ,test_labels, y_score,fit_time, df): \n",
    "    \"\"\"\n",
    "    Compute metrics specific to multi-label\n",
    "    classification problems with with ptobability \n",
    "\n",
    "    Parameters\n",
    "    ----------------------------------------\n",
    "    model_name : string\n",
    "        Name of the  model\n",
    "    df : DataFrame \n",
    "        DataFrame to accumulate result, if None : Create DataFrame.\n",
    "    test_labels : array of true labels\n",
    "    y_pred : array of predicted labels with ptobability\n",
    "    fit_time: fit time of the model\n",
    "    ----------------------------------------\n",
    "    \"\"\"   \n",
    "    if(df is not None):\n",
    "        df_sc = df\n",
    "    else:\n",
    "        df_sc = pd.DataFrame(index=[\"Av_precision(macro)\",\"Av_precision(micro)\",\"ROC_AUC(macro)\",\\\n",
    "                                      \"ROC_AUC(micro)\",\"Fit_time\"],columns=[model_name])\n",
    "        \n",
    "    scores = []\n",
    "    scores.append(average_precision_score(test_labels, y_score,average='macro'))\n",
    "    scores.append(average_precision_score(test_labels, y_score,average='micro'))\n",
    "    scores.append(roc_auc_score(test_labels, y_score, multi_class=\"ovr\" ,average='macro'))\n",
    "    scores.append(roc_auc_score(test_labels, y_score, multi_class=\"ovr\" ,average='micro'))\n",
    "    scores.append(fit_time)\n",
    "    df_sc[model_name] = scores\n",
    "    \n",
    "    return df_sc"
   ]
  },
  {
   "cell_type": "markdown",
   "metadata": {},
   "source": [
    "La fonction suivante calcule le seuil des courbes ROC pour des classifications avec des proportions. "
   ]
  },
  {
   "cell_type": "code",
   "execution_count": 12,
   "metadata": {
    "id": "VTdoiRQ70kGN"
   },
   "outputs": [],
   "source": [
    "def cut_off(test_labels,y_score):\n",
    "  \"\"\"\n",
    "  Compute threshold for predicted a probability of multi-labels \n",
    "\n",
    "  Parameters\n",
    "  ----------------------------------------\n",
    "  test_labels : array of true labels\n",
    "  y_score : array of predicted labels with probability\n",
    "  ----------------------------------------\n",
    "  \"\"\"   \n",
    "  n = y_score.shape[1]\n",
    "  thresholds = np.zeros(n)\n",
    "  # Compute fpr, tpr, thresholds and roc auc\n",
    "  for j in range(n):\n",
    "     # calculate roc curves\n",
    "     fpr, tpr, ths = roc_curve(y_test[:,j], y_score[:,j])\n",
    "     # calculate the statistic \n",
    "     dis = abs(1-fpr-tpr)\n",
    "     # locate the index of the lower distance\n",
    "     idx = np.argmin(dis)\n",
    "     thresholds[j] = ths[idx]\n",
    "  threshold = thresholds.max() \n",
    "  \n",
    "  return threshold"
   ]
  },
  {
   "cell_type": "markdown",
   "metadata": {
    "id": "SM8ENE1MeT4o"
   },
   "source": [
    "### <font id=\"section_2\">2. Entrainement avec des approches supervisées"
   ]
  },
  {
   "cell_type": "markdown",
   "metadata": {},
   "source": [
    "Le modèle de régression logistique:"
   ]
  },
  {
   "cell_type": "code",
   "execution_count": 16,
   "metadata": {},
   "outputs": [
    {
     "name": "stdout",
     "output_type": "stream",
     "text": [
      "                     reg_logit\n",
      "Av_precision(macro)   0.651701\n",
      "Av_precision(micro)   0.708355\n",
      "ROC_AUC(macro)        0.966094\n",
      "ROC_AUC(micro)        0.968779\n",
      "Fit_time             10.400000\n"
     ]
    }
   ],
   "source": [
    "reg_logit_clf = OneVsRestClassifier(LogisticRegression())\n",
    "time1 = time.time()\n",
    "reg_logit_clf.fit(X_train, y_train)\n",
    "#Prediction\n",
    "reg_logit_pred = reg_logit_clf.predict_proba(X_test)\n",
    "fit_time = np.round(time.time() - time1,1)\n",
    "df_performance = metrics_report(\"reg_logit\", y_test, reg_logit_pred, fit_time,df=None)\n",
    "print(df_performance)"
   ]
  },
  {
   "cell_type": "code",
   "execution_count": 14,
   "metadata": {
    "colab": {
     "base_uri": "https://localhost:8080/"
    },
    "executionInfo": {
     "elapsed": 553,
     "status": "ok",
     "timestamp": 1661251799073,
     "user": {
      "displayName": "mostapha bounkass",
      "userId": "09949847470110953923"
     },
     "user_tz": -120
    },
    "id": "QFSnokPl10E6",
    "outputId": "b336689c-d7ee-4d35-8bbd-a523208df061"
   },
   "outputs": [
    {
     "data": {
      "text/plain": [
       "0.11612371272675745"
      ]
     },
     "execution_count": 14,
     "metadata": {},
     "output_type": "execute_result"
    }
   ],
   "source": [
    "#seuil de classification\n",
    "cut_off(y_test,reg_logit_pred)"
   ]
  },
  {
   "cell_type": "code",
   "execution_count": null,
   "metadata": {
    "colab": {
     "base_uri": "https://localhost:8080/"
    },
    "executionInfo": {
     "elapsed": 600,
     "status": "ok",
     "timestamp": 1661252095546,
     "user": {
      "displayName": "mostapha bounkass",
      "userId": "09949847470110953923"
     },
     "user_tz": -120
    },
    "id": "uSlsXAEloqV5",
    "outputId": "aec6219b-cfc5-4f4d-b133-a3dbf76e195c"
   },
   "outputs": [
    {
     "name": "stdout",
     "output_type": "stream",
     "text": [
      "----------------------------------------------------------------------------------------------------\n",
      "Print 5 first predicted Tags vs true Tags\n",
      "----------------------------------------------------------------------------------------------------\n",
      "Predicted: [('c++', 'java'), ('c', 'iphone', 'objective', 'swift', 'xcode'), ('image',), ('c', 'image', 'objective')]\n",
      "True: [('c++',), ('iphone', 'swift'), ('image',), ('swift',)]\n"
     ]
    }
   ],
   "source": [
    "# Inverse transform\n",
    "threshold = cut_off(y_test,reg_logit_pred)\n",
    "reg_logit_preds = (reg_logit_pred>threshold)*1\n",
    "y_pred_inversed = multilabel_binarizer.inverse_transform(reg_logit_preds)\n",
    "y_test_inversed = multilabel_binarizer.inverse_transform(y_test)\n",
    "\n",
    "print(\"-\"*100)\n",
    "print(\"Print 5 first predicted Tags vs true Tags\")\n",
    "print(\"-\" * 100)\n",
    "print(\"Predicted:\", y_pred_inversed[0:4])\n",
    "print(\"True:\", y_test_inversed[0:4])"
   ]
  },
  {
   "cell_type": "markdown",
   "metadata": {},
   "source": [
    "Modèle de KNN:"
   ]
  },
  {
   "cell_type": "code",
   "execution_count": null,
   "metadata": {
    "colab": {
     "base_uri": "https://localhost:8080/"
    },
    "executionInfo": {
     "elapsed": 131886,
     "status": "ok",
     "timestamp": 1661252232582,
     "user": {
      "displayName": "mostapha bounkass",
      "userId": "09949847470110953923"
     },
     "user_tz": -120
    },
    "id": "AeyJDe8BILDv",
    "outputId": "c723de6a-3ace-4f28-d4fb-3ce35b1d83fa"
   },
   "outputs": [
    {
     "name": "stdout",
     "output_type": "stream",
     "text": [
      "                     reg_logit         knn\n",
      "Av_precision(macro)   0.651701    0.428949\n",
      "Av_precision(micro)   0.708355    0.477009\n",
      "ROC_AUC(macro)        0.966094    0.849232\n",
      "ROC_AUC(micro)        0.968779    0.871506\n",
      "Fit_time             10.400000  131.200000\n",
      "CPU times: user 2min 11s, sys: 543 ms, total: 2min 12s\n",
      "Wall time: 2min 11s\n"
     ]
    }
   ],
   "source": [
    "%%time\n",
    "knn_clf = OneVsRestClassifier(KNeighborsClassifier())\n",
    "time1 = time.time()\n",
    "#fit model\n",
    "knn_clf.fit(X_train, y_train)\n",
    "#predict with proba\n",
    "knn_preds = knn_clf.predict_proba(X_test)\n",
    "fit_time = np.round(time.time() - time1,1)\n",
    "df_performance = metrics_report(\"knn\", y_test, knn_preds, fit_time, df=df_performance)\n",
    "print(df_performance)"
   ]
  },
  {
   "cell_type": "code",
   "execution_count": null,
   "metadata": {
    "colab": {
     "base_uri": "https://localhost:8080/"
    },
    "executionInfo": {
     "elapsed": 379,
     "status": "ok",
     "timestamp": 1661252374265,
     "user": {
      "displayName": "mostapha bounkass",
      "userId": "09949847470110953923"
     },
     "user_tz": -120
    },
    "id": "SMlcsX0QpJj4",
    "outputId": "74a8199c-f3c7-4c61-8fe5-854b2d4e5f3a"
   },
   "outputs": [
    {
     "name": "stdout",
     "output_type": "stream",
     "text": [
      "----------------------------------------------------------------------------------------------------\n",
      "Print 5 first predicted Tags vs true Tags\n",
      "----------------------------------------------------------------------------------------------------\n",
      "Predicted: [('c++', 'java'), ('cocoa', 'swift', 'touch', 'xcode'), ('image',), ('c', 'objective')]\n",
      "True: [('c++',), ('iphone', 'swift'), ('image',), ('swift',)]\n"
     ]
    }
   ],
   "source": [
    "# Inverse transform\n",
    "threshold = cut_off(y_test,knn_preds)\n",
    "y_pred_inversed = multilabel_binarizer.inverse_transform((knn_preds>threshold)*1)\n",
    "y_test_inversed = multilabel_binarizer.inverse_transform(y_test)\n",
    "\n",
    "print(\"-\"*100)\n",
    "print(\"Print 5 first predicted Tags vs true Tags\")\n",
    "print(\"-\" * 100)\n",
    "print(\"Predicted:\", y_pred_inversed[0:4])\n",
    "print(\"True:\", y_test_inversed[0:4])"
   ]
  },
  {
   "cell_type": "markdown",
   "metadata": {},
   "source": [
    "Modèle SVM avec un noyau linéaire: "
   ]
  },
  {
   "cell_type": "code",
   "execution_count": null,
   "metadata": {
    "colab": {
     "base_uri": "https://localhost:8080/"
    },
    "executionInfo": {
     "elapsed": 2270865,
     "status": "ok",
     "timestamp": 1661254711571,
     "user": {
      "displayName": "mostapha bounkass",
      "userId": "09949847470110953923"
     },
     "user_tz": -120
    },
    "id": "IFYCHNjEc4xG",
    "outputId": "ea522aba-43e6-46bc-ae71-0672ec175a85"
   },
   "outputs": [
    {
     "name": "stdout",
     "output_type": "stream",
     "text": [
      "                     reg_logit         knn   svm_linear\n",
      "Av_precision(macro)   0.651701    0.428949     0.648814\n",
      "Av_precision(micro)   0.708355    0.477009     0.720079\n",
      "ROC_AUC(macro)        0.966094    0.849232     0.942065\n",
      "ROC_AUC(micro)        0.968779    0.871506     0.956184\n",
      "Fit_time             10.400000  131.200000  2270.000000\n",
      "CPU times: user 37min 46s, sys: 4.42 s, total: 37min 51s\n",
      "Wall time: 37min 50s\n"
     ]
    }
   ],
   "source": [
    "%%time\n",
    "clf_svm_lin = OneVsRestClassifier(SVC(kernel=\"linear\",probability=True))\n",
    "time1 = time.time()\n",
    "#fit model\n",
    "clf_svm_lin.fit(X_train, y_train)\n",
    "svm_pred = clf_svm_lin.predict_proba(X_test)\n",
    "fit_time = np.round(time.time() - time1,1)\n",
    "df_performance = metrics_report(\"svm_linear\", y_test, svm_pred, fit_time, df=df_performance)\n",
    "print(df_performance)"
   ]
  },
  {
   "cell_type": "code",
   "execution_count": null,
   "metadata": {
    "colab": {
     "base_uri": "https://localhost:8080/"
    },
    "executionInfo": {
     "elapsed": 43,
     "status": "ok",
     "timestamp": 1661254711574,
     "user": {
      "displayName": "mostapha bounkass",
      "userId": "09949847470110953923"
     },
     "user_tz": -120
    },
    "id": "fz4Td5dB0zxN",
    "outputId": "b669d0c1-e3a2-4d5d-8a4e-a382a8c2006a"
   },
   "outputs": [
    {
     "name": "stdout",
     "output_type": "stream",
     "text": [
      "0.09070170949161104\n"
     ]
    }
   ],
   "source": [
    "threshold = cut_off(y_test, svm_pred)\n",
    "print(threshold)"
   ]
  },
  {
   "cell_type": "code",
   "execution_count": null,
   "metadata": {
    "colab": {
     "base_uri": "https://localhost:8080/"
    },
    "executionInfo": {
     "elapsed": 427,
     "status": "ok",
     "timestamp": 1661254801325,
     "user": {
      "displayName": "mostapha bounkass",
      "userId": "09949847470110953923"
     },
     "user_tz": -120
    },
    "id": "tNKVBRatqAO6",
    "outputId": "2960ac09-b70f-4c64-80b9-47e49003df3e"
   },
   "outputs": [
    {
     "name": "stdout",
     "output_type": "stream",
     "text": [
      "----------------------------------------------------------------------------------------------------\n",
      "Print 5 first predicted Tags vs true Tags\n",
      "----------------------------------------------------------------------------------------------------\n",
      "Predicted: [('c++',), ('objective', 'swift'), ('image',), ('c', 'image', 'objective')]\n",
      "True: [('c++',), ('iphone', 'swift'), ('image',), ('swift',)]\n"
     ]
    }
   ],
   "source": [
    "# Inverse transform\n",
    "threshold = cut_off(y_test, svm_pred)\n",
    "y_pred_inversed = multilabel_binarizer.inverse_transform((svm_pred>threshold)*1)\n",
    "y_test_inversed = multilabel_binarizer.inverse_transform(y_test)\n",
    "\n",
    "print(\"-\"*100)\n",
    "print(\"Print 5 first predicted Tags vs true Tags\")\n",
    "print(\"-\" * 100)\n",
    "print(\"Predicted:\", y_pred_inversed[0:4])\n",
    "print(\"True:\", y_test_inversed[0:4])"
   ]
  },
  {
   "cell_type": "markdown",
   "metadata": {},
   "source": [
    "Modèle de Forêt aléatoire:"
   ]
  },
  {
   "cell_type": "code",
   "execution_count": null,
   "metadata": {
    "colab": {
     "base_uri": "https://localhost:8080/"
    },
    "executionInfo": {
     "elapsed": 393204,
     "status": "ok",
     "timestamp": 1661255287725,
     "user": {
      "displayName": "mostapha bounkass",
      "userId": "09949847470110953923"
     },
     "user_tz": -120
    },
    "id": "tZo-dVhwJmrx",
    "outputId": "d02c788e-8337-48b6-9462-47c0b9f8c877"
   },
   "outputs": [
    {
     "name": "stdout",
     "output_type": "stream",
     "text": [
      "                     reg_logit         knn   svm_linear  Random Forest\n",
      "Av_precision(macro)   0.651701    0.428949     0.648814       0.624743\n",
      "Av_precision(micro)   0.708355    0.477009     0.720079       0.697556\n",
      "ROC_AUC(macro)        0.966094    0.849232     0.942065       0.948776\n",
      "ROC_AUC(micro)        0.968779    0.871506     0.956184       0.958011\n",
      "Fit_time             10.400000  131.200000  2270.000000     392.000000\n",
      "CPU times: user 6min 15s, sys: 1.11 s, total: 6min 16s\n",
      "Wall time: 6min 32s\n"
     ]
    }
   ],
   "source": [
    "%%time\n",
    "rf_clf = OneVsRestClassifier(RandomForestClassifier())\n",
    "time1 = time.time()\n",
    "rf_clf.fit(X_train, y_train)\n",
    "rf_preds = rf_clf.predict_proba(X_test)\n",
    "fit_time = np.round(time.time() - time1,1)\n",
    "df_performance = metrics_report(\"Random Forest\", y_test, rf_preds,fit_time, df=df_performance)\n",
    "print(df_performance)"
   ]
  },
  {
   "cell_type": "code",
   "execution_count": null,
   "metadata": {
    "colab": {
     "base_uri": "https://localhost:8080/",
     "height": 206
    },
    "executionInfo": {
     "elapsed": 776467,
     "status": "ok",
     "timestamp": 1661258081584,
     "user": {
      "displayName": "mostapha bounkass",
      "userId": "09949847470110953923"
     },
     "user_tz": -120
    },
    "id": "gdZ9C02uBYuH",
    "outputId": "cb3a230f-c96c-4a34-c1cb-191021e893d6"
   },
   "outputs": [
    {
     "data": {
      "text/html": [
       "\n",
       "  <div id=\"df-f703a4c5-5a65-43f7-b702-a84e7f709d0a\">\n",
       "    <div class=\"colab-df-container\">\n",
       "      <div>\n",
       "<style scoped>\n",
       "    .dataframe tbody tr th:only-of-type {\n",
       "        vertical-align: middle;\n",
       "    }\n",
       "\n",
       "    .dataframe tbody tr th {\n",
       "        vertical-align: top;\n",
       "    }\n",
       "\n",
       "    .dataframe thead th {\n",
       "        text-align: right;\n",
       "    }\n",
       "</style>\n",
       "<table border=\"1\" class=\"dataframe\">\n",
       "  <thead>\n",
       "    <tr style=\"text-align: right;\">\n",
       "      <th></th>\n",
       "      <th>Random Forest</th>\n",
       "    </tr>\n",
       "  </thead>\n",
       "  <tbody>\n",
       "    <tr>\n",
       "      <th>Av_precision(macro)</th>\n",
       "      <td>0.643741</td>\n",
       "    </tr>\n",
       "    <tr>\n",
       "      <th>Av_precision(micro)</th>\n",
       "      <td>0.713821</td>\n",
       "    </tr>\n",
       "    <tr>\n",
       "      <th>ROC_AUC(macro)</th>\n",
       "      <td>0.956212</td>\n",
       "    </tr>\n",
       "    <tr>\n",
       "      <th>ROC_AUC(micro)</th>\n",
       "      <td>0.963850</td>\n",
       "    </tr>\n",
       "    <tr>\n",
       "      <th>Fit_time</th>\n",
       "      <td>1680.500000</td>\n",
       "    </tr>\n",
       "  </tbody>\n",
       "</table>\n",
       "</div>\n",
       "      <button class=\"colab-df-convert\" onclick=\"convertToInteractive('df-f703a4c5-5a65-43f7-b702-a84e7f709d0a')\"\n",
       "              title=\"Convert this dataframe to an interactive table.\"\n",
       "              style=\"display:none;\">\n",
       "        \n",
       "  <svg xmlns=\"http://www.w3.org/2000/svg\" height=\"24px\"viewBox=\"0 0 24 24\"\n",
       "       width=\"24px\">\n",
       "    <path d=\"M0 0h24v24H0V0z\" fill=\"none\"/>\n",
       "    <path d=\"M18.56 5.44l.94 2.06.94-2.06 2.06-.94-2.06-.94-.94-2.06-.94 2.06-2.06.94zm-11 1L8.5 8.5l.94-2.06 2.06-.94-2.06-.94L8.5 2.5l-.94 2.06-2.06.94zm10 10l.94 2.06.94-2.06 2.06-.94-2.06-.94-.94-2.06-.94 2.06-2.06.94z\"/><path d=\"M17.41 7.96l-1.37-1.37c-.4-.4-.92-.59-1.43-.59-.52 0-1.04.2-1.43.59L10.3 9.45l-7.72 7.72c-.78.78-.78 2.05 0 2.83L4 21.41c.39.39.9.59 1.41.59.51 0 1.02-.2 1.41-.59l7.78-7.78 2.81-2.81c.8-.78.8-2.07 0-2.86zM5.41 20L4 18.59l7.72-7.72 1.47 1.35L5.41 20z\"/>\n",
       "  </svg>\n",
       "      </button>\n",
       "      \n",
       "  <style>\n",
       "    .colab-df-container {\n",
       "      display:flex;\n",
       "      flex-wrap:wrap;\n",
       "      gap: 12px;\n",
       "    }\n",
       "\n",
       "    .colab-df-convert {\n",
       "      background-color: #E8F0FE;\n",
       "      border: none;\n",
       "      border-radius: 50%;\n",
       "      cursor: pointer;\n",
       "      display: none;\n",
       "      fill: #1967D2;\n",
       "      height: 32px;\n",
       "      padding: 0 0 0 0;\n",
       "      width: 32px;\n",
       "    }\n",
       "\n",
       "    .colab-df-convert:hover {\n",
       "      background-color: #E2EBFA;\n",
       "      box-shadow: 0px 1px 2px rgba(60, 64, 67, 0.3), 0px 1px 3px 1px rgba(60, 64, 67, 0.15);\n",
       "      fill: #174EA6;\n",
       "    }\n",
       "\n",
       "    [theme=dark] .colab-df-convert {\n",
       "      background-color: #3B4455;\n",
       "      fill: #D2E3FC;\n",
       "    }\n",
       "\n",
       "    [theme=dark] .colab-df-convert:hover {\n",
       "      background-color: #434B5C;\n",
       "      box-shadow: 0px 1px 3px 1px rgba(0, 0, 0, 0.15);\n",
       "      filter: drop-shadow(0px 1px 2px rgba(0, 0, 0, 0.3));\n",
       "      fill: #FFFFFF;\n",
       "    }\n",
       "  </style>\n",
       "\n",
       "      <script>\n",
       "        const buttonEl =\n",
       "          document.querySelector('#df-f703a4c5-5a65-43f7-b702-a84e7f709d0a button.colab-df-convert');\n",
       "        buttonEl.style.display =\n",
       "          google.colab.kernel.accessAllowed ? 'block' : 'none';\n",
       "\n",
       "        async function convertToInteractive(key) {\n",
       "          const element = document.querySelector('#df-f703a4c5-5a65-43f7-b702-a84e7f709d0a');\n",
       "          const dataTable =\n",
       "            await google.colab.kernel.invokeFunction('convertToInteractive',\n",
       "                                                     [key], {});\n",
       "          if (!dataTable) return;\n",
       "\n",
       "          const docLinkHtml = 'Like what you see? Visit the ' +\n",
       "            '<a target=\"_blank\" href=https://colab.research.google.com/notebooks/data_table.ipynb>data table notebook</a>'\n",
       "            + ' to learn more about interactive tables.';\n",
       "          element.innerHTML = '';\n",
       "          dataTable['output_type'] = 'display_data';\n",
       "          await google.colab.output.renderOutput(dataTable, element);\n",
       "          const docLink = document.createElement('div');\n",
       "          docLink.innerHTML = docLinkHtml;\n",
       "          element.appendChild(docLink);\n",
       "        }\n",
       "      </script>\n",
       "    </div>\n",
       "  </div>\n",
       "  "
      ],
      "text/plain": [
       "                     Random Forest\n",
       "Av_precision(macro)       0.643741\n",
       "Av_precision(micro)       0.713821\n",
       "ROC_AUC(macro)            0.956212\n",
       "ROC_AUC(micro)            0.963850\n",
       "Fit_time               1680.500000"
      ]
     },
     "execution_count": 64,
     "metadata": {},
     "output_type": "execute_result"
    }
   ],
   "source": [
    "rfo_clf = OneVsRestClassifier(RandomForestClassifier(min_samples_split=4, n_estimators=500))\n",
    "time1=time.time()\n",
    "rfo_clf.fit(X_train, y_train)\n",
    "rfo_preds = rfo_clf.predict_proba(X_test)\n",
    "fit_time = np.round(time.time() - time1,1)\n",
    "metrics_report(\"Random Forest\", y_test, rfo_preds, fit_time, df = None)"
   ]
  },
  {
   "cell_type": "code",
   "execution_count": null,
   "metadata": {
    "colab": {
     "base_uri": "https://localhost:8080/"
    },
    "executionInfo": {
     "elapsed": 360,
     "status": "ok",
     "timestamp": 1661255362203,
     "user": {
      "displayName": "mostapha bounkass",
      "userId": "09949847470110953923"
     },
     "user_tz": -120
    },
    "id": "VHuabenthXbf",
    "outputId": "d2523a4d-f00f-461b-ea24-c98e8445f462"
   },
   "outputs": [
    {
     "name": "stdout",
     "output_type": "stream",
     "text": [
      "0.17\n"
     ]
    }
   ],
   "source": [
    "threshold = cut_off(y_test, rf_preds)\n",
    "print(threshold)"
   ]
  },
  {
   "cell_type": "code",
   "execution_count": null,
   "metadata": {
    "colab": {
     "base_uri": "https://localhost:8080/"
    },
    "executionInfo": {
     "elapsed": 413,
     "status": "ok",
     "timestamp": 1661255367756,
     "user": {
      "displayName": "mostapha bounkass",
      "userId": "09949847470110953923"
     },
     "user_tz": -120
    },
    "id": "iuTWZKDqwUx6",
    "outputId": "61d57d53-2ccc-4fc4-9379-a619462b2d85"
   },
   "outputs": [
    {
     "name": "stdout",
     "output_type": "stream",
     "text": [
      "----------------------------------------------------------------------------------------------------\n",
      "Print 5 first predicted Tags vs true Tags\n",
      "----------------------------------------------------------------------------------------------------\n",
      "Predicted: [('c++', 'java'), ('c', 'objective', 'swift', 'xcode'), ('image',), ('c', 'objective')]\n",
      "True: [('c++',), ('iphone', 'swift'), ('image',), ('swift',)]\n"
     ]
    }
   ],
   "source": [
    "# Inverse transform\n",
    "threshold = cut_off(y_test,rf_preds)\n",
    "y_pred_inversed = multilabel_binarizer.inverse_transform((rf_preds>threshold)*1)\n",
    "y_test_inversed = multilabel_binarizer.inverse_transform(y_test)\n",
    "\n",
    "print(\"-\"*100)\n",
    "print(\"Print 5 first predicted Tags vs true Tags\")\n",
    "print(\"-\" * 100)\n",
    "print(\"Predicted:\", y_pred_inversed[0:4])\n",
    "print(\"True:\", y_test_inversed[0:4])"
   ]
  },
  {
   "cell_type": "markdown",
   "metadata": {},
   "source": [
    "Mpdèle de Gradient-boost:"
   ]
  },
  {
   "cell_type": "code",
   "execution_count": null,
   "metadata": {
    "colab": {
     "base_uri": "https://localhost:8080/"
    },
    "executionInfo": {
     "elapsed": 716875,
     "status": "ok",
     "timestamp": 1661256095788,
     "user": {
      "displayName": "mostapha bounkass",
      "userId": "09949847470110953923"
     },
     "user_tz": -120
    },
    "id": "Y9r_fAyPKWFw",
    "outputId": "0e73221b-a166-4848-a05e-49ef5ea78a20"
   },
   "outputs": [
    {
     "name": "stdout",
     "output_type": "stream",
     "text": [
      "                     reg_logit         knn   svm_linear  Random Forest  \\\n",
      "Av_precision(macro)   0.651701    0.428949     0.648814       0.624743   \n",
      "Av_precision(micro)   0.708355    0.477009     0.720079       0.697556   \n",
      "ROC_AUC(macro)        0.966094    0.849232     0.942065       0.948776   \n",
      "ROC_AUC(micro)        0.968779    0.871506     0.956184       0.958011   \n",
      "Fit_time             10.400000  131.200000  2270.000000     392.000000   \n",
      "\n",
      "                     GradientBoosting  \n",
      "Av_precision(macro)          0.517832  \n",
      "Av_precision(micro)          0.575087  \n",
      "ROC_AUC(macro)               0.923806  \n",
      "ROC_AUC(micro)               0.935905  \n",
      "Fit_time                   716.000000  \n",
      "CPU times: user 11min 44s, sys: 12.7 s, total: 11min 57s\n",
      "Wall time: 11min 56s\n"
     ]
    }
   ],
   "source": [
    "%%time\n",
    "gb_clf = OneVsRestClassifier(GradientBoostingClassifier())\n",
    "time1 = time.time()\n",
    "gb_clf.fit(X_train, y_train)\n",
    "gb_preds = gb_clf.predict_proba(X_test)\n",
    "fit_time = np.round(time.time() - time1,1)\n",
    "df_performance = metrics_report(\"GradientBoosting\", y_test, gb_preds, fit_time, df=df_performance)\n",
    "print(df_performance)"
   ]
  },
  {
   "cell_type": "code",
   "execution_count": null,
   "metadata": {
    "colab": {
     "base_uri": "https://localhost:8080/"
    },
    "executionInfo": {
     "elapsed": 390,
     "status": "ok",
     "timestamp": 1661256133923,
     "user": {
      "displayName": "mostapha bounkass",
      "userId": "09949847470110953923"
     },
     "user_tz": -120
    },
    "id": "2SXmxxuFiZfL",
    "outputId": "34d7abe1-2836-4dd6-bd98-551f8a441ed5"
   },
   "outputs": [
    {
     "name": "stdout",
     "output_type": "stream",
     "text": [
      "0.06580256824268968\n"
     ]
    }
   ],
   "source": [
    "threshold = cut_off(y_test, gb_preds)\n",
    "print(threshold)"
   ]
  },
  {
   "cell_type": "code",
   "execution_count": null,
   "metadata": {
    "colab": {
     "base_uri": "https://localhost:8080/"
    },
    "executionInfo": {
     "elapsed": 421,
     "status": "ok",
     "timestamp": 1661256138152,
     "user": {
      "displayName": "mostapha bounkass",
      "userId": "09949847470110953923"
     },
     "user_tz": -120
    },
    "id": "-XjaB_Ztqohs",
    "outputId": "d67c39c9-0184-413d-b4c2-2b49c24185c4"
   },
   "outputs": [
    {
     "name": "stdout",
     "output_type": "stream",
     "text": [
      "----------------------------------------------------------------------------------------------------\n",
      "Print 5 first predicted Tags vs true Tags\n",
      "----------------------------------------------------------------------------------------------------\n",
      "Predicted: [('c++', 'java', 'string'), ('c', 'c#', 'swift', 'xcode'), ('algorithm', 'android', 'image'), ('c', 'image', 'objective')]\n",
      "True: [('c++',), ('iphone', 'swift'), ('image',), ('swift',)]\n"
     ]
    }
   ],
   "source": [
    "# Inverse transform\n",
    "threshold = cut_off(y_test, gb_preds)\n",
    "y_pred_inversed = multilabel_binarizer.inverse_transform((gb_preds>threshold)*1)\n",
    "y_test_inversed = multilabel_binarizer.inverse_transform(y_test)\n",
    "\n",
    "print(\"-\"*100)\n",
    "print(\"Print 5 first predicted Tags vs true Tags\")\n",
    "print(\"-\" * 100)\n",
    "print(\"Predicted:\", y_pred_inversed[0:4])\n",
    "print(\"True:\", y_test_inversed[0:4])"
   ]
  },
  {
   "cell_type": "markdown",
   "metadata": {
    "id": "Xt6o4dT-KlvC"
   },
   "source": [
    "### <font id=\"section_3\">3.Comparaison des Modèles supervisés"
   ]
  },
  {
   "cell_type": "markdown",
   "metadata": {
    "id": "SxiC1vGKKzx7"
   },
   "source": [
    "Le choix du modèle supervisé final se basera essentiellement  sur les scores obtenus aux métriques. Nous prendrons également en compte le nombre de prédiction vide est le temps de simulation."
   ]
  },
  {
   "cell_type": "code",
   "execution_count": null,
   "metadata": {
    "colab": {
     "base_uri": "https://localhost:8080/"
    },
    "executionInfo": {
     "elapsed": 635,
     "status": "ok",
     "timestamp": 1661259988272,
     "user": {
      "displayName": "mostapha bounkass",
      "userId": "09949847470110953923"
     },
     "user_tz": -120
    },
    "id": "JCj20QpnyGsp",
    "outputId": "9007e45c-0e98-4236-a7f4-01697b9480e4"
   },
   "outputs": [
    {
     "name": "stdout",
     "output_type": "stream",
     "text": [
      "                  Av_precision(macro)  Av_precision(micro)  ROC_AUC(macro)  \\\n",
      "reg_logit                    0.651701             0.708355        0.966094   \n",
      "knn                          0.428949             0.477009        0.849232   \n",
      "svm_linear                   0.648814             0.720079        0.942065   \n",
      "Random Forest                0.624743             0.697556        0.948776   \n",
      "GradientBoosting             0.517832             0.575087        0.923806   \n",
      "\n",
      "                  ROC_AUC(micro)  Fit_time  \n",
      "reg_logit               0.968779      10.4  \n",
      "knn                     0.871506     131.2  \n",
      "svm_linear              0.956184    2270.0  \n",
      "Random Forest           0.958011     392.0  \n",
      "GradientBoosting        0.935905     716.0  \n"
     ]
    }
   ],
   "source": [
    "results_perf = df_performance.T\n",
    "print(results_perf)"
   ]
  },
  {
   "cell_type": "code",
   "execution_count": null,
   "metadata": {
    "colab": {
     "base_uri": "https://localhost:8080/",
     "height": 515
    },
    "executionInfo": {
     "elapsed": 973,
     "status": "ok",
     "timestamp": 1661259997026,
     "user": {
      "displayName": "mostapha bounkass",
      "userId": "09949847470110953923"
     },
     "user_tz": -120
    },
    "id": "y5OksPFp7Pen",
    "outputId": "87c4e629-f54b-47a2-8d0b-0bf9349a0af8"
   },
   "outputs": [
    {
     "data": {
      "image/png": "[encoded data removed]",
      "text/plain": [
       "<Figure size 792x432 with 1 Axes>"
      ]
     },
     "metadata": {
      "needs_background": "light"
     },
     "output_type": "display_data"
    }
   ],
   "source": [
    "col_model =['Av_precision(macro)', 'Av_precision(micro)', 'ROC_AUC(macro)','ROC_AUC(micro)']\n",
    "ax = results_perf[col_model].plot.bar(figsize= (11,6));\n",
    "ax.legend(loc=4,fontsize=16);\n",
    "ax.set_xticklabels(results_perf.index,rotation=80, fontsize=15);\n",
    "ax.set_title('Score comparison of models', fontsize=15);\n"
   ]
  },
  {
   "cell_type": "markdown",
   "metadata": {},
   "source": [
    "Nous pouvons remarquer que le modèle de régression logistique offre des meilleures précisions en vue des métriques considérées. Le modèle de SVM offre aussi des meilleurs scores. Cependant son temps d'ajustement est très important. Le score de random forest peut être améliorer en augmentant le paramètre max_depth, n_estimators  ou min_samples_split. Cependant cela implique un temps de calcul important pour des scores proches de la régression linéaire."
   ]
  },
  {
   "cell_type": "code",
   "execution_count": null,
   "metadata": {
    "colab": {
     "base_uri": "https://localhost:8080/",
     "height": 460
    },
    "executionInfo": {
     "elapsed": 1000,
     "status": "ok",
     "timestamp": 1661260003069,
     "user": {
      "displayName": "mostapha bounkass",
      "userId": "09949847470110953923"
     },
     "user_tz": -120
    },
    "id": "fNM0IAAxxqqj",
    "outputId": "a00d172b-ce44-419c-ded5-98a8beda5c17"
   },
   "outputs": [
    {
     "data": {
      "image/png": "[encoded data removed]",
      "text/plain": [
       "<Figure size 576x360 with 1 Axes>"
      ]
     },
     "metadata": {
      "needs_background": "light"
     },
     "output_type": "display_data"
    }
   ],
   "source": [
    "ax = results_perf['Fit_time'].plot.bar(figsize= (8,5),color='red');\n",
    "ax.set_xticklabels(results_perf.index,rotation=80, fontsize=15);\n",
    "ax.set_title('Fit time of models', fontsize=15);"
   ]
  },
  {
   "cell_type": "markdown",
   "metadata": {},
   "source": [
    "Nous  comparons le nombre de lignes dont les Tags ne sont pas prédit par les modèles:"
   ]
  },
  {
   "cell_type": "code",
   "execution_count": null,
   "metadata": {
    "colab": {
     "base_uri": "https://localhost:8080/"
    },
    "executionInfo": {
     "elapsed": 1055,
     "status": "ok",
     "timestamp": 1661260300289,
     "user": {
      "displayName": "mostapha bounkass",
      "userId": "09949847470110953923"
     },
     "user_tz": -120
    },
    "id": "lbegdH4dI1_H",
    "outputId": "d68369e8-fd2f-41ca-81d9-3d839e9a1a2d"
   },
   "outputs": [
    {
     "name": "stdout",
     "output_type": "stream",
     "text": [
      "le nombre de prédiction vide par la Regression Logistic est:  89\n",
      "le nombre de prédiction vide par le Random Forest est:        192\n",
      "le nombre de prédiction vide par le SVM:                      185\n"
     ]
    }
   ],
   "source": [
    "th_lr = cut_off(y_test,reg_logit_pred)\n",
    "count_lr = sum(((reg_logit_pred>th_lr)*1).T)\n",
    "th_rf = cut_off(y_test,rf_preds)\n",
    "count_rf= sum(((rf_preds>th_rf)*1).T)\n",
    "th_svm = cut_off(y_test,svm_pred)\n",
    "count_svm= sum(((svm_pred>th_rf)*1).T)\n",
    "print('le nombre de prédiction vide par la Regression Logistic est: ', sum(count_lr==0))\n",
    "print('le nombre de prédiction vide par le Random Forest est:       ', sum(count_rf==0))\n",
    "print('le nombre de prédiction vide par le SVM:                     ', sum(count_svm==0))"
   ]
  },
  {
   "cell_type": "markdown",
   "metadata": {
    "id": "lR6Lulan2_e-"
   },
   "source": [
    "### <font id=\"section_4\">4. word2vec embeddings"
   ]
  },
  {
   "cell_type": "markdown",
   "metadata": {},
   "source": [
    "Word2vec, comme doc2vec, permet de transformer uu groupe de mots par un ensemble de vecteurs denses. Word2vec est un type de mappage qui permet à des mots ayant une signification similaire d'avoir une représentation vectorielle similaire.\n",
    "\n",
    "Nous utilisons les features d'un modèle pré-entrainé de gensim combiné avec la régression linéaire"
   ]
  },
  {
   "cell_type": "code",
   "execution_count": null,
   "metadata": {
    "colab": {
     "base_uri": "https://localhost:8080/"
    },
    "executionInfo": {
     "elapsed": 8568,
     "status": "ok",
     "timestamp": 1661260524267,
     "user": {
      "displayName": "mostapha bounkass",
      "userId": "09949847470110953923"
     },
     "user_tz": -120
    },
    "id": "P-AW0TMaW9S7",
    "outputId": "71ecdcfc-52eb-4012-b8d9-07d94b6db7f3"
   },
   "outputs": [
    {
     "data": {
      "text/plain": [
       "19491"
      ]
     },
     "execution_count": 99,
     "metadata": {},
     "output_type": "execute_result"
    }
   ],
   "source": [
    "from gensim.models import word2vec\n",
    "#\n",
    "model_w2v = word2vec.Word2Vec(data.text_comb, size=164, window=15, min_count=3, workers=7)\n",
    "model_w2v.corpus_count"
   ]
  },
  {
   "cell_type": "code",
   "execution_count": null,
   "metadata": {
    "colab": {
     "base_uri": "https://localhost:8080/"
    },
    "executionInfo": {
     "elapsed": 409,
     "status": "ok",
     "timestamp": 1661260533746,
     "user": {
      "displayName": "mostapha bounkass",
      "userId": "09949847470110953923"
     },
     "user_tz": -120
    },
    "id": "dbR5YDiafi6b",
    "outputId": "d400ee3b-fa09-48c4-f6d6-1e63b23f3e95"
   },
   "outputs": [
    {
     "data": {
      "text/plain": [
       "['slash', 'program', 'original', 'output', 'letter', 'port']"
      ]
     },
     "execution_count": 100,
     "metadata": {},
     "output_type": "execute_result"
    }
   ],
   "source": [
    "vocab = model_w2v.wv.vocab\n",
    "list(vocab)[:6]"
   ]
  },
  {
   "cell_type": "markdown",
   "metadata": {},
   "source": [
    "Regardons les tokens les plus similaires au mot \"python\":"
   ]
  },
  {
   "cell_type": "code",
   "execution_count": null,
   "metadata": {
    "colab": {
     "base_uri": "https://localhost:8080/"
    },
    "executionInfo": {
     "elapsed": 390,
     "status": "ok",
     "timestamp": 1661260587144,
     "user": {
      "displayName": "mostapha bounkass",
      "userId": "09949847470110953923"
     },
     "user_tz": -120
    },
    "id": "7cBHaNvcNh3j",
    "outputId": "214cddb1-d721-42a8-cc08-60a66f3c9ed5"
   },
   "outputs": [
    {
     "data": {
      "text/plain": [
       "[('ipython', 0.8268296718597412),\n",
       " ('print', 0.8149738311767578),\n",
       " ('variable', 0.8042786121368408),\n",
       " ('utf', 0.8016868829727173),\n",
       " ('binary', 0.8005759119987488),\n",
       " ('vba', 0.7923832535743713),\n",
       " ('indexerror', 0.7877026796340942),\n",
       " ('scipy', 0.7862895727157593),\n",
       " ('gensim', 0.7779965400695801),\n",
       " ('plot', 0.7752940058708191)]"
      ]
     },
     "execution_count": 103,
     "metadata": {},
     "output_type": "execute_result"
    }
   ],
   "source": [
    "model_w2v.wv.most_similar(['python'])"
   ]
  },
  {
   "cell_type": "markdown",
   "metadata": {},
   "source": [
    "Nous construisons les features par addition des vecteurs des mots dans le vocabulaire de word2vect"
   ]
  },
  {
   "cell_type": "code",
   "execution_count": null,
   "metadata": {
    "id": "3qwe5bLNKdW_"
   },
   "outputs": [],
   "source": [
    "def document_vector(doc):\n",
    "    \"\"\"Create document vectors by summing word vectors. Remove out-of-vocabulary words.\"\"\"\n",
    "    doc = [word for word in doc if word in model_w2v.wv.vocab]\n",
    "    return np.sum(model_w2v.wv[doc], axis=0)"
   ]
  },
  {
   "cell_type": "code",
   "execution_count": null,
   "metadata": {
    "colab": {
     "base_uri": "https://localhost:8080/"
    },
    "executionInfo": {
     "elapsed": 256362,
     "status": "ok",
     "timestamp": 1661260887439,
     "user": {
      "displayName": "mostapha bounkass",
      "userId": "09949847470110953923"
     },
     "user_tz": -120
    },
    "id": "_K8e6Hx_alBU",
    "outputId": "7334c748-9017-460e-a4f6-f8e8ef7c8597"
   },
   "outputs": [
    {
     "name": "stdout",
     "output_type": "stream",
     "text": [
      "CPU times: user 7min 2s, sys: 1min 8s, total: 8min 11s\n",
      "Wall time: 4min 15s\n"
     ]
    }
   ],
   "source": [
    "%%time\n",
    "# Create train and test split\n",
    "X_train, X_test, y_train, y_test = train_test_split(data.text_comb, y_binarized, test_size=0.2, random_state=42)\n",
    "#\n",
    "wv_train_feat = X_train.apply(document_vector)\n",
    "wv_test_feat = X_test.apply(document_vector)\n",
    "#\n",
    "clf_lr = OneVsRestClassifier(LogisticRegression(solver='newton-cg'))\n",
    "clf_lr.fit(list(wv_train_feat), y_train)\n",
    "lr_pred = clf_lr.predict_proba(list(wv_test_feat))"
   ]
  },
  {
   "cell_type": "code",
   "execution_count": null,
   "metadata": {
    "colab": {
     "base_uri": "https://localhost:8080/"
    },
    "executionInfo": {
     "elapsed": 1131,
     "status": "ok",
     "timestamp": 1661261042023,
     "user": {
      "displayName": "mostapha bounkass",
      "userId": "09949847470110953923"
     },
     "user_tz": -120
    },
    "id": "XX9Da0Jef-Tv",
    "outputId": "32a757c1-6fd5-4cd1-a72d-9c3a78badb64"
   },
   "outputs": [
    {
     "name": "stdout",
     "output_type": "stream",
     "text": [
      "                     reg_logit_wv\n",
      "Av_precision(macro)      0.504189\n",
      "Av_precision(micro)      0.616867\n",
      "ROC_AUC(macro)           0.938493\n",
      "ROC_AUC(micro)           0.950487\n",
      "Fit_time               255.000000\n"
     ]
    }
   ],
   "source": [
    "df_perf_wv = metrics_report(\"reg_logit_wv\", y_test, lr_pred,255, df=None)\n",
    "print(df_perf_wv)"
   ]
  },
  {
   "cell_type": "markdown",
   "metadata": {
    "id": "qKvD_1kjbxGU"
   },
   "source": [
    "Le score de la précision moyenne de la régression logistique est nettement moins que le score obtenu avec la matrice Tf-idf . Nous allons essayer de l'améliorer en jouant avec les hyperparamètres de l'apprentissage.\n",
    "\n",
    " ou réutiliser un model pré-entrainé significativement large et impliquant un corpus similaire à notre jeu de données."
   ]
  },
  {
   "cell_type": "code",
   "execution_count": null,
   "metadata": {
    "id": "o9ix8uK0du6u"
   },
   "outputs": [],
   "source": [
    "# paramètres à varier size et windiw\n",
    "size = [64, 128, 256, 400]\n",
    "W =[5, 10, 15, 20]\n",
    "sc1 = []\n",
    "sc2 = []\n",
    "score1 = {}\n",
    "score2 = {}\n",
    "for w in W:\n",
    "  for s in size: \n",
    "     model_w2v = word2vec.Word2Vec(data.text_comb, size=s, window=w, min_count=3, workers=7)\n",
    "     wv_train_feat, wv_test_feat, y_train, y_test = train_test_split(data.text_comb.apply(document_vector), y_binarized, test_size=0.2, random_state=42)\n",
    "     clf_lr = OneVsRestClassifier(LogisticRegression(solver='newton-cg'))\n",
    "     clf_lr.fit(list(wv_train_feat), y_train)\n",
    "     lr_pred = clf_lr.predict_proba(list(wv_test_feat))\n",
    "     sc1.append(average_precision_score(y_test, lr_pred,average='macro'))\n",
    "     sc2.append(roc_auc_score(y_test, lr_pred, multi_class=\"ovr\" ,average='macro'))\n",
    "  score1[w] = sc1\n",
    "  score2[w] = sc2\n",
    "  sc1=[] \n",
    "  sc2=[] \n"
   ]
  },
  {
   "cell_type": "code",
   "execution_count": null,
   "metadata": {
    "colab": {
     "base_uri": "https://localhost:8080/",
     "height": 334
    },
    "executionInfo": {
     "elapsed": 1838,
     "status": "ok",
     "timestamp": 1661266264693,
     "user": {
      "displayName": "mostapha bounkass",
      "userId": "09949847470110953923"
     },
     "user_tz": -120
    },
    "id": "QQxTLTkJBkER",
    "outputId": "8dee02a6-6231-4caf-a503-98ed6f9ec1d8"
   },
   "outputs": [
    {
     "data": {
      "image/png": "[encoded data removed]",
      "text/plain": [
       "<Figure size 864x360 with 2 Axes>"
      ]
     },
     "metadata": {
      "needs_background": "light"
     },
     "output_type": "display_data"
    }
   ],
   "source": [
    "fig, (ax1, ax2) = plt.subplots(1, 2, figsize=(12,5))\n",
    "ax1.plot(size, score1[5], c='r')\n",
    "ax1.plot(size, score1[10], c='b')\n",
    "ax1.plot(size, score1[15], c='k')\n",
    "ax1.plot(size, score1[20], c='m')\n",
    "ax1.set_xlabel('sizes')\n",
    "ax1.set_ylabel('average precision')\n",
    "ax2.legend(labels = ['wind =5','wind =10','wind = 15','wind = 20'])\n",
    "ax2.plot(size, score2[5], c='r')\n",
    "ax2.plot(size, score2[10], c='b')\n",
    "ax2.plot(size, score2[15], c='k')\n",
    "ax2.plot(size, score2[20], c='m')\n",
    "ax2.set_xlabel('sizes')\n",
    "ax2.set_ylabel('roc_auc_score')\n",
    "ax2.legend(labels = ['wind =5','wind =10','wind = 15','wind = 20']);"
   ]
  },
  {
   "cell_type": "markdown",
   "metadata": {},
   "source": [
    "Nous remarquons que le paramètre de fenêtre \"window\" améliore nettement la précision. Cependant, le paramètre 'size' (la longeur des vecteurs des mots) à partir d'un plateau, la précision stagne voir décroît. "
   ]
  },
  {
   "cell_type": "code",
   "execution_count": null,
   "metadata": {
    "id": "N3wINa52Pirr"
   },
   "outputs": [],
   "source": [
    "time1 = time.time()\n",
    "model_w2v = word2vec.Word2Vec(data.text_comb, size=264, window=20, min_count=3, workers=7, sg=1)\n",
    "wv_train_feat, wv_test_feat, y_train, y_test = train_test_split(data.text_comb.apply(document_vector), y_binarized, test_size=0.2, random_state=42)\n",
    "clf_lr = OneVsRestClassifier(LogisticRegression(solver='newton-cg'))\n",
    "clf_lr.fit(list(wv_train_feat), y_train)\n",
    "lr_pred = clf_lr.predict_proba(list(wv_test_feat))\n",
    "fit_time = np.round(time.time() - time1,1)"
   ]
  },
  {
   "cell_type": "code",
   "execution_count": null,
   "metadata": {
    "colab": {
     "base_uri": "https://localhost:8080/"
    },
    "executionInfo": {
     "elapsed": 818,
     "status": "ok",
     "timestamp": 1661267845666,
     "user": {
      "displayName": "mostapha bounkass",
      "userId": "09949847470110953923"
     },
     "user_tz": -120
    },
    "id": "spevgb0pO2OP",
    "outputId": "2c3536b4-8586-4d56-ed45-271b216bc82a"
   },
   "outputs": [
    {
     "name": "stdout",
     "output_type": "stream",
     "text": [
      "                     reg_logit_tfidf  reg_logit_wv\n",
      "Av_precision(macro)         0.651701      0.588561\n",
      "Av_precision(micro)         0.708355      0.689829\n",
      "ROC_AUC(macro)              0.966094      0.950093\n",
      "ROC_AUC(micro)              0.968779      0.961318\n",
      "Fit_time                   10.400000    351.300000\n"
     ]
    }
   ],
   "source": [
    "dt = pd.DataFrame(df_performance.reg_logit).rename({'reg_logit':'reg_logit_tfidf'},axis='columns')\n",
    "df_perf_wv = metrics_report(\"reg_logit_wv\", y_test, lr_pred, fit_time, df=dt)\n",
    "print(df_perf_wv)"
   ]
  },
  {
   "cell_type": "markdown",
   "metadata": {
    "id": "ryWCL22hNK5I"
   },
   "source": [
    "### <font id=\"section_5\">5. BERT Embeddings"
   ]
  },
  {
   "cell_type": "markdown",
   "metadata": {},
   "source": [
    "BERT abréviation de Bi-directional Encoder Representations from Transformers.\n",
    "La famille de modèles BERT utilise l'architecture de l'encodeur Transformer pour traiter chaque jeton de texte d'entrée dans le contexte complet de tous les jetons avant et après, d'où le nom : Représentations d'encodeur bidirectionnel de Transformers.\n",
    "\n",
    "Les modèles BERT sont généralement pré-formés sur un grand corpus de texte, puis affinés pour des tâches spécifiques."
   ]
  },
  {
   "cell_type": "markdown",
   "metadata": {
    "id": "OxJbgHnvnNyp"
   },
   "source": [
    "#### <font id=\"section_51\"> 5.1 BERT hub Tensorflow"
   ]
  },
  {
   "cell_type": "markdown",
   "metadata": {},
   "source": [
    "Installation des transformeurs et tensorflow-text pour bert. Nous utilisons un GPU comme le calcul des features demande un effort important."
   ]
  },
  {
   "cell_type": "code",
   "execution_count": null,
   "metadata": {
    "id": "5Hr-ImjNp8gX"
   },
   "outputs": [],
   "source": [
    "!pip install transformers"
   ]
  },
  {
   "cell_type": "code",
   "execution_count": null,
   "metadata": {
    "id": "yMwBSETujhuo"
   },
   "outputs": [],
   "source": [
    "!pip install tensorflow_text"
   ]
  },
  {
   "cell_type": "code",
   "execution_count": 3,
   "metadata": {
    "executionInfo": {
     "elapsed": 3140,
     "status": "ok",
     "timestamp": 1661295127007,
     "user": {
      "displayName": "mostapha bounkass",
      "userId": "09949847470110953923"
     },
     "user_tz": -120
    },
    "id": "1wTcjv4JluvT"
   },
   "outputs": [],
   "source": [
    "import tensorflow as tf\n",
    "import tensorflow_hub as hub\n",
    "import tensorflow_text as text  # Imports TF ops for preprocessing."
   ]
  },
  {
   "cell_type": "code",
   "execution_count": 13,
   "metadata": {
    "executionInfo": {
     "elapsed": 230,
     "status": "ok",
     "timestamp": 1661295202063,
     "user": {
      "displayName": "mostapha bounkass",
      "userId": "09949847470110953923"
     },
     "user_tz": -120
    },
    "id": "Zo6diMcQLKgs"
   },
   "outputs": [],
   "source": [
    "dt =data.copy()\n",
    "dt.text_comb = dt.text_comb.apply(lambda text : \" \".join(text))"
   ]
  },
  {
   "cell_type": "code",
   "execution_count": 14,
   "metadata": {
    "executionInfo": {
     "elapsed": 407,
     "status": "ok",
     "timestamp": 1661295203763,
     "user": {
      "displayName": "mostapha bounkass",
      "userId": "09949847470110953923"
     },
     "user_tz": -120
    },
    "id": "3vkrgt4BMjvN"
   },
   "outputs": [],
   "source": [
    "BERT_MODEL = \"https://tfhub.dev/google/experts/bert/wiki_books/2\" \n",
    "PREPROCESS_MODEL = \"https://tfhub.dev/tensorflow/bert_en_uncased_preprocess/3\""
   ]
  },
  {
   "cell_type": "code",
   "execution_count": 15,
   "metadata": {
    "executionInfo": {
     "elapsed": 32194,
     "status": "ok",
     "timestamp": 1661295240587,
     "user": {
      "displayName": "mostapha bounkass",
      "userId": "09949847470110953923"
     },
     "user_tz": -120
    },
    "id": "eFukqAUfqdFB"
   },
   "outputs": [],
   "source": [
    "preprocess = hub.load(PREPROCESS_MODEL)\n",
    "bert = hub.load(BERT_MODEL)"
   ]
  },
  {
   "cell_type": "markdown",
   "metadata": {},
   "source": [
    "pour de raison de mémoire, la fonction suivante construit la matrice des features de Bert morceau par morceau "
   ]
  },
  {
   "cell_type": "code",
   "execution_count": 16,
   "metadata": {
    "executionInfo": {
     "elapsed": 8,
     "status": "ok",
     "timestamp": 1661295241384,
     "user": {
      "displayName": "mostapha bounkass",
      "userId": "09949847470110953923"
     },
     "user_tz": -120
    },
    "id": "xDpe1yPcqtQw"
   },
   "outputs": [],
   "source": [
    "def feature_bert_tfh(sentences, key, b_size) :\n",
    "    batch_size = b_size\n",
    "\n",
    "    for step in range(len(sentences)//batch_size) :\n",
    "        idx = step*batch_size\n",
    "        inputs = preprocess(sentences[idx:idx+batch_size])\n",
    "        feat = bert(inputs)[key]\n",
    "\n",
    "        if step ==0 :\n",
    "            features = feat\n",
    "        else :\n",
    "            features = np.concatenate((features,feat))\n",
    "\n",
    "    if idx+batch_size<len(sentences):\n",
    "       inputs = preprocess(sentences[idx+batch_size:len(sentences)])\n",
    "       feat = bert(inputs)[key]\n",
    "       features = np.concatenate((features,feat))      \n",
    "\n",
    "    return features"
   ]
  },
  {
   "cell_type": "markdown",
   "metadata": {},
   "source": [
    "Régression logistique combinée avec les features de Bert"
   ]
  },
  {
   "cell_type": "code",
   "execution_count": 25,
   "metadata": {
    "colab": {
     "base_uri": "https://localhost:8080/",
     "height": 206
    },
    "executionInfo": {
     "elapsed": 568,
     "status": "ok",
     "timestamp": 1661296542291,
     "user": {
      "displayName": "mostapha bounkass",
      "userId": "09949847470110953923"
     },
     "user_tz": -120
    },
    "id": "kYYM3bYk9dY6",
    "outputId": "2478d812-afc1-49cf-cf66-9b28111c1dbd"
   },
   "outputs": [
    {
     "data": {
      "text/html": [
       "\n",
       "  <div id=\"df-0ae1c43e-7589-4fb6-a706-cd0c9aea169e\">\n",
       "    <div class=\"colab-df-container\">\n",
       "      <div>\n",
       "<style scoped>\n",
       "    .dataframe tbody tr th:only-of-type {\n",
       "        vertical-align: middle;\n",
       "    }\n",
       "\n",
       "    .dataframe tbody tr th {\n",
       "        vertical-align: top;\n",
       "    }\n",
       "\n",
       "    .dataframe thead th {\n",
       "        text-align: right;\n",
       "    }\n",
       "</style>\n",
       "<table border=\"1\" class=\"dataframe\">\n",
       "  <thead>\n",
       "    <tr style=\"text-align: right;\">\n",
       "      <th></th>\n",
       "      <th>reg_logit_tfidf</th>\n",
       "      <th>reg_logit_wv</th>\n",
       "      <th>reg_log_bert_tfhub</th>\n",
       "    </tr>\n",
       "  </thead>\n",
       "  <tbody>\n",
       "    <tr>\n",
       "      <th>Av_precision(macro)</th>\n",
       "      <td>0.651701</td>\n",
       "      <td>0.588561</td>\n",
       "      <td>0.366203</td>\n",
       "    </tr>\n",
       "    <tr>\n",
       "      <th>Av_precision(micro)</th>\n",
       "      <td>0.708355</td>\n",
       "      <td>0.689829</td>\n",
       "      <td>0.430634</td>\n",
       "    </tr>\n",
       "    <tr>\n",
       "      <th>ROC_AUC(macro)</th>\n",
       "      <td>0.966094</td>\n",
       "      <td>0.950093</td>\n",
       "      <td>0.872900</td>\n",
       "    </tr>\n",
       "    <tr>\n",
       "      <th>ROC_AUC(micro)</th>\n",
       "      <td>0.968779</td>\n",
       "      <td>0.961318</td>\n",
       "      <td>0.891715</td>\n",
       "    </tr>\n",
       "    <tr>\n",
       "      <th>Fit_time</th>\n",
       "      <td>10.400000</td>\n",
       "      <td>351.300000</td>\n",
       "      <td>628.400000</td>\n",
       "    </tr>\n",
       "  </tbody>\n",
       "</table>\n",
       "</div>\n",
       "      <button class=\"colab-df-convert\" onclick=\"convertToInteractive('df-0ae1c43e-7589-4fb6-a706-cd0c9aea169e')\"\n",
       "              title=\"Convert this dataframe to an interactive table.\"\n",
       "              style=\"display:none;\">\n",
       "        \n",
       "  <svg xmlns=\"http://www.w3.org/2000/svg\" height=\"24px\"viewBox=\"0 0 24 24\"\n",
       "       width=\"24px\">\n",
       "    <path d=\"M0 0h24v24H0V0z\" fill=\"none\"/>\n",
       "    <path d=\"M18.56 5.44l.94 2.06.94-2.06 2.06-.94-2.06-.94-.94-2.06-.94 2.06-2.06.94zm-11 1L8.5 8.5l.94-2.06 2.06-.94-2.06-.94L8.5 2.5l-.94 2.06-2.06.94zm10 10l.94 2.06.94-2.06 2.06-.94-2.06-.94-.94-2.06-.94 2.06-2.06.94z\"/><path d=\"M17.41 7.96l-1.37-1.37c-.4-.4-.92-.59-1.43-.59-.52 0-1.04.2-1.43.59L10.3 9.45l-7.72 7.72c-.78.78-.78 2.05 0 2.83L4 21.41c.39.39.9.59 1.41.59.51 0 1.02-.2 1.41-.59l7.78-7.78 2.81-2.81c.8-.78.8-2.07 0-2.86zM5.41 20L4 18.59l7.72-7.72 1.47 1.35L5.41 20z\"/>\n",
       "  </svg>\n",
       "      </button>\n",
       "      \n",
       "  <style>\n",
       "    .colab-df-container {\n",
       "      display:flex;\n",
       "      flex-wrap:wrap;\n",
       "      gap: 12px;\n",
       "    }\n",
       "\n",
       "    .colab-df-convert {\n",
       "      background-color: #E8F0FE;\n",
       "      border: none;\n",
       "      border-radius: 50%;\n",
       "      cursor: pointer;\n",
       "      display: none;\n",
       "      fill: #1967D2;\n",
       "      height: 32px;\n",
       "      padding: 0 0 0 0;\n",
       "      width: 32px;\n",
       "    }\n",
       "\n",
       "    .colab-df-convert:hover {\n",
       "      background-color: #E2EBFA;\n",
       "      box-shadow: 0px 1px 2px rgba(60, 64, 67, 0.3), 0px 1px 3px 1px rgba(60, 64, 67, 0.15);\n",
       "      fill: #174EA6;\n",
       "    }\n",
       "\n",
       "    [theme=dark] .colab-df-convert {\n",
       "      background-color: #3B4455;\n",
       "      fill: #D2E3FC;\n",
       "    }\n",
       "\n",
       "    [theme=dark] .colab-df-convert:hover {\n",
       "      background-color: #434B5C;\n",
       "      box-shadow: 0px 1px 3px 1px rgba(0, 0, 0, 0.15);\n",
       "      filter: drop-shadow(0px 1px 2px rgba(0, 0, 0, 0.3));\n",
       "      fill: #FFFFFF;\n",
       "    }\n",
       "  </style>\n",
       "\n",
       "      <script>\n",
       "        const buttonEl =\n",
       "          document.querySelector('#df-0ae1c43e-7589-4fb6-a706-cd0c9aea169e button.colab-df-convert');\n",
       "        buttonEl.style.display =\n",
       "          google.colab.kernel.accessAllowed ? 'block' : 'none';\n",
       "\n",
       "        async function convertToInteractive(key) {\n",
       "          const element = document.querySelector('#df-0ae1c43e-7589-4fb6-a706-cd0c9aea169e');\n",
       "          const dataTable =\n",
       "            await google.colab.kernel.invokeFunction('convertToInteractive',\n",
       "                                                     [key], {});\n",
       "          if (!dataTable) return;\n",
       "\n",
       "          const docLinkHtml = 'Like what you see? Visit the ' +\n",
       "            '<a target=\"_blank\" href=https://colab.research.google.com/notebooks/data_table.ipynb>data table notebook</a>'\n",
       "            + ' to learn more about interactive tables.';\n",
       "          element.innerHTML = '';\n",
       "          dataTable['output_type'] = 'display_data';\n",
       "          await google.colab.output.renderOutput(dataTable, element);\n",
       "          const docLink = document.createElement('div');\n",
       "          docLink.innerHTML = docLinkHtml;\n",
       "          element.appendChild(docLink);\n",
       "        }\n",
       "      </script>\n",
       "    </div>\n",
       "  </div>\n",
       "  "
      ],
      "text/plain": [
       "                     reg_logit_tfidf  reg_logit_wv  reg_log_bert_tfhub\n",
       "Av_precision(macro)         0.651701      0.588561            0.366203\n",
       "Av_precision(micro)         0.708355      0.689829            0.430634\n",
       "ROC_AUC(macro)              0.966094      0.950093            0.872900\n",
       "ROC_AUC(micro)              0.968779      0.961318            0.891715\n",
       "Fit_time                   10.400000    351.300000          628.400000"
      ]
     },
     "execution_count": 25,
     "metadata": {},
     "output_type": "execute_result"
    }
   ],
   "source": [
    "reg_logit_clf = OneVsRestClassifier(LogisticRegression(solver='liblinear'))\n",
    "time1=time.time()\n",
    "feat_bert = feature_bert_tfh(dt.text_comb, 'pooled_output',128)\n",
    "# split features\n",
    "Bertfet_train, Bertfet_test, y_train, y_test = train_test_split(feat_bert, y_binarized, test_size=0.25)\n",
    "reg_logit_clf.fit(Bertfet_train, y_train)\n",
    "#Prediction\n",
    "bert_plr = reg_logit_clf.predict_proba(Bertfet_test)\n",
    "fit_time = np.round(time.time() - time1,1)\n",
    "df_perf_brt_tfh = metrics_report(\"reg_log_bert_tfhub\", y_test, bert_plr,fit_time, df=df)\n",
    "print(df_perf_brt_tfh)"
   ]
  },
  {
   "cell_type": "markdown",
   "metadata": {},
   "source": [
    "Le score de la régression logistique avec Bert est nettement moins bon  que le score obtenu avec la matrice Tf-idf. Il faut réutiliser un autre model pré-entrainé significativement large et impliquant un corpus similaire à notre jeu de données."
   ]
  },
  {
   "cell_type": "markdown",
   "metadata": {},
   "source": [
    "#### <font id=\"section_52\"> 5.2 -U sentence-transformers"
   ]
  },
  {
   "cell_type": "markdown",
   "metadata": {},
   "source": [
    "SentenceTransformer('all-MiniLM-L6-v2') Il s'agit d'un modèle de transformation de phrases qui représente les phrases avec des vecteurs denses de 384 dimensions."
   ]
  },
  {
   "cell_type": "code",
   "execution_count": null,
   "metadata": {
    "id": "R6srNN75Njpf"
   },
   "outputs": [],
   "source": [
    "# install -U sentence-transformers\n",
    "!pip install -U sentence-transformers"
   ]
  },
  {
   "cell_type": "code",
   "execution_count": null,
   "metadata": {
    "id": "AXC1iCAxODvh"
   },
   "outputs": [],
   "source": [
    "from sentence_transformers import SentenceTransformer\n",
    "#download a pretrained model\n",
    "model_bert = SentenceTransformer('all-MiniLM-L6-v2')\n",
    "#model_bert = SentenceTransformer('all-mpnet-base-v2')"
   ]
  },
  {
   "cell_type": "markdown",
   "metadata": {},
   "source": [
    "pour de raison de mémoire, la fonction suivante construit la matrice des features de Bert morceau par morceau "
   ]
  },
  {
   "cell_type": "code",
   "execution_count": 28,
   "metadata": {
    "executionInfo": {
     "elapsed": 321,
     "status": "ok",
     "timestamp": 1661296700870,
     "user": {
      "displayName": "mostapha bounkass",
      "userId": "09949847470110953923"
     },
     "user_tz": -120
    },
    "id": "bCoNgClfOX8J"
   },
   "outputs": [],
   "source": [
    "def feature_bert_ST(sentences, b_size) :\n",
    "    batch_size = b_size\n",
    "    for step in range(len(sentences)//batch_size) :\n",
    "        idx = step*batch_size\n",
    "        feat = model_bert.encode(sentences[idx:idx+batch_size])\n",
    "\n",
    "        if step ==0 :\n",
    "            features = feat\n",
    "        else :\n",
    "            features = np.concatenate((features,feat))\n",
    "\n",
    "     \n",
    "    if idx+batch_size<len(sentences):\n",
    "    \n",
    "       features = np.concatenate(features,model_bert.encode(sentences[idx+batch_size:len(sentences)]))\n",
    "\n",
    "    return features"
   ]
  },
  {
   "cell_type": "markdown",
   "metadata": {},
   "source": [
    "Régression logistique combinée avec les features de Bert 'all-MiniLM-L6-v2'."
   ]
  },
  {
   "cell_type": "code",
   "execution_count": 38,
   "metadata": {
    "colab": {
     "base_uri": "https://localhost:8080/"
    },
    "executionInfo": {
     "elapsed": 28682,
     "status": "ok",
     "timestamp": 1661297543314,
     "user": {
      "displayName": "mostapha bounkass",
      "userId": "09949847470110953923"
     },
     "user_tz": -120
    },
    "id": "RV5Ir-J7QToW",
    "outputId": "47f6b278-058c-4686-bcb4-cb794d89df42"
   },
   "outputs": [
    {
     "name": "stdout",
     "output_type": "stream",
     "text": [
      "                     reg_logit_tfidf  reg_logit_wv  reg_log_bert_tfhub  \\\n",
      "Av_precision(macro)         0.651701      0.588561            0.366203   \n",
      "Av_precision(micro)         0.708355      0.689829            0.430634   \n",
      "ROC_AUC(macro)              0.966094      0.950093            0.872900   \n",
      "ROC_AUC(micro)              0.968779      0.961318            0.891715   \n",
      "Fit_time                   10.400000    351.300000          628.400000   \n",
      "\n",
      "                     df_perf_brt_ST  \n",
      "Av_precision(macro)        0.637932  \n",
      "Av_precision(micro)        0.724792  \n",
      "ROC_AUC(macro)             0.964328  \n",
      "ROC_AUC(micro)             0.971773  \n",
      "Fit_time                  16.800000  \n",
      "CPU times: user 40 s, sys: 5.83 s, total: 45.8 s\n",
      "Wall time: 28.1 s\n"
     ]
    }
   ],
   "source": [
    "%%time\n",
    "batch_size = 64\n",
    "sentence_embeddings = model_bert.encode(dt.text_comb)\n",
    "# split features\n",
    "time1 = time.time()\n",
    "Bertfet_train, Bertfet_test, y_train, y_test = train_test_split(sentence_embeddings, y_binarized, test_size=0.25)\n",
    "reg_logit_clf = OneVsRestClassifier(LogisticRegression())\n",
    "reg_logit_clf.fit(Bertfet_train, y_train)\n",
    "#Prediction\n",
    "bert_pred_lr = reg_logit_clf.predict_proba(Bertfet_test)\n",
    "\n",
    "fit_time = np.round(time.time() - time1,1)\n",
    "df_perf_brt_ST = metrics_report(\"df_perf_brt_ST\", y_test, bert_pred_lr, fit_time, df=df_perf_brt_tfh)\n",
    "print(df_perf_brt_ST)"
   ]
  },
  {
   "cell_type": "markdown",
   "metadata": {
    "id": "l1aj_wuHJ-bp"
   },
   "source": [
    "#### <font id=\"section_53\"> 5.3 USE - Universal Sentence Encoder"
   ]
  },
  {
   "cell_type": "markdown",
   "metadata": {},
   "source": [
    "Le score de la régression logistique avec Bert est nettement moins bon  que le score obtenu avec la matrice Tf-idf. Il faut réutiliser un autre model pré-entrainé significativement large et impliquant un corpus similaire à notre jeu de données."
   ]
  },
  {
   "cell_type": "code",
   "execution_count": 39,
   "metadata": {
    "executionInfo": {
     "elapsed": 16622,
     "status": "ok",
     "timestamp": 1661297837021,
     "user": {
      "displayName": "mostapha bounkass",
      "userId": "09949847470110953923"
     },
     "user_tz": -120
    },
    "id": "VrPcsgL1KMox"
   },
   "outputs": [],
   "source": [
    "#First download a pretrained model\n",
    "Model_use = hub.load(\"https://tfhub.dev/google/universal-sentence-encoder/4\")"
   ]
  },
  {
   "cell_type": "code",
   "execution_count": 40,
   "metadata": {
    "executionInfo": {
     "elapsed": 244,
     "status": "ok",
     "timestamp": 1661297942087,
     "user": {
      "displayName": "mostapha bounkass",
      "userId": "09949847470110953923"
     },
     "user_tz": -120
    },
    "id": "25kke8uMKbn0"
   },
   "outputs": [],
   "source": [
    "def feature_USE(sentences, b_size) :\n",
    "    batch_size = b_size\n",
    "\n",
    "    for step in range(len(sentences)//batch_size) :\n",
    "        idx = step*batch_size\n",
    "        feat = Model_use(sentences[idx:idx+batch_size])\n",
    "\n",
    "        if step ==0 :\n",
    "            features = feat\n",
    "        else :\n",
    "            features = np.concatenate((features,feat))\n",
    "\n",
    "     \n",
    "    if idx+batch_size<len(sentences):\n",
    "       feat = Model_use(sentences[idx+batch_size:len(sentences)])\n",
    "       features = np.concatenate((features,feat))\n",
    "\n",
    "    return features"
   ]
  },
  {
   "cell_type": "code",
   "execution_count": 41,
   "metadata": {
    "colab": {
     "base_uri": "https://localhost:8080/"
    },
    "executionInfo": {
     "elapsed": 34243,
     "status": "ok",
     "timestamp": 1661298160155,
     "user": {
      "displayName": "mostapha bounkass",
      "userId": "09949847470110953923"
     },
     "user_tz": -120
    },
    "id": "giZSD63bLhMg",
    "outputId": "92ccb898-1463-4b14-f9d8-f07a6decc4c4"
   },
   "outputs": [
    {
     "name": "stdout",
     "output_type": "stream",
     "text": [
      "                     reg_logit_tfidf  reg_logit_wv  reg_log_bert_tfhub  \\\n",
      "Av_precision(macro)         0.651701      0.588561            0.366203   \n",
      "Av_precision(micro)         0.708355      0.689829            0.430634   \n",
      "ROC_AUC(macro)              0.966094      0.950093            0.872900   \n",
      "ROC_AUC(micro)              0.968779      0.961318            0.891715   \n",
      "Fit_time                   10.400000    351.300000          628.400000   \n",
      "\n",
      "                     df_perf_brt_ST  reg_logit with use  \n",
      "Av_precision(macro)        0.637932            0.631853  \n",
      "Av_precision(micro)        0.724792            0.730458  \n",
      "ROC_AUC(macro)             0.964328            0.965771  \n",
      "ROC_AUC(micro)             0.971773            0.973241  \n",
      "Fit_time                  16.800000           33.600000  \n",
      "CPU times: user 51.4 s, sys: 7.94 s, total: 59.3 s\n",
      "Wall time: 34 s\n"
     ]
    }
   ],
   "source": [
    "%%time\n",
    "time1 = time.time()\n",
    "batch_size = 64\n",
    "use_features = feature_USE(dt.text_comb, batch_size)\n",
    "# split features\n",
    "usefet_train, usefet_test, y_train, y_test = train_test_split(use_features, y_binarized, test_size=0.25)\n",
    "reg_logit_clf = OneVsRestClassifier(LogisticRegression())\n",
    "reg_logit_clf.fit(usefet_train, y_train)\n",
    "#Prediction\n",
    "usepred_lr = reg_logit_clf.predict_proba(usefet_test)\n",
    "\n",
    "fit_time = np.round(time.time() - time1,1)\n",
    "df_perf_use = metrics_report(\"reg_logit with use\", y_test, usepred_lr, fit_time, df=df_perf_brt_ST)\n",
    "print(df_perf_use)"
   ]
  },
  {
   "cell_type": "markdown",
   "metadata": {
    "id": "_31Gb-b5JSRT"
   },
   "source": []
  },
  {
   "cell_type": "code",
   "execution_count": 48,
   "metadata": {
    "colab": {
     "base_uri": "https://localhost:8080/",
     "height": 520
    },
    "executionInfo": {
     "elapsed": 1186,
     "status": "ok",
     "timestamp": 1661300146656,
     "user": {
      "displayName": "mostapha bounkass",
      "userId": "09949847470110953923"
     },
     "user_tz": -120
    },
    "id": "PvGuM7WVJLfk",
    "outputId": "cf387156-af78-4b3e-b2e9-4b3b37a7aaaa"
   },
   "outputs": [
    {
     "data": {
      "image/png": "[encoded data removed]",
      "text/plain": [
       "<Figure size 792x432 with 1 Axes>"
      ]
     },
     "metadata": {
      "needs_background": "light"
     },
     "output_type": "display_data"
    }
   ],
   "source": [
    "df_result = df_perf_use.T\n",
    "col_model =['Av_precision(macro)', 'Av_precision(micro)', 'ROC_AUC(macro)','ROC_AUC(micro)']\n",
    "ax = df_result[col_model].plot.bar(figsize= (11,6));\n",
    "ax.legend(loc=4,fontsize=16);\n",
    "ax.set_xticklabels(df_result.index,rotation=80, fontsize=15);\n",
    "ax.set_title('Score comparison of Embeddings features with logisticregression', fontsize=15);"
   ]
  },
  {
   "cell_type": "code",
   "execution_count": 47,
   "metadata": {
    "colab": {
     "base_uri": "https://localhost:8080/",
     "height": 470
    },
    "executionInfo": {
     "elapsed": 280,
     "status": "ok",
     "timestamp": 1661300121569,
     "user": {
      "displayName": "mostapha bounkass",
      "userId": "09949847470110953923"
     },
     "user_tz": -120
    },
    "id": "rapQsnC3MedL",
    "outputId": "91483fb8-b64e-420b-c273-5c78cb2b2c88"
   },
   "outputs": [
    {
     "data": {
      "image/png": "[encoded data removed]",
      "text/plain": [
       "<Figure size 576x360 with 1 Axes>"
      ]
     },
     "metadata": {
      "needs_background": "light"
     },
     "output_type": "display_data"
    }
   ],
   "source": [
    "ax = df_result['Fit_time'].plot.bar(figsize= (8,5),color='red');\n",
    "ax.set_xticklabels(df_result.index,rotation=80, fontsize=15);\n",
    "ax.set_title('Fit time of Embeddings features with logisticregression', fontsize=15);"
   ]
  },
  {
   "cell_type": "markdown",
   "metadata": {},
   "source": [
    "Le score de la régression logistique avec U sentence-transformers et USE\n",
    "est nettement proche supérieurement du score obtenu avec la matrice Tf-idf. Cependant même avec GPU le temps de calcul est beaucoup important en comparaison avec la matrice Tf-idf."
   ]
  },
  {
   "cell_type": "markdown",
   "metadata": {
    "id": "ek9mjxAds_3e"
   },
   "source": [
    "### <font id=\"section_6\"> 6. Entrainement avec des approches non supervisées"
   ]
  },
  {
   "cell_type": "markdown",
   "metadata": {},
   "source": [
    "#### <font id=\"section_61\"> 6.1 LAD modèle"
   ]
  },
  {
   "cell_type": "markdown",
   "metadata": {
    "id": "dZlgTc__RoSU"
   },
   "source": [
    "Latent Dirichlet Allocation (LDA) est une technique de clustering non supervisée utilisée pour l'analyse de texte. Le nombre de sujets peut être vu comme le nombre de clusters. En faisant de la modélisation thématique, nous construisons des groupes de mots plutôt que des groupes de textes. Un texte est donc un mélange de tous les topics, chacun ayant un poids spécifique.\n",
    " \n",
    "Le module *\"LdaMulticore de Gensim\"*  permet d'une parallélisation, on choisit celui qui possède un score de cohérence maximum suivant le nombre de topic. Le score de coherence mesure le degré de similitude sémantique des mots les plus représentés pour chaque topic."
   ]
  },
  {
   "cell_type": "code",
   "execution_count": 49,
   "metadata": {
    "colab": {
     "base_uri": "https://localhost:8080/"
    },
    "executionInfo": {
     "elapsed": 2114,
     "status": "ok",
     "timestamp": 1661300206548,
     "user": {
      "displayName": "mostapha bounkass",
      "userId": "09949847470110953923"
     },
     "user_tz": -120
    },
    "id": "GplZMEGl32x2",
    "outputId": "f91edd1d-503d-436a-837a-5ae4fa4c7d94"
   },
   "outputs": [
    {
     "name": "stdout",
     "output_type": "stream",
     "text": [
      "[[(0, 1), (1, 1), (2, 1), (3, 1), (4, 1), (5, 1), (6, 1), (7, 1), (8, 1), (9, 1), (10, 1), (11, 1), (12, 1), (13, 1), (14, 1), (15, 1), (16, 1), (17, 1), (18, 1), (19, 1), (20, 1), (21, 1), (22, 1), (23, 1), (24, 1), (25, 1), (26, 1), (27, 1), (28, 1), (29, 1)]]\n",
      "android\n",
      "array\n",
      "beautify\n",
      "bit\n",
      "bracket\n",
      "class\n",
      "code\n",
      "comma\n",
      "console\n",
      "correct\n",
      "fit\n"
     ]
    }
   ],
   "source": [
    "import gensim.corpora as corpora\n",
    "import gensim\n",
    "from gensim.utils import simple_preprocess\n",
    "from pprint import pprint\n",
    "from gensim.models import CoherenceModel\n",
    "# Create Dictionary\n",
    "id2word = corpora.Dictionary(data.text_comb)\n",
    "# Create Corpus\n",
    "Texts = data.text_comb\n",
    "# Term Document Frequency\n",
    "corpus = [id2word.doc2bow(text) for text in Texts]\n",
    "# View\n",
    "print(corpus[:1])\n",
    "count = 0\n",
    "for tk in id2word.values():\n",
    "    print(tk)\n",
    "    count += 1\n",
    "    if count > 10:\n",
    "        break"
   ]
  },
  {
   "cell_type": "markdown",
   "metadata": {},
   "source": [
    "Exemple de réalisation du modèle LDA avec 10 topics:"
   ]
  },
  {
   "cell_type": "code",
   "execution_count": null,
   "metadata": {
    "id": "8B1lgJHEvPIa"
   },
   "outputs": [],
   "source": [
    "# number of topics\n",
    "num_topics = 10\n",
    "# Build LDA model\n",
    "lda_model = gensim.models.LdaMulticore(corpus=corpus,\n",
    "                                       id2word=id2word,\n",
    "                                       num_topics=num_topics, passes=2, iterations=25)"
   ]
  },
  {
   "cell_type": "code",
   "execution_count": null,
   "metadata": {
    "colab": {
     "base_uri": "https://localhost:8080/"
    },
    "executionInfo": {
     "elapsed": 228,
     "status": "ok",
     "timestamp": 1660298035515,
     "user": {
      "displayName": "mostapha bounkass",
      "userId": "09949847470110953923"
     },
     "user_tz": -120
    },
    "id": "wgXoZmFUiaIN",
    "outputId": "a86e1abd-1057-409c-d696-8cb6d49f3c5c"
   },
   "outputs": [
    {
     "name": "stdout",
     "output_type": "stream",
     "text": [
      "[(7,\n",
      "  '0.026*\"database\" + 0.015*\"table\" + 0.012*\"data\" + 0.011*\"sql\" + '\n",
      "  '0.010*\"store\" + 0.009*\"create\" + 0.009*\"mysql\" + 0.009*\"query\" + '\n",
      "  '0.009*\"server\" + 0.008*\"code\"'),\n",
      " (9,\n",
      "  '0.026*\"android\" + 0.018*\"app\" + 0.012*\"api\" + 0.009*\"user\" + '\n",
      "  '0.008*\"application\" + 0.008*\"code\" + 0.007*\"device\" + 0.006*\"service\" + '\n",
      "  '0.006*\"access\" + 0.006*\"client\"'),\n",
      " (6,\n",
      "  '0.013*\"spring\" + 0.011*\"data\" + 0.010*\"view\" + 0.010*\"json\" + 0.009*\"mvc\" + '\n",
      "  '0.009*\"asp\" + 0.009*\"request\" + 0.009*\"create\" + 0.008*\"controller\" + '\n",
      "  '0.008*\"code\"'),\n",
      " (2,\n",
      "  '0.010*\"java\" + 0.009*\"question\" + 0.008*\"difference\" + 0.007*\"class\" + '\n",
      "  '0.007*\"method\" + 0.006*\"performance\" + 0.006*\"type\" + 0.006*\"implement\" + '\n",
      "  '0.006*\"implementation\" + 0.006*\"code\"'),\n",
      " (1,\n",
      "  '0.009*\"window\" + 0.008*\"file\" + 0.008*\"code\" + 0.007*\"error\" + 0.007*\"add\" '\n",
      "  '+ 0.006*\"follow\" + 0.006*\"create\" + 0.005*\"application\" + 0.005*\"solution\" '\n",
      "  '+ 0.005*\"event\"')]\n"
     ]
    }
   ],
   "source": [
    "# Print the Keyword in 5 topics\n",
    "pprint(lda_model.print_topics(5))\n",
    "doc_lda = lda_model[corpus]"
   ]
  },
  {
   "cell_type": "code",
   "execution_count": null,
   "metadata": {
    "colab": {
     "base_uri": "https://localhost:8080/"
    },
    "executionInfo": {
     "elapsed": 5953,
     "status": "ok",
     "timestamp": 1660298105625,
     "user": {
      "displayName": "mostapha bounkass",
      "userId": "09949847470110953923"
     },
     "user_tz": -120
    },
    "id": "n1_UHlgsV4ho",
    "outputId": "24f49a9c-01bb-4a7e-992d-9baaba879c4a"
   },
   "outputs": [
    {
     "name": "stdout",
     "output_type": "stream",
     "text": [
      "\n",
      "Coherence Score:  0.5352\n"
     ]
    }
   ],
   "source": [
    "#Print Coherence Score\n",
    "coherence_model_lda = CoherenceModel(model=lda_model, \n",
    "                                     texts=Texts, \n",
    "                                     dictionary=id2word, \n",
    "                                     coherence='c_v')\n",
    "coherence_lda = coherence_model_lda.get_coherence()\n",
    "print('\\nCoherence Score: ', round(coherence_lda,4))"
   ]
  },
  {
   "cell_type": "markdown",
   "metadata": {
    "id": "OwTYLg94YEM7"
   },
   "source": [
    "Nous allons utiliser le score de la cohérence pour le modèle LDA afin de choisir les hyperparmètres qui maximisent cette score. Nous considérons les paramètres suivants:\n",
    "\n",
    "- Nombre de topic: K\n",
    "\n",
    "- Hyperparamètre de Dirichlet α : paramètre de densité document-topic\n",
    "\n",
    "- Hyperparamètre de Dirichlet η : paramètre de densité de mots-topic"
   ]
  },
  {
   "cell_type": "code",
   "execution_count": null,
   "metadata": {
    "id": "GXUKigR8o3Hh"
   },
   "outputs": [],
   "source": [
    "topics_nb = range(10,31)\n",
    "# Alpha parameter\n",
    "alpha = ['symmetric', 'asymmetric']\n",
    "# Eta parameter\n",
    "eta = ['symmetric', 'auto']\n",
    "CS={}\n",
    "cs={}\n",
    "csn=[]\n",
    "for a in alpha:\n",
    "   for e in eta:\n",
    "     for k in topics_nb:\n",
    "        lda_model = gensim.models.LdaMulticore(corpus=corpus, id2word=id2word, num_topics=k, random_state=42,\n",
    "                                 passes=10, alpha=a, eta=e,workers=7)\n",
    "        coherence_model_lda = CoherenceModel(model=lda_model, texts=Texts, \n",
    "                                     dictionary=id2word, \n",
    "                                     coherence='c_v')\n",
    "        csn.append(coherence_model_lda.get_coherence())\n",
    "     cs[e] = csn\n",
    "     csn=[]\n",
    "   CS[a] = cs \n",
    "   cs={}"
   ]
  },
  {
   "cell_type": "code",
   "execution_count": null,
   "metadata": {
    "colab": {
     "base_uri": "https://localhost:8080/",
     "height": 376
    },
    "executionInfo": {
     "elapsed": 1029,
     "status": "ok",
     "timestamp": 1660316561952,
     "user": {
      "displayName": "mostapha bounkass",
      "userId": "09949847470110953923"
     },
     "user_tz": -120
    },
    "id": "hQ-XAyt5Yy2Z",
    "outputId": "56053e54-db60-4de1-e328-33950c75521d"
   },
   "outputs": [
    {
     "data": {
      "image/png": "[encoded data removed]",
      "text/plain": [
       "<Figure size 576x432 with 1 Axes>"
      ]
     },
     "metadata": {
      "needs_background": "light"
     },
     "output_type": "display_data"
    }
   ],
   "source": [
    "fig = plt.figure(figsize=(8, 6))\n",
    "topics_nb = range(10,31)\n",
    "leg=[]\n",
    "for k0 in CS.keys():\n",
    "  for k1 in CS[k0].keys():\n",
    "     plt.plot(topics_nb,CS[k0][k1])\n",
    "     leg.append((k0, k1))\n",
    "plt.xticks(topics_nb, topics_nb,rotation=10)\n",
    "plt.legend(leg,fontsize=12);"
   ]
  },
  {
   "cell_type": "code",
   "execution_count": null,
   "metadata": {
    "colab": {
     "base_uri": "https://localhost:8080/"
    },
    "executionInfo": {
     "elapsed": 340,
     "status": "ok",
     "timestamp": 1660316554427,
     "user": {
      "displayName": "mostapha bounkass",
      "userId": "09949847470110953923"
     },
     "user_tz": -120
    },
    "id": "ZYjq_XA1dhqp",
    "outputId": "926abd6e-fdf8-4b4c-b399-702c01b1057f"
   },
   "outputs": [
    {
     "name": "stdout",
     "output_type": "stream",
     "text": [
      "We get the highest coherence score 0.5551661808395734, when:\n",
      " alpha = 'asymmetric', eta = 'symmetric' and number of topics equals 17\n"
     ]
    }
   ],
   "source": [
    "#find parameters in which the coherence is the highest\n",
    "opt={}\n",
    "for a in alpha:\n",
    "  opt[a]=max(CS[a])\n",
    "K = list(opt.keys())\n",
    "if max(CS[K[0]][opt[K[0]]]) < max(CS[K[1]][opt[K[1]]]):\n",
    "  alpha_opt = K[1]\n",
    "  eta_opt = opt[K[1]]\n",
    "else:\n",
    "  alpha_opt = K[0]\n",
    "  eta_opt = opt[K[0]]\n",
    "\n",
    "nb_opt = topics_nb[np.argmax(CS['asymmetric']['symmetric'])]\n",
    "CS_opt = max(CS['asymmetric']['symmetric'])\n",
    "print(f\"We get the highest coherence score {CS_opt}, when:\\n alpha = '{alpha_opt}', eta = '{eta_opt}' and number of topics equals {nb_opt}.\")  \n"
   ]
  },
  {
   "cell_type": "markdown",
   "metadata": {},
   "source": [
    "Maintenant, nous considérons, le nombre de topics optimal nb_opt=17, puis nous\n",
    "allons analyser la coherence suivant les deux paramètres alpha et eta."
   ]
  },
  {
   "cell_type": "code",
   "execution_count": null,
   "metadata": {
    "colab": {
     "base_uri": "https://localhost:8080/"
    },
    "executionInfo": {
     "elapsed": 3306867,
     "status": "ok",
     "timestamp": 1660579436561,
     "user": {
      "displayName": "mostapha bounkass",
      "userId": "09949847470110953923"
     },
     "user_tz": -120
    },
    "id": "z8TJhWpcDqlA",
    "outputId": "62fd02bc-eec6-4c4e-de6d-305b3459e00a"
   },
   "outputs": [
    {
     "name": "stderr",
     "output_type": "stream",
     "text": [
      "/usr/local/lib/python3.7/dist-packages/gensim/models/ldamodel.py:1023: RuntimeWarning: divide by zero encountered in log\n",
      "  diff = np.log(self.expElogbeta)\n"
     ]
    }
   ],
   "source": [
    "topics_nb = 17\n",
    "# Alpha parameter\n",
    "alpha = [0.01, 0.3, 0.9,'symmetric', 'asymmetric']\n",
    "# Eta parameter\n",
    "eta = [0.01, 0.3, 0.9,'symmetric', 'auto']\n",
    "CS={}\n",
    "cs=[]\n",
    "for a in alpha:\n",
    "   for e in eta:\n",
    "     lda_model = gensim.models.LdaMulticore(corpus=corpus, id2word=id2word, num_topics=topics_nb, random_state=42,\n",
    "                                 passes=10, alpha=a, eta=e, workers=7)\n",
    "     coherence_model_lda = CoherenceModel(model=lda_model, texts=Texts, \n",
    "                                     dictionary=id2word, coherence='c_v')\n",
    "     cs.append(coherence_model_lda.get_coherence())\n",
    "   CS[a] = cs\n",
    "   cs=[] "
   ]
  },
  {
   "cell_type": "code",
   "execution_count": null,
   "metadata": {
    "colab": {
     "base_uri": "https://localhost:8080/",
     "height": 336
    },
    "executionInfo": {
     "elapsed": 821,
     "status": "ok",
     "timestamp": 1660579705457,
     "user": {
      "displayName": "mostapha bounkass",
      "userId": "09949847470110953923"
     },
     "user_tz": -120
    },
    "id": "ObDAv9l9Qyvc",
    "outputId": "66ac4149-bd63-48f2-bbd7-3b808fc26eea"
   },
   "outputs": [
    {
     "data": {
      "image/png": "[encoded data removed]",
      "text/plain": [
       "<Figure size 432x288 with 1 Axes>"
      ]
     },
     "metadata": {
      "needs_background": "light"
     },
     "output_type": "display_data"
    }
   ],
   "source": [
    "fig = plt.figure()\n",
    "x=range(len(eta))\n",
    "for key in CS.keys():\n",
    "  plt.plot(CS[key])\n",
    "plt.xticks(x, eta,fontsize=12,rotation=60)\n",
    "plt.yticks(fontsize=12)\n",
    "plt.ylabel('Coherence',fontsize=12)\n",
    "plt.xlabel(' eta',fontsize=12)\n",
    "plt.legend(labels=alpha,fontsize=12)\n",
    "plt.show()"
   ]
  },
  {
   "cell_type": "code",
   "execution_count": null,
   "metadata": {
    "colab": {
     "base_uri": "https://localhost:8080/"
    },
    "executionInfo": {
     "elapsed": 257,
     "status": "ok",
     "timestamp": 1660579629337,
     "user": {
      "displayName": "mostapha bounkass",
      "userId": "09949847470110953923"
     },
     "user_tz": -120
    },
    "id": "Q-X-rUEgQfUg",
    "outputId": "3ab99d3a-dd53-4f70-fa10-09bf3e40d48a"
   },
   "outputs": [
    {
     "name": "stdout",
     "output_type": "stream",
     "text": [
      "With ten topics, the coherence score is highest when alpha = asymmetric and eta = symmetric\n"
     ]
    }
   ],
   "source": [
    "max_0=[]\n",
    "for k in range(0,len(CS.keys())):\n",
    "   max_0.append(max(CS[alpha[k]]))\n",
    "\n",
    "max_key = alpha[np.argmax(max_0)]\n",
    "max_val = eta[np.argmax(CS[max_key])]\n",
    "\n",
    "print(f'With ten topics, the coherence score is highest when alpha = {max_key} and eta = {max_val}')"
   ]
  },
  {
   "cell_type": "markdown",
   "metadata": {
    "id": "T7YTbiZtNjCB"
   },
   "source": [
    "On visualise les résultats à l'aide du package pyLDAvis. les sujets sont représentés avec des cercles dont la taille est liée à la popularité du sujet.\n",
    "Un bon modèle de sujet aura de grands cercles non superposés dispersés dans tout le graphique\n",
    "\n",
    "Sur le côté droit, les mots-clés les plus pertinents du sujet sélectionné."
   ]
  },
  {
   "cell_type": "code",
   "execution_count": null,
   "metadata": {
    "id": "pN96J2zI0PQc"
   },
   "outputs": [],
   "source": [
    "pip install pyLDAvis"
   ]
  },
  {
   "cell_type": "code",
   "execution_count": null,
   "metadata": {
    "colab": {
     "base_uri": "https://localhost:8080/",
     "height": 881
    },
    "executionInfo": {
     "elapsed": 168577,
     "status": "ok",
     "timestamp": 1660317783186,
     "user": {
      "displayName": "mostapha bounkass",
      "userId": "09949847470110953923"
     },
     "user_tz": -120
    },
    "id": "prxg1OlwHWB-",
    "outputId": "75597321-508a-47aa-dd73-6bc5263cb243"
   },
   "outputs": [
    {
     "data": {
      "text/html": [
       "\n",
       "<link rel=\"stylesheet\" type=\"text/css\" href=\"https://cdn.jsdelivr.net/gh/bmabey/pyLDAvis@3.3.1/pyLDAvis/js/ldavis.v1.0.0.css\">\n",
       "\n",
       "\n",
       "<div id=\"ldavis_el541398435114428964066524240\"></div>\n",
       "<script type=\"text/javascript\">\n",
       "\n",
       "var ldavis_el541398435114428964066524240_data = {\"mdsDat\": {\"x\": [0.2175629395353368, 0.01217024036676361, 0.27322804462513056, -0.045190955662804594, 0.2259124543271941, -0.07802212139292061, 0.06572205676118294, 0.2534964208870209, -0.07177967235940522, 0.3709762073157038, 0.10695558246759215, -0.23614023258959047, -0.2502454027999693, 0.05801373161508726, -0.09636618945665307, -0.3660317673181555, -0.44026133632151376], \"y\": [0.001431190756334439, 0.09759748184188935, -0.12115637351738373, 0.19485669466577055, 0.14611644779769306, -0.06845075866941042, -0.09795654648725279, -0.24742557963029052, 0.32055319810089167, 0.10254577294202373, 0.3216336078060059, 0.23558667102621242, -0.06291994025449271, -0.3497568890280463, -0.3291847251495675, -0.22813044509953237, 0.08466019289915516], \"topics\": [1, 2, 3, 4, 5, 6, 7, 8, 9, 10, 11, 12, 13, 14, 15, 16, 17], \"cluster\": [1, 1, 1, 1, 1, 1, 1, 1, 1, 1, 1, 1, 1, 1, 1, 1, 1], \"Freq\": [11.38810156758388, 10.30823243763025, 9.88781133764023, 9.590892940509256, 8.536407178974013, 7.629048193231168, 7.377199170951259, 5.843567263792772, 5.3811022901735415, 4.65416393994965, 4.590644248263474, 3.914152594088443, 3.0930417746614887, 2.9914463148881922, 2.7301839476565744, 1.0726060494217948, 1.0113987505840047]}, \"tinfo\": {\"Term\": [\"file\", \"image\", \"python\", \"string\", \"spring\", \"android\", \"data\", \"error\", \"array\", \"request\", \"javascript\", \"database\", \"object\", \"function\", \"class\", \"window\", \"command\", \"key\", \"c++\", \"memory\", \"token\", \"redirect\", \"email\", \"authenticate\", \"restful\", \"authorization\", \"cors\", \"cookie\", \"sends\", \"credential\", \"oauth\", \"ssl\", \"cooky\", \"jwt\", \"timeout\", \"websocket\", \"tcp\", \"jersey\", \"webapi\", \"authorize\", \"request\", \"authentication\", \"secure\", \"socket\", \"endpoint\", \"login\", \"send\", \"client\", \"password\", \"response\", \"url\", \"server\", \"service\", \"api\", \"ajax\", \"http\", \"connection\", \"security\", \"post\", \"access\", \"user\", \"rest\", \"json\", \"app\", \"data\", \"application\", \"code\", \"error\", \"await\", \"webdriver\", \"deserialize\", \"util\", \"typescript\", \"mutex\", \"multithreading\", \"concurrently\", \"posix\", \"multithreaded\", \"caller\", \"wsdl\", \"subdirectory\", \"pytorch\", \"wav\", \"endless\", \"footprint\", \"asyncio\", \"zipped\", \"sdks\", \"g++\", \"asynchronous\", \"async\", \"atomic\", \"boost\", \"c++\", \"objective\", \"undefined\", \"thread\", \"std\", \"c\", \"static\", \"pointer\", \"block\", \"compiler\", \"program\", \"queue\", \"safe\", \"compile\", \"class\", \"lock\", \"code\", \"c#\", \"function\", \"library\", \"write\", \"understand\", \"object\", \"method\", \"question\", \"create\", \"java\", \"reference\", \"follow\", \"difference\", \"implement\", \"time\", \"studio\", \"visual\", \"gradle\", \"eclipse\", \"flutter\", \"apk\", \"intellij\", \"nuget\", \"upgraded\", \"pycharm\", \"uninstall\", \"ndk\", \"ionic\", \"msbuild\", \"breakpoints\", \"breakpoint\", \"svn\", \"workspace\", \"checkout\", \"cocoapods\", \"debug\", \"osx\", \"git\", \"upgrade\", \"xcode\", \"branch\", \"build\", \"ide\", \"project\", \"sdk\", \"maven\", \"jar\", \"release\", \"version\", \"android\", \"error\", \"app\", \"file\", \"fail\", \"folder\", \"github\", \"application\", \"issue\", \"update\", \"add\", \"library\", \"follow\", \"code\", \"change\", \"create\", \"disadvantage\", \"natively\", \"settle\", \"hybrid\", \"okhttp\", \"boil\", \"grammar\", \"standardize\", \"dive\", \"idiom\", \"definitive\", \"mathematical\", \"uuid\", \"meaningful\", \"modular\", \"comfortable\", \"pitfall\", \"argue\", \"cite\", \"webbrowser\", \"honestly\", \"understandable\", \"discuss\", \"foreach\", \"advantage\", \"workflow\", \"robust\", \"choice\", \"conclusion\", \"popular\", \"benefit\", \"wikipedia\", \"people\", \"experience\", \"language\", \"happy\", \"opinion\", \"easy\", \"approach\", \"decide\", \"subject\", \"feel\", \"question\", \"term\", \"lot\", \"alternative\", \"answer\", \"practice\", \"prefer\", \"real\", \"support\", \"feature\", \"base\", \"standard\", \"learn\", \"write\", \"provide\", \"library\", \"simple\", \"java\", \"understand\", \"time\", \"difference\", \"start\", \"height\", \"bootstrap\", \"resize\", \"keyboard\", \"popup\", \"layout\", \"storyboard\", \"uiview\", \"iframe\", \"orientation\", \"horizontal\", \"landscape\", \"vertical\", \"portrait\", \"vertically\", \"swipe\", \"tableview\", \"xib\", \"uiviewcontroller\", \"horizontally\", \"video\", \"player\", \"modal\", \"youtube\", \"bar\", \"photo\", \"corner\", \"screen\", \"navigation\", \"view\", \"button\", \"iphone\", \"image\", \"swift\", \"audio\", \"upload\", \"display\", \"size\", \"custom\", \"content\", \"app\", \"change\", \"code\", \"file\", \"set\", \"add\", \"create\", \"html\", \"user\", \"character\", \"utf\", \"unicode\", \"postgres\", \"scikit\", \"escape\", \"virtualenv\", \"regex\", \"sqlalchemy\", \"concatenate\", \"literal\", \"clause\", \"ascii\", \"comma\", \"regression\", \"nan\", \"occurrence\", \"hashmap\", \"locale\", \"prepared\", \"string\", \"datetime\", \"sql\", \"postgresql\", \"procedure\", \"query\", \"table\", \"date\", \"encode\", \"column\", \"insert\", \"mysql\", \"split\", \"row\", \"database\", \"format\", \"convert\", \"statement\", \"store\", \"select\", \"data\", \"return\", \"result\", \"follow\", \"time\", \"code\", \"error\", \"server\", \"relationship\", \"ef\", \"entity\", \"razor\", \"foreign\", \"viewmodel\", \"dbcontext\", \"mongoose\", \"javafx\", \"relational\", \"coredata\", \"dto\", \"rollback\", \"membership\", \"fluent\", \"ioc\", \"checkboxes\", \"asax\", \"karma\", \"poco\", \"association\", \"mvc\", \"model\", \"asp\", \"persist\", \"schema\", \"mongodb\", \"layer\", \"database\", \"validation\", \"role\", \"transaction\", \"core\", \"db\", \"angularjs\", \"framework\", \"data\", \"controller\", \"create\", \"pattern\", \"django\", \"view\", \"class\", \"application\", \"table\", \"object\", \"add\", \"user\", \"update\", \"code\", \"project\", \"question\", \"docker\", \"shell\", \"npm\", \"gem\", \"pip\", \"anaconda\", \"centos\", \"conda\", \"homebrew\", \"sudo\", \"stdout\", \"rvm\", \"dockerfile\", \"node_modules\", \"filesystem\", \"ini\", \"composer\", \"bundler\", \"bat\", \"stderr\", \"bash\", \"ubuntu\", \"xampp\", \"terminal\", \"ssh\", \"install\", \"command\", \"directory\", \"instal\", \"script\", \"linux\", \"window\", \"file\", \"path\", \"package\", \"module\", \"python\", \"environment\", \"folder\", \"error\", \"mac\", \"follow\", \"version\", \"download\", \"server\", \"set\", \"lambda\", \"operator\", \"tuple\", \"iterator\", \"similarity\", \"comprehension\", \"traverse\", \"decorator\", \"groupby\", \"variadic\", \"ternary\", \"woocommerce\", \"legal\", \"fuzzy\", \"iterable\", \"iterates\", \"inversion\", \"multidimensional\", \"tuples\", \"nonzero\", \"iterate\", \"array\", \"argument\", \"dictionary\", \"overload\", \"generic\", \"struct\", \"pas\", \"passing\", \"nest\", \"object\", \"function\", \"expression\", \"type\", \"parameter\", \"loop\", \"constructor\", \"return\", \"method\", \"list\", \"variable\", \"json\", \"class\", \"define\", \"code\", \"follow\", \"element\", \"python\", \"string\", \"question\", \"notification\", \"safari\", \"webkit\", \"anchor\", \"tablet\", \"phonegap\", \"battery\", \"gitlab\", \"wifi\", \"puppeteer\", \"chromium\", \"onclick\", \"divs\", \"scrollbar\", \"dp\", \"snap\", \"sticky\", \"playground\", \"proguard\", \"navigationview\", \"dom\", \"mouse\", \"firefox\", \"autocomplete\", \"chrome\", \"jquery\", \"foreground\", \"mobile\", \"javascript\", \"explorer\", \"browser\", \"event\", \"phone\", \"webview\", \"bluetooth\", \"dialog\", \"div\", \"device\", \"html\", \"element\", \"android\", \"ui\", \"window\", \"scroll\", \"button\", \"google\", \"app\", \"user\", \"http\", \"code\", \"application\", \"fragment\", \"leak\", \"mb\", \"gpu\", \"accuracy\", \"classification\", \"neural\", \"sleep\", \"classifier\", \"realtime\", \"instrument\", \"viewpager\", \"decrease\", \"consumption\", \"collector\", \"idle\", \"tenant\", \"grows\", \"gc\", \"thumb\", \"heap\", \"ipython\", \"memory\", \"ram\", \"training\", \"physical\", \"max\", \"allocate\", \"limit\", \"cpu\", \"increase\", \"usage\", \"size\", \"multi\", \"process\", \"space\", \"time\", \"scale\", \"network\", \"thread\", \"question\", \"start\", \"data\", \"understand\", \"method\", \"cache\", \"optimization\", \"benchmark\", \"collapse\", \"multiplication\", \"estimate\", \"jit\", \"hierarchical\", \"scientific\", \"sas\", \"assembler\", \"ghc\", \"bellow\", \"interpolation\", \"bdd\", \"benchmarking\", \"expectation\", \"pi\", \"asm\", \"raspberry\", \"operand\", \"faster\", \"slow\", \"optimize\", \"alignment\", \"algorithm\", \"math\", \"performance\", \"fast\", \"speed\", \"micro\", \"intel\", \"tree\", \"improve\", \"distance\", \"iteration\", \"instruction\", \"calculate\", \"efficient\", \"compute\", \"vector\", \"gcc\", \"result\", \"time\", \"bit\", \"difference\", \"binary\", \"code\", \"c\", \"implementation\", \"operation\", \"node\", \"question\", \"panda\", \"dataframe\", \"numpy\", \"plot\", \"excel\", \"matplotlib\", \"tensorflow\", \"scipy\", \"kera\", \"spark\", \"eloquent\", \"blur\", \"visualize\", \"aar\", \"spreadsheet\", \"histogram\", \"density\", \"xlsx\", \"sklearn\", \"matlab\", \"csv\", \"slice\", \"curve\", \"dataset\", \"matrix\", \"python\", \"notebook\", \"pdf\", \"column\", \"convert\", \"data\", \"format\", \"output\", \"file\", \"row\", \"read\", \"create\", \"code\", \"follow\", \"array\", \"color\", \"webpack\", \"pyspark\", \"border\", \"alpha\", \"latitude\", \"longitude\", \"bitmap\", \"recyclerview\", \"babel\", \"gradient\", \"rgb\", \"hover\", \"ffmpeg\", \"rdd\", \"jpeg\", \"gif\", \"galaxy\", \"pil\", \"drawer\", \"material\", \"opengl\", \"marker\", \"pixel\", \"white\", \"black\", \"opencv\", \"transparent\", \"image\", \"png\", \"card\", \"map\", \"draw\", \"android\", \"convert\", \"background\", \"google\", \"code\", \"api\", \"change\", \"result\", \"library\", \"spring\", \"boot\", \"tomcat\", \"bean\", \"jsp\", \"kotlin\", \"jsf\", \"scoped\", \"mockito\", \"javadoc\", \"logger\", \"httpd\", \"jsr\", \"autowired\", \"glassfish\", \"springframework\", \"nullpointerexception\", \"rds\", \"gunicorn\", \"jboss\", \"laravel\", \"mock\", \"servlet\", \"injection\", \"inject\", \"annotation\", \"annotate\", \"jdbc\", \"junit\", \"nginx\", \"configuration\", \"apache\", \"jpa\", \"dependency\", \"java\", \"configure\", \"class\", \"xml\", \"service\", \"application\", \"exception\", \"method\", \"error\", \"reactive\", \"family\", \"optimisation\", \"toolkit\", \"flux\", \"apt\", \"chmod\", \"amqp\", \"flatten\", \"databinding\", \"swagger\", \"clojure\", \"mod_wsgi\", \"jms\", \"reactor\", \"worksheet\", \"outlook\", \"easy_install\", \"cortex\", \"swiftui\", \"ansi\", \"vim\", \"bus\", \"wpf\", \"lastly\", \"emulate\", \"sheet\", \"bold\", \"linux\", \"single\", \"simplest\", \"double\", \"equivalent\", \"behaves\", \"architecture\", \"window\", \"timezone\", \"decrypt\", \"utc\", \"firestore\", \"wkwebview\", \"rsa\", \"scrollview\", \"aes\", \"uitableview\", \"webgl\", \"decryption\", \"spinner\", \"uicollectionview\", \"coordinatorlayout\", \"tty\", \"jetpack\", \"ipc\", \"compound\", \"deterministic\", \"hijack\", \"interrupt\", \"encryption\", \"backup\", \"serial\", \"private\", \"encrypt\", \"key\", \"public\", \"restore\", \"openssl\", \"time\", \"plist\"], \"Freq\": [4896.0, 1912.0, 2434.0, 1925.0, 984.0, 2303.0, 3538.0, 3539.0, 1200.0, 1491.0, 1386.0, 1582.0, 2035.0, 2324.0, 2206.0, 1749.0, 1256.0, 998.0, 1397.0, 937.0, 415.2809409158501, 242.27203437623243, 215.537450710323, 198.60482561585815, 162.32235667842798, 132.3202146819766, 132.1929648117227, 123.8285800928686, 131.00864549313485, 122.18921455594777, 121.70266290727176, 247.3959567992495, 110.53895161906485, 101.72162729836255, 88.93851642137584, 86.81994254263479, 84.01015112135156, 83.43667382404095, 79.34537727508517, 75.11407175360335, 1444.6816277830162, 513.391068495083, 212.76708798543277, 222.73612597767325, 174.31546931600377, 358.4365134196042, 842.663446838589, 927.2117403904641, 376.82558662690565, 559.8677701683317, 617.2821610914765, 1426.76498251225, 774.4399811456709, 1012.191318891334, 369.26540914772005, 1283.425679601711, 453.477428712707, 306.3983442265711, 646.2325641468934, 664.8940134839823, 835.7907256959951, 390.6978693993869, 483.686138528029, 658.3176173743711, 648.9230289639727, 571.3659729217859, 624.8180826302464, 470.2120489152271, 102.7047528411301, 79.12629948361696, 64.67616829109781, 56.30537441000349, 51.374502149222586, 48.40278750435309, 46.891687473866014, 43.64001596885256, 41.053857199982616, 39.4921405121532, 38.13615218445301, 36.729361917663184, 34.63558167218788, 33.063458326218075, 32.9092460119129, 32.77436475991005, 32.21175673421338, 31.933536890450423, 31.634613741444145, 31.311457283904716, 77.18823696664369, 237.2090568491531, 278.29707537129536, 76.94376542114536, 152.66951951578795, 1193.2123527950816, 261.47750715370904, 158.58320336501143, 720.2238730589936, 142.4606033202103, 902.1110734732474, 348.67671764922443, 259.32005560777907, 356.69728656750874, 298.80192842310237, 588.3736142800465, 145.23107496724995, 158.48109768209986, 397.1512400700764, 812.2875323088805, 175.7049352321637, 1091.2161096355794, 330.368966437271, 570.1209535076256, 479.2572714941703, 547.4007174835641, 470.3183227150693, 486.573584490942, 545.8308869992172, 499.6661177205812, 501.1632559994015, 416.4184419301662, 354.5721358061926, 455.6650995672836, 369.8223676240915, 364.8484791176443, 365.62125840536913, 914.8014022413006, 650.5898570450686, 319.70565392454984, 288.7978783119541, 122.4548293120713, 109.43389354991557, 104.49558872585739, 80.13843944684051, 74.62200249200546, 56.328761027610234, 53.73531957505446, 51.182177273985, 47.575310650838254, 42.288483332269344, 42.0926858837442, 39.184896979696674, 37.74115136764203, 36.528948151599565, 33.755449023852755, 33.612332237524164, 503.6060998032954, 109.54971103048261, 424.76671187250315, 148.51881279271097, 568.7410214907133, 146.10977957607727, 959.8062979393161, 124.55385082752476, 1372.0231638734328, 282.10333172678827, 168.31049474841072, 166.5175453625479, 301.05358931887474, 821.9335553299363, 1008.5222700747545, 1378.0068103221258, 930.1103997135336, 1171.4405576671788, 346.8900900723684, 308.82088420997826, 300.3928076420231, 633.2107183754264, 499.0768957921482, 517.375406063284, 546.6560201260103, 456.9142380814297, 559.1234312694047, 598.8234716657029, 489.73554951553746, 458.86592554359913, 73.54935842953778, 39.54161002198034, 38.69100365759173, 37.94720972621084, 31.118353757397507, 29.915116601854276, 29.301021429742562, 28.857448692163086, 28.222198258404756, 27.785731146012928, 27.454458531755417, 24.177950067828196, 23.830672288724212, 23.486946424358962, 23.346810997515718, 22.52499525446487, 22.128270799806927, 21.93078577690155, 21.92557283024506, 21.615326186501107, 41.11818609848965, 29.585090210462628, 52.83283906011338, 57.363735484099905, 250.3641481911248, 72.69949189774388, 54.32350117870564, 167.9091159567815, 58.47268348944023, 92.52878678076135, 140.21481159894242, 77.4041232817771, 329.2489207115229, 254.28218668731458, 339.7880155943389, 93.6971763845251, 97.15700710515729, 366.8295146556867, 380.83237645585245, 208.38498370623898, 104.27516634986937, 218.4994865080925, 967.0798618288757, 175.3143948938118, 416.56726764720594, 192.27421673542133, 537.8428388887836, 213.47263288911583, 179.4787760955214, 223.09262583838537, 385.17607009343203, 269.785457720937, 402.4931233356809, 263.34836825097085, 237.97611827717208, 433.71543793831813, 308.75960895992574, 344.7270518026063, 323.99349473498114, 333.4147672127405, 315.85777835889894, 342.7154541604011, 262.2668622886221, 257.95296307437167, 258.20078962512116, 212.60460310554512, 210.3112659544893, 133.36965110187697, 112.56319124974429, 351.6050259954889, 99.74888862129004, 96.41364682170882, 87.40984354879123, 79.38828440283999, 74.88805136862368, 70.43156640009838, 64.14084004923508, 60.47398113501734, 55.35673607157852, 54.978711356642265, 54.039665487731455, 47.050558774154176, 46.09599682232183, 45.98657870975403, 447.6403859846679, 96.03501476112875, 95.21265597317544, 112.70698512575218, 345.76542959574147, 128.41437553197628, 84.8403367438234, 478.8798932374223, 203.1516069944599, 950.4780830059681, 558.4747007316086, 476.1517733227374, 988.5928963814285, 406.8917894557876, 176.055386151382, 298.85325932136516, 443.4958593112555, 380.9538087210304, 393.40956005382276, 382.9047819361101, 613.3002906617762, 584.0837686381223, 825.0302393228793, 665.6795690559906, 527.9913707709674, 509.1648832901287, 528.1077765549951, 398.21674557642456, 417.4332128917146, 506.5827128919509, 127.27335959468024, 121.82053408707985, 110.5238006333711, 100.84249910366293, 99.44959930353752, 85.47497844593286, 84.96535085732314, 79.16224351449588, 72.58955257576525, 70.5358841201494, 66.64029782622639, 62.54450232636955, 61.90433680425423, 52.972867059002475, 49.704379352633254, 48.58291983547648, 40.04838036761497, 38.61826522937564, 38.384494513334936, 1652.9416480945551, 103.39659058663855, 732.464634288001, 179.06458610384706, 146.44648924616936, 696.1016922533819, 782.7282807252958, 414.0476531330692, 250.48567362216795, 508.5507406470233, 269.7658184395239, 358.24524909556123, 162.0606018709922, 319.9130908833123, 619.090767819159, 363.80500977904865, 401.1598961263467, 236.40901411815557, 416.9469013789929, 275.18093438520646, 587.9198153950686, 370.83635754853003, 362.74623955179527, 457.134735706079, 405.5817422111132, 460.6240814603171, 378.5349817297177, 355.77927228893367, 178.4283819090145, 135.53709971133264, 589.2096514651358, 109.37394310441415, 98.48178270105745, 85.03333637211456, 64.64946996983997, 63.59582800622614, 49.98276013444853, 48.314466988113466, 48.22612296643515, 43.67218202232374, 43.35883423061106, 37.696054265438846, 36.25490580898807, 34.68859227191744, 31.158872908966003, 28.41453963367103, 28.065022727642088, 26.448084032933036, 40.781633589948974, 694.174946115125, 744.8657844120684, 624.7687003108755, 96.98347030337499, 154.17856122826075, 148.01483364297764, 217.60114876270794, 892.6100499856507, 177.55901927617356, 130.1363462359738, 139.8126851627495, 454.1121834294121, 250.1970319372406, 152.30461822733466, 477.8294869003195, 924.8176172615192, 320.1619832354361, 769.4246931446527, 217.89870070964398, 201.88386883837768, 338.4218250984952, 404.0120290627796, 444.9320959114636, 295.9116984585084, 357.2077531244192, 401.26860188001467, 376.45497064740175, 321.8809733638174, 386.0159706250494, 299.4706752177574, 302.147825046923, 190.90111660158138, 187.00377321787207, 156.68297211013333, 139.03206873986662, 102.68588215666642, 87.03935307060038, 69.64190787410183, 59.91604181438912, 55.11600833736853, 54.45399300548707, 54.00270922818191, 46.440215793534485, 46.0432910592471, 43.395619229735026, 39.4402450183616, 34.476979050720395, 33.51621874230543, 32.84989705036203, 32.373206186329575, 29.9528677171814, 219.45569739041537, 270.138229269126, 61.25081649639602, 236.00687718900787, 117.30218462002547, 551.7077438392874, 885.6577740561639, 444.37728605328397, 577.4132123033944, 574.5731503370089, 470.1883128554948, 795.4801435848879, 1702.2878873586478, 359.6517174867826, 378.38623934231305, 378.2535124236557, 765.4134177208043, 298.23819147743615, 322.09048966155007, 752.6174364128193, 245.61485664202468, 509.7412147038511, 296.23006225732775, 252.3094784799593, 275.92806035030446, 271.1755018671376, 207.78146032223881, 204.0244392747885, 63.66140012111589, 48.94275787012475, 47.72887611159333, 42.73855258380591, 40.54497822732599, 37.0864414630333, 35.901696832257635, 31.29403890064667, 27.335113274971835, 26.765510637567406, 26.24739165259447, 23.1055811090509, 20.338087951428452, 20.294299644149046, 20.132538209710855, 18.608078043485833, 18.415188645730158, 17.856803601010114, 152.47606453737728, 1038.9469571211687, 359.1913880859607, 140.96751969870664, 84.99454113556077, 175.50577627338117, 70.33911395870196, 394.36421342085936, 171.07553040354443, 158.06347753242503, 902.1616912738233, 983.3210448709309, 159.646087023185, 711.9258919404908, 385.3509996074055, 298.2827493423136, 166.0830145386202, 598.1771888827019, 725.2445334881173, 480.18041349906935, 372.08829489701964, 381.9920811917981, 478.96608440704125, 276.5230294934363, 642.1541177565052, 507.0010791477661, 254.86812270384968, 316.7836567580803, 269.94721097233383, 262.7466569678708, 207.52226968281684, 192.7986460922045, 89.44400316132534, 60.32093868144418, 57.497343115106865, 47.211497883441936, 36.716568298723516, 35.703412830967395, 34.44843615521275, 33.89813143610411, 30.84982552430289, 27.718701504165406, 27.136872922607562, 25.50649946866658, 25.433672863173154, 24.03654252949435, 23.253864349973277, 22.771774773507524, 22.703258125545993, 21.613748614348797, 152.82380915475, 87.00653656827399, 245.1692067114558, 43.33648878718104, 522.05852969248, 623.9638975548019, 48.0560125381709, 273.88082274250576, 853.2200927349312, 87.05550242626674, 603.6170220052545, 445.93008891318317, 166.36023376811772, 96.26736479924222, 73.52165019353671, 128.21240055091167, 113.756248776852, 330.0044239711954, 470.2918580844018, 328.20141519445656, 498.753514006655, 184.4408489470574, 377.83743062749573, 173.00546676089925, 229.05192445534237, 285.4212054629872, 346.19299393571345, 276.7243560015907, 270.0856341294477, 272.7965747605398, 218.50106476261203, 187.52760386675143, 136.11253811924956, 78.41237217334923, 71.8673699590949, 71.31357747126452, 55.359631331023024, 54.95987675417213, 53.52292761745804, 45.09296537059339, 44.9792659742448, 43.25068171931035, 41.94060310734773, 41.464472488348605, 39.49065633107832, 32.10851218538849, 28.402952215104342, 26.97031437962158, 26.078196481408163, 24.347821008019555, 22.81272444554691, 139.78953485936637, 66.59553556731397, 726.8049099783262, 111.26271352778406, 88.24144449683868, 59.2965438391527, 115.02344715210353, 102.87845657483426, 159.47759044790234, 162.07739447941177, 137.0086424239843, 175.48103060132257, 329.63153049046645, 124.69067033941609, 305.08846838996277, 150.96554157567954, 420.49780794462316, 122.32142122064401, 136.14427809769262, 164.28315795531944, 230.13461931395065, 159.5028806646947, 178.01398539747166, 158.23678832701722, 136.69027998856112, 125.09664776732656, 166.61706482473645, 68.08184896052676, 51.16154969526116, 38.21208257234593, 35.3779092140763, 35.222032068461715, 31.96446794813188, 29.536052986508796, 28.770324646708893, 28.617809815829048, 27.018549875710857, 26.674506223711685, 26.61160426244045, 26.56572200417699, 25.565625377230276, 24.910853423676876, 24.818039466282443, 23.708485863714177, 23.57875533211575, 22.804720873047415, 379.05914355186957, 440.8980388127056, 175.8946614709835, 42.67837392292357, 357.6033660551463, 49.30741633149265, 589.1647799632406, 306.4099520519805, 212.7318885649148, 42.984875147017036, 89.93501864094715, 189.72745293884154, 140.6495592918309, 84.3789034692504, 55.95045323922795, 118.88052076475586, 127.38840236846607, 138.43179173606995, 90.70360216344247, 98.22740723613045, 110.34673731885192, 253.55208965614966, 300.65927406112564, 178.6481715210091, 190.86680567866878, 114.48930840719149, 283.52585622058086, 177.69950042796958, 141.67638148411038, 132.02268633701985, 136.01549810960657, 140.93351805706635, 426.39974728177873, 313.6553334945188, 258.9323835896337, 184.73331292846245, 140.37304958083467, 117.02818818579868, 80.71431865624936, 71.18820884379417, 66.27589346520546, 233.92793383770308, 34.89957240690302, 32.8389763965305, 32.245779814513995, 31.57801438224877, 30.269975149377846, 29.519338709139955, 29.50111751141213, 26.45000273790535, 25.801030666581628, 42.94931812850452, 217.5332664039501, 47.055694133400706, 50.78043495832493, 85.7052589894882, 114.8586379375507, 796.7913595240449, 73.20990933788804, 125.48857799395053, 262.2872151057909, 285.2007256654221, 537.3478187547248, 202.00550731467487, 213.51693082057446, 395.63198782005276, 145.70554587168508, 156.96020476520948, 179.72555516635202, 188.80266742533854, 145.8124639497839, 134.43736817445614, 428.8625236039913, 123.35539469759098, 99.37558785076195, 85.80997434518704, 81.53685815696886, 76.67925812634051, 76.67925812634051, 74.33302445186295, 61.78454922538587, 56.24475415711078, 54.75338030261779, 54.015238918214344, 49.11138883222616, 78.78226006228357, 42.36441892721704, 41.158583827602996, 40.71145216471233, 40.261067494633984, 38.78689962857169, 37.24305423045427, 116.16238642687273, 52.244827842491596, 65.86000266005401, 137.75334789350129, 121.11494200615303, 138.90597885076474, 152.83134985923064, 98.53132942885735, 860.5113419594801, 125.54236544165681, 78.02661248079711, 176.27517224353858, 121.23271341238029, 325.58071038393905, 201.1270717831398, 132.39070729517016, 158.36737663681035, 185.9085004765125, 137.83856234349483, 147.82966759839974, 114.34004821575326, 106.64526134597222, 983.8596422758571, 335.40566272867454, 132.98980273241853, 123.69218620326637, 47.22223543351359, 41.666534232640906, 39.832199148465754, 31.095050608199216, 27.845332858306943, 26.49962122099209, 33.242022010791196, 24.701853509944424, 24.558309599428362, 23.790135087146982, 22.8703033039956, 22.225561055949694, 19.846600300434876, 19.7929044949271, 19.759665889606115, 34.37999236484989, 195.49693023313094, 117.79448478074023, 88.7514927539965, 92.8890775283675, 133.7849447622675, 180.30440124907432, 58.40096564013159, 60.618248061496494, 53.19331287661976, 68.23680384752144, 229.4675700350827, 164.9234165701835, 121.70168120046387, 161.58898904052725, 346.645807474504, 148.52186603273876, 240.09631746246606, 136.27312099911936, 173.26781140323573, 226.96376412924255, 136.5923719144981, 170.91876457463073, 150.1580985384734, 32.16209918301523, 26.799187329669664, 25.242859032469354, 25.15332810265746, 24.350425546153712, 21.766923143359236, 20.721944710164884, 19.865640417051996, 19.46780478933831, 19.131664161098968, 18.23605764220704, 18.18735842020589, 17.978592155871773, 16.164891555065022, 15.742770580301674, 15.735058906192227, 14.727690950269153, 14.601915152142862, 13.647293440529626, 13.52706683456459, 16.12894712072114, 25.32887472416636, 22.521690394031086, 76.8845233078398, 21.405129952514574, 24.27421332016834, 29.15090251431456, 20.39139504565489, 44.57499619503724, 47.61733517434989, 24.057870336021693, 24.60641778141432, 21.994120308814924, 20.282388925519097, 20.766474808350615, 20.878608976297055, 56.53540191837055, 49.74448064885498, 48.92403651917333, 41.169668763768605, 34.94194614634155, 33.87741210139255, 26.54078344218064, 25.340877691350617, 44.776153162379046, 24.73481590240742, 22.268211592946322, 21.1576345947767, 19.347420735197026, 19.301521699344082, 16.023415830953194, 15.975814025402622, 15.716118922719568, 15.584664799078812, 14.893802352338389, 14.231867296502053, 39.930134229557595, 69.07805198852202, 42.21747203599465, 28.442189405602274, 115.55875033436962, 63.16100000541098, 158.84227133497308, 62.759503877810666, 30.05090986090916, 30.146046815545272, 68.50969654991151, 25.935503351781904], \"Total\": [4896.0, 1912.0, 2434.0, 1925.0, 984.0, 2303.0, 3538.0, 3539.0, 1200.0, 1491.0, 1386.0, 1582.0, 2035.0, 2324.0, 2206.0, 1749.0, 1256.0, 998.0, 1397.0, 937.0, 416.14625616406016, 243.13735262471403, 216.41198421516415, 199.47014079124733, 163.1899825695622, 133.18552984025575, 133.05827995390635, 124.6938952519818, 131.9279596698901, 123.05452974605429, 122.56797804635339, 249.17457945653865, 111.40426678106928, 102.58694243944002, 89.80441064407353, 87.68525771556995, 84.87546634916424, 84.30198932556418, 80.21069248460805, 75.9793891257852, 1491.013006567826, 525.0442344099555, 216.06020463583312, 226.9390622101985, 177.73336738913295, 372.51889136930856, 906.1144114779395, 1039.272468542402, 413.8941754882991, 650.5396858328214, 815.9916165478485, 2429.1939982856093, 1211.6755425514732, 1694.0291320028443, 487.525002158605, 2656.4849414629243, 683.3666961201965, 383.94422359842764, 1395.0904514287993, 1517.7775854599547, 2534.5472630542913, 610.3155261962032, 1128.19210843918, 2862.992318891847, 3538.9347663162503, 2826.890741135326, 6006.890053708071, 3539.671741288824, 103.56250688584703, 79.98392072336856, 65.53378949338823, 57.163089934458796, 52.232123548673385, 49.26041492779679, 47.749308568924334, 44.49763721489291, 41.91147894067971, 40.350721574383144, 38.994196861750986, 37.586985521346044, 35.49320300215076, 33.92108016231093, 33.76686746352353, 33.631986996804294, 33.0693793553407, 32.791158010672056, 32.49223664610873, 32.169078893446056, 79.4289669626077, 248.16070931336296, 293.57141534310364, 80.47412018456028, 163.79187814743386, 1397.381853266064, 294.1534382103456, 176.07227077128823, 894.74248200028, 169.12567492401024, 1384.0929022080707, 488.81369596515987, 373.46886279617667, 567.1944994028194, 475.19837653498155, 1161.0690240503238, 195.366400729122, 220.211687342401, 804.8458915527281, 2206.8335472758386, 271.22574841282284, 6006.890053708071, 812.3444340532902, 2324.087675917854, 1755.0307475257964, 2315.9616926194626, 1741.0890389712881, 2035.0701893863363, 2697.91208540179, 3505.720762981195, 3716.2783985468673, 1989.61453741776, 1051.5307387961348, 4045.4568354127414, 1357.388161575317, 1647.0427843441832, 2900.4308493464505, 915.6677910812291, 651.9766121885023, 320.572041591598, 289.6642660293057, 123.3224370933544, 110.30028149231397, 105.36197646024307, 81.00483044108167, 75.488392703106, 57.19514887573118, 54.60170735557865, 52.048565010860784, 48.47275614840541, 43.154870977229116, 42.95907363925583, 40.051284710402335, 38.60754063606936, 37.39533598681058, 34.621838351575676, 34.47871990566639, 533.8784421133096, 117.75847097292346, 483.1202666842326, 162.07202283001652, 698.9501449190495, 162.46129830401912, 1284.9367275459576, 142.4700320859412, 2275.6852083337512, 376.121643731384, 210.9157671567655, 210.01795625920693, 452.0970819537466, 1701.7751581896441, 2303.7762622987257, 3539.671741288824, 2862.992318891847, 4896.159210351514, 766.7370343241744, 640.2788108282324, 643.54854781019, 2826.890741135326, 1768.9549013419191, 2124.869542132975, 2994.912274834998, 1755.0307475257964, 4045.4568354127414, 6006.890053708071, 2611.5755372030912, 3716.2783985468673, 74.54202828684735, 40.40094254434641, 39.55035867409635, 38.80654282744911, 31.977684141144827, 30.774448924640375, 30.160372391625682, 29.716778768201777, 29.081555544357737, 28.64506135651824, 28.420600310102955, 25.03728019673849, 24.691888931577175, 24.346367108257237, 24.20614114489265, 23.38432708273665, 22.987606451128254, 22.79011615627481, 22.78490299081382, 22.47465634838943, 42.78534335892428, 30.796882386459647, 55.38222919888084, 61.37271997658128, 284.40265448105725, 81.00771492767015, 59.63095752935004, 204.91435904221495, 65.94521676124691, 113.67438439051364, 183.37828553999793, 95.55165926708268, 545.2160408468103, 415.8128423328266, 603.0784948593486, 126.65100149106549, 134.31406132105545, 828.1305064832144, 889.3153303655184, 390.91487697405705, 152.18273812845203, 422.5472609664883, 3505.720762981195, 322.03170478249814, 1138.8373234625255, 373.03973100525985, 1762.7702857651052, 470.43901280010925, 357.71428825267714, 511.5404499721649, 1278.612948403788, 707.4871662709331, 1481.7259616010153, 730.7776268721965, 596.1980167613963, 2315.9616926194626, 1169.4233807783066, 1755.0307475257964, 1609.1141691464222, 1989.61453741776, 1741.0890389712881, 2900.4308493464505, 1357.388161575317, 1785.0343740311755, 259.0639991716058, 213.46718664711776, 211.19903397133476, 134.2329734883263, 113.43359599022308, 354.61649460891886, 100.61147454161114, 97.27623006017333, 88.27242714990766, 80.25086768903738, 75.75063858273722, 71.29414964450585, 65.00344647127677, 61.33656438394911, 56.219319763200566, 55.84129478, 54.90224877678331, 47.91314245886028, 46.95871892013807, 46.84916206843287, 470.78600198797545, 99.07581982815472, 98.2226553784998, 116.9050706197556, 392.076486648881, 137.45249489725268, 88.84894187988623, 625.8077119263103, 238.11418754031862, 1408.96818117844, 806.3916094121967, 706.622289064141, 1912.685932521478, 624.4456780195578, 217.56195370957136, 450.82322768900457, 792.040163017239, 899.3825345994856, 993.213240435984, 961.8359829427238, 2862.992318891847, 2611.5755372030912, 6006.890053708071, 4896.159210351514, 2763.3859975553837, 2994.912274834998, 3716.2783985468673, 1401.785875995024, 2534.5472630542913, 507.4398406503841, 128.13048237869052, 122.67765686694803, 111.3809234710892, 101.69962302977834, 100.30672233557053, 86.33210147295148, 85.82247363719132, 80.01936630925799, 73.44667556353231, 71.39300887182219, 67.49742066362778, 63.40162511060214, 62.76145956361109, 53.82999011054292, 50.56292214334781, 49.44004272443677, 40.905503283800854, 39.47547118040469, 39.24161751370917, 1925.7829217173862, 109.62969548696282, 844.3366215694921, 199.0850074375279, 161.39550857339844, 909.4947556094259, 1097.275946742147, 553.9115134827565, 330.3147256819804, 786.63463135655, 366.3483033554673, 542.2004265253623, 206.937780475603, 535.6014009667997, 1582.426230771736, 773.661982763769, 1090.636848495781, 469.1848613913467, 1423.4948555074236, 643.910180273576, 3538.9347663162503, 1789.0942181347314, 1775.6839954169516, 4045.4568354127414, 2900.4308493464505, 6006.890053708071, 3539.671741288824, 2429.1939982856093, 179.29259967254066, 136.40132003110756, 593.0198584867994, 110.23816086473762, 99.34601888484715, 85.98147325632932, 65.51368764820974, 64.4602162388919, 50.84745377710392, 49.178685366744055, 49.094176315186125, 44.53639972754144, 44.22305814266919, 38.56027201397345, 37.11912349801422, 35.55290761012519, 32.023090609729884, 29.27875736067463, 28.92924046055993, 27.31230171235311, 42.44831026209437, 811.9352090122724, 923.343237843004, 889.2223963657877, 112.55528566621646, 190.53039942907606, 182.63246089636831, 294.36039634520904, 1582.426230771736, 241.2740062818324, 168.85214482235858, 186.54981312392678, 851.7563095501699, 411.8107450256055, 213.94367104441025, 1089.2065075930207, 3538.9347663162503, 759.0745295701331, 3716.2783985468673, 446.5538412093608, 406.2121040382881, 1408.96818117844, 2206.8335472758386, 2826.890741135326, 1097.275946742147, 2035.0701893863363, 2994.912274834998, 2534.5472630542913, 2124.869542132975, 6006.890053708071, 2275.6852083337512, 3505.720762981195, 191.76641580862972, 187.8691510681798, 157.54827125570014, 139.901539710572, 103.55118133148247, 87.90465220049707, 70.5072070225199, 60.78134096192586, 55.98158619690283, 55.31929212160684, 54.878536586579976, 47.30551490690705, 46.908590189354115, 44.26091856725148, 40.30936538394059, 35.3422782498052, 34.381517918821196, 33.71519934772329, 33.247012385516825, 30.818317376726334, 226.89294267190803, 286.33931141850263, 63.8043706354975, 261.226087885315, 126.98504813338438, 724.6917365312513, 1256.5396427057485, 584.4892805801919, 872.7573961870114, 874.8027370956705, 739.9895781432174, 1749.98059339555, 4896.159210351514, 660.1409994157164, 737.6331573360433, 758.8948042425635, 2434.4080621442704, 552.452125162909, 640.2788108282324, 3539.671741288824, 412.6246248797453, 4045.4568354127414, 1701.7751581896441, 601.6198498456702, 2429.1939982856093, 2763.3859975553837, 208.6441892918787, 204.88713450873377, 64.52409334626478, 49.8054506754619, 48.59156918558334, 43.60124541089738, 41.40813244777685, 37.94913427634168, 36.76668087541405, 32.15673161945684, 28.197806063596456, 27.628203741989932, 27.110162455781207, 23.968274019552258, 21.20078075563607, 21.15699246600898, 20.995231422406782, 19.470770799787584, 19.277881377837947, 18.719497087142365, 162.8049891362876, 1200.7511762827817, 435.7952651654726, 163.14059695301628, 97.33660829032787, 226.7452187020073, 83.7852880699216, 652.1700763321406, 244.63150879726265, 228.07777807411384, 2035.0701893863363, 2324.087675917854, 248.4030739628605, 1757.2487773938835, 797.0249808655335, 609.6213474128999, 277.8600937438933, 1789.0942181347314, 2697.91208540179, 1552.0909891145723, 1041.6510989638862, 1128.19210843918, 2206.8335472758386, 715.937139826659, 6006.890053708071, 4045.4568354127414, 866.190932879261, 2434.4080621442704, 1925.7829217173862, 3505.720762981195, 208.4131753954674, 193.66282093977952, 90.3073383465669, 61.184273709745625, 58.36067814714885, 48.07483280830647, 37.5799326067222, 36.566748033970875, 35.3117740344808, 34.761466459586586, 31.713312458354213, 28.582441160820235, 28.00020780850052, 26.36983438377954, 26.297008282486306, 24.899877588629174, 24.11719926001386, 23.63511000788357, 23.566593446608408, 22.477083788960048, 159.06468179356534, 92.64389193109974, 275.1912965586665, 46.0900926295262, 624.8129881051534, 796.0634987983059, 52.54121034886575, 367.5984705659949, 1386.6762729291072, 104.270097510775, 985.1534426217627, 729.6796570979427, 227.4950208156693, 125.93225479594845, 90.3066689802616, 190.24327331858262, 169.10405352309007, 796.9410613374258, 1401.785875995024, 866.190932879261, 2303.7762622987257, 400.5131510267751, 1749.98059339555, 404.53849967740433, 806.3916094121967, 1429.6997568372913, 2862.992318891847, 2534.5472630542913, 2656.4849414629243, 6006.890053708071, 2826.890741135326, 188.39015510417718, 136.97508945720898, 79.27492369990051, 72.72993349456935, 72.19169732069395, 56.22218305554274, 55.822504843728225, 54.38548966966019, 45.95551676988337, 45.84758586418696, 44.11323318491579, 42.8031543551542, 42.327023820063864, 40.35321752465101, 32.97106334195115, 29.286436792179483, 27.832865602016582, 26.940747707252786, 25.210372263110106, 23.67527575885057, 155.26762224734148, 72.72340879237775, 937.0977612833768, 127.56330687579397, 101.08769364438663, 68.16318457187276, 151.18342736018263, 137.62580318435377, 245.18402861643057, 265.6001728291344, 218.74320103219105, 315.2730736515929, 899.3825345994856, 229.70685682639876, 1077.6067834947207, 381.99626393642706, 2900.4308493464505, 260.1542821785675, 386.1383072613458, 894.74248200028, 3505.720762981195, 1785.0343740311755, 3538.9347663162503, 1741.0890389712881, 2697.91208540179, 440.0429533063269, 168.327182769615, 68.94617136936385, 52.025864085705656, 39.07639692377176, 36.242223560543636, 36.08634627552808, 32.83198435992712, 30.40036723611016, 29.63464482611392, 29.4821240265463, 27.88286417008101, 27.53882130894827, 27.47615942466838, 27.430036315463063, 26.434421207733006, 25.775167966032384, 25.68235368634882, 24.572800089993056, 24.443069555320015, 23.669035157162956, 404.78786351307497, 507.4895873503146, 200.55645368350164, 45.57830640366148, 476.20357600060345, 54.35294412249525, 934.1650776398589, 450.79894502602593, 313.4719922846651, 48.16818004823855, 118.78559942475094, 304.10764244373473, 232.29213309155526, 120.23386405241794, 72.14985121741273, 242.93264982309134, 279.8105245647652, 325.0694864463099, 166.04570826700217, 197.7177989623452, 281.97083845033916, 1775.6839954169516, 2900.4308493464505, 1020.8077064980167, 1357.388161575317, 319.48532037538934, 6006.890053708071, 1384.0929022080707, 832.055354465537, 609.1714932090753, 866.3782099193259, 3505.720762981195, 427.2700871102367, 314.5256747817991, 259.8027234822148, 185.60365276748817, 141.24356959565316, 117.89852799164406, 81.58465850486562, 72.05854863951939, 67.14633535517112, 239.3845914595802, 35.76991244261966, 33.70931627255179, 33.13009314488743, 32.44835428018324, 31.140341049179554, 30.38967853980673, 30.39407821400894, 27.320342537820586, 26.67137283435077, 44.48778942363346, 237.5178168483429, 53.034215239244936, 59.05403146060871, 114.98299406475313, 166.00875226109028, 2434.4080621442704, 101.95851611627502, 250.4342883884884, 786.63463135655, 1090.636848495781, 3538.9347663162503, 773.661982763769, 1043.862200194141, 4896.159210351514, 535.6014009667997, 1810.4101955881633, 3716.2783985468673, 6006.890053708071, 4045.4568354127414, 1200.7511762827817, 429.76110675059454, 124.21959079520174, 100.23978583647714, 86.68993852334094, 82.40112333004384, 77.5434540227178, 77.5434540227178, 75.19722036434176, 62.64874517917894, 57.10895027628598, 55.61757632063003, 54.8794348015033, 49.97559282446785, 80.20926684476602, 43.228615048794744, 42.02280145165437, 41.57564806426609, 41.12527220562183, 39.65110248777603, 38.1072501965369, 122.73633905670252, 54.6129529372478, 70.11579062196124, 162.56253119971862, 140.77066769165057, 164.6819776513127, 200.00118456819328, 119.26163034363292, 1912.685932521478, 164.415073259571, 93.81237886654314, 492.88117260115735, 241.49943658159253, 2303.7762622987257, 1090.636848495781, 667.5080517494986, 1429.6997568372913, 6006.890053708071, 1694.0291320028443, 2611.5755372030912, 1775.6839954169516, 1755.0307475257964, 984.754179124545, 336.27640496404365, 133.8605861687098, 124.56293925262499, 48.092981800758295, 42.537276409826596, 40.71341068513131, 31.965792763169613, 28.71607484545472, 27.370399519761705, 34.39100048109674, 25.5725955654741, 25.429051598705456, 24.660877042616267, 23.74104529408033, 23.09630303799753, 20.717590019162543, 20.663646524268945, 20.630407908428083, 35.95840492262355, 211.45422391724802, 126.48396083200612, 99.80719413811156, 108.44014567513346, 166.63635505610904, 245.23062725390795, 68.11736221090734, 78.52135092689765, 69.72110399618421, 98.14199310391007, 530.1946732642418, 368.6051076274052, 270.75826393532947, 488.0846597098433, 1989.61453741776, 477.29261995184356, 2206.8335472758386, 629.440947183138, 1211.6755425514732, 2826.890741135326, 688.5362763886553, 2697.91208540179, 3539.671741288824, 33.03246692886266, 27.66956455117394, 26.113204202484024, 26.02367304937705, 25.22077050422569, 22.637800029646666, 21.592289717333465, 20.73598540178035, 20.33814993399269, 20.002009128034974, 19.106402533935654, 19.057703504809957, 18.848937076703145, 17.035236467517965, 16.613115492110467, 16.605403937273152, 15.601147193236828, 15.472260180743376, 14.517638642146187, 14.397411963903478, 17.199524434285824, 31.56224771034912, 29.19471660419796, 203.0626539394305, 30.806756849405804, 43.78503311721225, 66.85854116144614, 31.417214108717747, 739.9895781432174, 987.6126294955016, 126.9878096351354, 224.27130834390394, 315.03531450258737, 47.05624296285256, 298.7556181331154, 1749.98059339555, 57.40778251555916, 50.62640520306225, 49.79641044110778, 42.04204256981058, 35.81432005832687, 34.74978586544869, 27.413157296020348, 26.213251438075048, 46.318821490196825, 25.607214701047102, 23.140585568666776, 22.030013124521616, 20.219794532326272, 20.173895855912352, 16.89578971194736, 16.848188239915995, 16.588492791344347, 16.45703870219999, 15.766176302566851, 15.104241178073245, 43.60134278208326, 77.52898403920007, 49.935302117048586, 34.93128337976889, 251.1886829773057, 110.50083305013429, 998.9218862070334, 235.2220497692569, 69.80462757210056, 78.03063759752123, 2900.4308493464505, 80.49808360333421], \"Category\": [\"Default\", \"Default\", \"Default\", \"Default\", \"Default\", \"Default\", \"Default\", \"Default\", \"Default\", \"Default\", \"Default\", \"Default\", \"Default\", \"Default\", \"Default\", \"Default\", \"Default\", \"Default\", \"Default\", \"Default\", \"Topic1\", \"Topic1\", \"Topic1\", \"Topic1\", \"Topic1\", \"Topic1\", \"Topic1\", \"Topic1\", \"Topic1\", \"Topic1\", \"Topic1\", \"Topic1\", \"Topic1\", \"Topic1\", \"Topic1\", \"Topic1\", \"Topic1\", \"Topic1\", \"Topic1\", \"Topic1\", \"Topic1\", \"Topic1\", \"Topic1\", \"Topic1\", \"Topic1\", \"Topic1\", \"Topic1\", \"Topic1\", \"Topic1\", \"Topic1\", \"Topic1\", \"Topic1\", \"Topic1\", \"Topic1\", \"Topic1\", \"Topic1\", \"Topic1\", \"Topic1\", \"Topic1\", \"Topic1\", \"Topic1\", \"Topic1\", \"Topic1\", \"Topic1\", \"Topic1\", \"Topic1\", \"Topic1\", \"Topic1\", \"Topic2\", \"Topic2\", \"Topic2\", \"Topic2\", \"Topic2\", \"Topic2\", \"Topic2\", \"Topic2\", \"Topic2\", \"Topic2\", \"Topic2\", \"Topic2\", \"Topic2\", \"Topic2\", \"Topic2\", \"Topic2\", \"Topic2\", \"Topic2\", \"Topic2\", \"Topic2\", \"Topic2\", \"Topic2\", \"Topic2\", \"Topic2\", \"Topic2\", \"Topic2\", \"Topic2\", \"Topic2\", \"Topic2\", \"Topic2\", \"Topic2\", \"Topic2\", \"Topic2\", \"Topic2\", \"Topic2\", \"Topic2\", \"Topic2\", \"Topic2\", \"Topic2\", \"Topic2\", \"Topic2\", \"Topic2\", \"Topic2\", \"Topic2\", \"Topic2\", \"Topic2\", \"Topic2\", \"Topic2\", \"Topic2\", \"Topic2\", \"Topic2\", \"Topic2\", \"Topic2\", \"Topic2\", \"Topic2\", \"Topic2\", \"Topic2\", \"Topic3\", \"Topic3\", \"Topic3\", \"Topic3\", \"Topic3\", \"Topic3\", \"Topic3\", \"Topic3\", \"Topic3\", \"Topic3\", \"Topic3\", \"Topic3\", \"Topic3\", \"Topic3\", \"Topic3\", \"Topic3\", \"Topic3\", \"Topic3\", \"Topic3\", \"Topic3\", \"Topic3\", \"Topic3\", \"Topic3\", \"Topic3\", \"Topic3\", \"Topic3\", \"Topic3\", \"Topic3\", \"Topic3\", \"Topic3\", \"Topic3\", \"Topic3\", \"Topic3\", \"Topic3\", \"Topic3\", \"Topic3\", \"Topic3\", \"Topic3\", \"Topic3\", \"Topic3\", \"Topic3\", \"Topic3\", \"Topic3\", \"Topic3\", \"Topic3\", \"Topic3\", \"Topic3\", \"Topic3\", \"Topic3\", \"Topic3\", \"Topic4\", \"Topic4\", \"Topic4\", \"Topic4\", \"Topic4\", \"Topic4\", \"Topic4\", \"Topic4\", \"Topic4\", \"Topic4\", \"Topic4\", \"Topic4\", \"Topic4\", \"Topic4\", \"Topic4\", \"Topic4\", \"Topic4\", \"Topic4\", \"Topic4\", \"Topic4\", \"Topic4\", \"Topic4\", \"Topic4\", \"Topic4\", \"Topic4\", \"Topic4\", \"Topic4\", \"Topic4\", \"Topic4\", \"Topic4\", \"Topic4\", \"Topic4\", \"Topic4\", \"Topic4\", \"Topic4\", \"Topic4\", \"Topic4\", \"Topic4\", \"Topic4\", \"Topic4\", \"Topic4\", \"Topic4\", \"Topic4\", \"Topic4\", \"Topic4\", \"Topic4\", \"Topic4\", \"Topic4\", \"Topic4\", \"Topic4\", \"Topic4\", \"Topic4\", \"Topic4\", \"Topic4\", \"Topic4\", \"Topic4\", \"Topic4\", \"Topic4\", \"Topic4\", \"Topic4\", \"Topic4\", \"Topic4\", \"Topic4\", \"Topic4\", \"Topic5\", \"Topic5\", \"Topic5\", \"Topic5\", \"Topic5\", \"Topic5\", \"Topic5\", \"Topic5\", \"Topic5\", \"Topic5\", \"Topic5\", \"Topic5\", \"Topic5\", \"Topic5\", \"Topic5\", \"Topic5\", \"Topic5\", \"Topic5\", \"Topic5\", \"Topic5\", \"Topic5\", \"Topic5\", \"Topic5\", \"Topic5\", \"Topic5\", \"Topic5\", \"Topic5\", \"Topic5\", \"Topic5\", \"Topic5\", \"Topic5\", \"Topic5\", \"Topic5\", \"Topic5\", \"Topic5\", \"Topic5\", \"Topic5\", \"Topic5\", \"Topic5\", \"Topic5\", \"Topic5\", \"Topic5\", \"Topic5\", \"Topic5\", \"Topic5\", \"Topic5\", \"Topic5\", \"Topic5\", \"Topic5\", \"Topic6\", \"Topic6\", \"Topic6\", \"Topic6\", \"Topic6\", \"Topic6\", \"Topic6\", \"Topic6\", \"Topic6\", \"Topic6\", \"Topic6\", \"Topic6\", \"Topic6\", \"Topic6\", \"Topic6\", \"Topic6\", \"Topic6\", \"Topic6\", \"Topic6\", \"Topic6\", \"Topic6\", \"Topic6\", \"Topic6\", \"Topic6\", \"Topic6\", \"Topic6\", \"Topic6\", \"Topic6\", \"Topic6\", \"Topic6\", \"Topic6\", \"Topic6\", \"Topic6\", \"Topic6\", \"Topic6\", \"Topic6\", \"Topic6\", \"Topic6\", \"Topic6\", \"Topic6\", \"Topic6\", \"Topic6\", \"Topic6\", \"Topic6\", \"Topic6\", \"Topic6\", \"Topic6\", \"Topic6\", \"Topic7\", \"Topic7\", \"Topic7\", \"Topic7\", \"Topic7\", \"Topic7\", \"Topic7\", \"Topic7\", \"Topic7\", \"Topic7\", \"Topic7\", \"Topic7\", \"Topic7\", \"Topic7\", \"Topic7\", \"Topic7\", \"Topic7\", \"Topic7\", \"Topic7\", \"Topic7\", \"Topic7\", \"Topic7\", \"Topic7\", \"Topic7\", \"Topic7\", \"Topic7\", \"Topic7\", \"Topic7\", \"Topic7\", \"Topic7\", \"Topic7\", \"Topic7\", \"Topic7\", \"Topic7\", \"Topic7\", \"Topic7\", \"Topic7\", \"Topic7\", \"Topic7\", \"Topic7\", \"Topic7\", \"Topic7\", \"Topic7\", \"Topic7\", \"Topic7\", \"Topic7\", \"Topic7\", \"Topic7\", \"Topic7\", \"Topic7\", \"Topic7\", \"Topic7\", \"Topic8\", \"Topic8\", \"Topic8\", \"Topic8\", \"Topic8\", \"Topic8\", \"Topic8\", \"Topic8\", \"Topic8\", \"Topic8\", \"Topic8\", \"Topic8\", \"Topic8\", \"Topic8\", \"Topic8\", \"Topic8\", \"Topic8\", \"Topic8\", \"Topic8\", \"Topic8\", \"Topic8\", \"Topic8\", \"Topic8\", \"Topic8\", \"Topic8\", \"Topic8\", \"Topic8\", \"Topic8\", \"Topic8\", \"Topic8\", \"Topic8\", \"Topic8\", \"Topic8\", \"Topic8\", \"Topic8\", \"Topic8\", \"Topic8\", \"Topic8\", \"Topic8\", \"Topic8\", \"Topic8\", \"Topic8\", \"Topic8\", \"Topic8\", \"Topic8\", \"Topic8\", \"Topic9\", \"Topic9\", \"Topic9\", \"Topic9\", \"Topic9\", \"Topic9\", \"Topic9\", \"Topic9\", \"Topic9\", \"Topic9\", \"Topic9\", \"Topic9\", \"Topic9\", \"Topic9\", \"Topic9\", \"Topic9\", \"Topic9\", \"Topic9\", \"Topic9\", \"Topic9\", \"Topic9\", \"Topic9\", \"Topic9\", \"Topic9\", \"Topic9\", \"Topic9\", \"Topic9\", \"Topic9\", \"Topic9\", \"Topic9\", \"Topic9\", \"Topic9\", \"Topic9\", \"Topic9\", \"Topic9\", \"Topic9\", \"Topic9\", \"Topic9\", \"Topic9\", \"Topic9\", \"Topic9\", \"Topic9\", \"Topic9\", \"Topic9\", \"Topic9\", \"Topic9\", \"Topic9\", \"Topic9\", \"Topic9\", \"Topic9\", \"Topic10\", \"Topic10\", \"Topic10\", \"Topic10\", \"Topic10\", \"Topic10\", \"Topic10\", \"Topic10\", \"Topic10\", \"Topic10\", \"Topic10\", \"Topic10\", \"Topic10\", \"Topic10\", \"Topic10\", \"Topic10\", \"Topic10\", \"Topic10\", \"Topic10\", \"Topic10\", \"Topic10\", \"Topic10\", \"Topic10\", \"Topic10\", \"Topic10\", \"Topic10\", \"Topic10\", \"Topic10\", \"Topic10\", \"Topic10\", \"Topic10\", \"Topic10\", \"Topic10\", \"Topic10\", \"Topic10\", \"Topic10\", \"Topic10\", \"Topic10\", \"Topic10\", \"Topic10\", \"Topic10\", \"Topic10\", \"Topic10\", \"Topic10\", \"Topic10\", \"Topic10\", \"Topic10\", \"Topic10\", \"Topic10\", \"Topic10\", \"Topic10\", \"Topic11\", \"Topic11\", \"Topic11\", \"Topic11\", \"Topic11\", \"Topic11\", \"Topic11\", \"Topic11\", \"Topic11\", \"Topic11\", \"Topic11\", \"Topic11\", \"Topic11\", \"Topic11\", \"Topic11\", \"Topic11\", \"Topic11\", \"Topic11\", \"Topic11\", \"Topic11\", \"Topic11\", \"Topic11\", \"Topic11\", \"Topic11\", \"Topic11\", \"Topic11\", \"Topic11\", \"Topic11\", \"Topic11\", \"Topic11\", \"Topic11\", \"Topic11\", \"Topic11\", \"Topic11\", \"Topic11\", \"Topic11\", \"Topic11\", \"Topic11\", \"Topic11\", \"Topic11\", \"Topic11\", \"Topic11\", \"Topic11\", \"Topic11\", \"Topic11\", \"Topic11\", \"Topic12\", \"Topic12\", \"Topic12\", \"Topic12\", \"Topic12\", \"Topic12\", \"Topic12\", \"Topic12\", \"Topic12\", \"Topic12\", \"Topic12\", \"Topic12\", \"Topic12\", \"Topic12\", \"Topic12\", \"Topic12\", \"Topic12\", \"Topic12\", \"Topic12\", \"Topic12\", \"Topic12\", \"Topic12\", \"Topic12\", \"Topic12\", \"Topic12\", \"Topic12\", \"Topic12\", \"Topic12\", \"Topic12\", \"Topic12\", \"Topic12\", \"Topic12\", \"Topic12\", \"Topic12\", \"Topic12\", \"Topic12\", \"Topic12\", \"Topic12\", \"Topic12\", \"Topic12\", \"Topic12\", \"Topic12\", \"Topic12\", \"Topic12\", \"Topic12\", \"Topic12\", \"Topic12\", \"Topic12\", \"Topic12\", \"Topic12\", \"Topic12\", \"Topic12\", \"Topic13\", \"Topic13\", \"Topic13\", \"Topic13\", \"Topic13\", \"Topic13\", \"Topic13\", \"Topic13\", \"Topic13\", \"Topic13\", \"Topic13\", \"Topic13\", \"Topic13\", \"Topic13\", \"Topic13\", \"Topic13\", \"Topic13\", \"Topic13\", \"Topic13\", \"Topic13\", \"Topic13\", \"Topic13\", \"Topic13\", \"Topic13\", \"Topic13\", \"Topic13\", \"Topic13\", \"Topic13\", \"Topic13\", \"Topic13\", \"Topic13\", \"Topic13\", \"Topic13\", \"Topic13\", \"Topic13\", \"Topic13\", \"Topic13\", \"Topic13\", \"Topic13\", \"Topic13\", \"Topic14\", \"Topic14\", \"Topic14\", \"Topic14\", \"Topic14\", \"Topic14\", \"Topic14\", \"Topic14\", \"Topic14\", \"Topic14\", \"Topic14\", \"Topic14\", \"Topic14\", \"Topic14\", \"Topic14\", \"Topic14\", \"Topic14\", \"Topic14\", \"Topic14\", \"Topic14\", \"Topic14\", \"Topic14\", \"Topic14\", \"Topic14\", \"Topic14\", \"Topic14\", \"Topic14\", \"Topic14\", \"Topic14\", \"Topic14\", \"Topic14\", \"Topic14\", \"Topic14\", \"Topic14\", \"Topic14\", \"Topic14\", \"Topic14\", \"Topic14\", \"Topic14\", \"Topic14\", \"Topic14\", \"Topic14\", \"Topic15\", \"Topic15\", \"Topic15\", \"Topic15\", \"Topic15\", \"Topic15\", \"Topic15\", \"Topic15\", \"Topic15\", \"Topic15\", \"Topic15\", \"Topic15\", \"Topic15\", \"Topic15\", \"Topic15\", \"Topic15\", \"Topic15\", \"Topic15\", \"Topic15\", \"Topic15\", \"Topic15\", \"Topic15\", \"Topic15\", \"Topic15\", \"Topic15\", \"Topic15\", \"Topic15\", \"Topic15\", \"Topic15\", \"Topic15\", \"Topic15\", \"Topic15\", \"Topic15\", \"Topic15\", \"Topic15\", \"Topic15\", \"Topic15\", \"Topic15\", \"Topic15\", \"Topic15\", \"Topic15\", \"Topic15\", \"Topic15\", \"Topic16\", \"Topic16\", \"Topic16\", \"Topic16\", \"Topic16\", \"Topic16\", \"Topic16\", \"Topic16\", \"Topic16\", \"Topic16\", \"Topic16\", \"Topic16\", \"Topic16\", \"Topic16\", \"Topic16\", \"Topic16\", \"Topic16\", \"Topic16\", \"Topic16\", \"Topic16\", \"Topic16\", \"Topic16\", \"Topic16\", \"Topic16\", \"Topic16\", \"Topic16\", \"Topic16\", \"Topic16\", \"Topic16\", \"Topic16\", \"Topic16\", \"Topic16\", \"Topic16\", \"Topic16\", \"Topic16\", \"Topic16\", \"Topic17\", \"Topic17\", \"Topic17\", \"Topic17\", \"Topic17\", \"Topic17\", \"Topic17\", \"Topic17\", \"Topic17\", \"Topic17\", \"Topic17\", \"Topic17\", \"Topic17\", \"Topic17\", \"Topic17\", \"Topic17\", \"Topic17\", \"Topic17\", \"Topic17\", \"Topic17\", \"Topic17\", \"Topic17\", \"Topic17\", \"Topic17\", \"Topic17\", \"Topic17\", \"Topic17\", \"Topic17\", \"Topic17\", \"Topic17\", \"Topic17\", \"Topic17\"], \"logprob\": [20.0, 19.0, 18.0, 17.0, 16.0, 15.0, 14.0, 13.0, 12.0, 11.0, 10.0, 9.0, 8.0, 7.0, 6.0, 5.0, 4.0, 3.0, 2.0, 1.0, -5.1728, -5.7117, -5.8287, -5.9105, -6.1122, -6.3166, -6.3175, -6.3829, -6.3265, -6.3962, -6.4002, -5.6908, -6.4964, -6.5796, -6.7139, -6.738, -6.7709, -6.7777, -6.828, -6.8828, -3.9262, -4.9608, -5.8416, -5.7958, -6.0409, -5.32, -4.4652, -4.3696, -5.27, -4.8741, -4.7765, -3.9386, -4.5497, -4.2819, -5.2903, -4.0445, -5.0849, -5.4769, -4.7306, -4.7022, -4.4734, -5.2339, -5.0204, -4.7121, -4.7265, -4.8538, -4.7643, -5.0486, -6.4703, -6.7311, -6.9328, -7.0714, -7.163, -7.2226, -7.2543, -7.3262, -7.3873, -7.4261, -7.461, -7.4986, -7.5573, -7.6037, -7.6084, -7.6125, -7.6298, -7.6385, -7.6479, -7.6582, -6.7559, -5.6332, -5.4735, -6.7591, -6.0739, -4.0178, -5.5358, -6.0359, -4.5226, -6.1431, -4.2974, -5.248, -5.5441, -5.2253, -5.4024, -4.7248, -6.1238, -6.0365, -5.1179, -4.4023, -5.9334, -4.1071, -5.302, -4.7563, -4.9299, -4.797, -4.9488, -4.9148, -4.7999, -4.8882, -4.8852, -5.0705, -5.2313, -4.9804, -5.1891, -5.2027, -5.2006, -4.2418, -4.5827, -5.2931, -5.3948, -6.2528, -6.3652, -6.4114, -6.6768, -6.7481, -7.0293, -7.0765, -7.1251, -7.1982, -7.316, -7.3207, -7.3922, -7.4298, -7.4624, -7.5414, -7.5456, -4.8387, -6.3642, -5.009, -6.0598, -4.7171, -6.0762, -4.1938, -6.2358, -3.8365, -5.4183, -5.9347, -5.9454, -5.3532, -4.3489, -4.1443, -3.8321, -4.2252, -3.9945, -5.2115, -5.3278, -5.3554, -4.6097, -4.8478, -4.8118, -4.7567, -4.936, -4.7342, -4.6656, -4.8667, -4.9318, -6.7321, -7.3527, -7.3744, -7.3938, -7.5922, -7.6317, -7.6524, -7.6677, -7.6899, -7.7055, -7.7175, -7.8446, -7.8591, -7.8736, -7.8796, -7.9154, -7.9332, -7.9421, -7.9424, -7.9566, -7.3136, -7.6428, -7.0629, -6.9806, -5.5071, -6.7437, -7.0351, -5.9066, -6.9615, -6.5025, -6.0869, -6.681, -5.2332, -5.4916, -5.2017, -6.49, -6.4537, -5.1251, -5.0877, -5.6907, -6.383, -5.6433, -4.1558, -5.8635, -4.998, -5.7711, -4.7425, -5.6665, -5.84, -5.6225, -5.0763, -5.4324, -5.0324, -5.4566, -5.5579, -4.9577, -5.2975, -5.1873, -5.2493, -5.2207, -5.2747, -5.1931, -5.4607, -5.4773, -5.3598, -5.5541, -5.565, -6.0204, -6.1901, -5.0511, -6.3109, -6.3449, -6.443, -6.5392, -6.5976, -6.6589, -6.7525, -6.8114, -6.8998, -6.9066, -6.9238, -7.0623, -7.0828, -7.0852, -4.8096, -6.3489, -6.3575, -6.1888, -5.0678, -6.0583, -6.4728, -4.7421, -5.5996, -4.0566, -4.5884, -4.7478, -4.0173, -4.905, -5.7428, -5.2136, -4.8189, -4.9709, -4.9387, -4.9658, -4.4947, -4.5435, -4.1981, -4.4128, -4.6445, -4.6808, -4.6443, -4.9266, -4.8794, -4.5735, -5.9549, -5.9986, -6.096, -6.1876, -6.2015, -6.353, -6.3589, -6.4297, -6.5164, -6.5451, -6.6019, -6.6653, -6.6756, -6.8314, -6.8951, -6.9179, -7.1111, -7.1475, -7.1535, -3.3909, -6.1626, -4.2048, -5.6134, -5.8145, -4.2557, -4.1384, -4.7752, -5.2778, -4.5696, -5.2036, -4.92, -5.7132, -5.0331, -4.3729, -4.9046, -4.8068, -5.3356, -4.7682, -5.1838, -4.4246, -4.8854, -4.9075, -4.6762, -4.7959, -4.6686, -4.8649, -4.9269, -5.5834, -5.8584, -4.3888, -6.0728, -6.1777, -6.3246, -6.5986, -6.6151, -6.8559, -6.8899, -6.8917, -6.9909, -6.9981, -7.1381, -7.177, -7.2212, -7.3285, -7.4207, -7.4331, -7.4924, -7.0594, -4.2249, -4.1544, -4.3302, -6.1931, -5.7295, -5.7703, -5.385, -3.9735, -5.5883, -5.899, -5.8273, -4.6493, -5.2454, -5.7417, -4.5984, -3.938, -4.9988, -4.122, -5.3836, -5.4599, -4.9433, -4.7662, -4.6697, -5.0776, -4.8893, -4.773, -4.8368, -4.9934, -4.8117, -5.0656, -5.0567, -5.2828, -5.3034, -5.4803, -5.5999, -5.9029, -6.0682, -6.2912, -6.4416, -6.5251, -6.5372, -6.5455, -6.6964, -6.705, -6.7642, -6.8598, -6.9943, -7.0225, -7.0426, -7.0572, -7.1349, -5.1434, -4.9356, -6.4196, -5.0707, -5.7698, -4.2216, -3.7482, -4.4379, -4.176, -4.1809, -4.3814, -3.8556, -3.0948, -4.6494, -4.5987, -4.599, -3.8942, -4.8367, -4.7597, -3.911, -5.0308, -4.3007, -4.8434, -5.0039, -4.9144, -4.9318, -5.1156, -5.1339, -6.2985, -6.5615, -6.5866, -6.697, -6.7497, -6.8389, -6.8713, -7.0087, -7.1439, -7.165, -7.1846, -7.312, -7.4396, -7.4418, -7.4498, -7.5285, -7.5389, -7.5697, -5.4251, -3.5062, -4.5683, -5.5036, -6.0095, -5.2844, -6.1988, -4.4748, -5.31, -5.3891, -3.6473, -3.5612, -5.3792, -3.8841, -4.498, -4.7541, -5.3396, -4.0582, -3.8656, -4.278, -4.533, -4.5067, -4.2805, -4.8298, -3.9873, -4.2236, -4.9114, -4.6939, -4.8539, -4.8809, -4.9718, -5.0453, -5.8134, -6.2073, -6.2553, -6.4524, -6.7038, -6.7317, -6.7675, -6.7836, -6.8779, -6.9849, -7.0061, -7.0681, -7.0709, -7.1274, -7.1605, -7.1815, -7.1845, -7.2337, -5.2777, -5.841, -4.805, -6.538, -4.0492, -3.8709, -6.4346, -4.6943, -3.558, -5.8404, -3.904, -4.2068, -5.1928, -5.7399, -6.0094, -5.4533, -5.5729, -4.5079, -4.1536, -4.5134, -4.0949, -5.0897, -4.3725, -5.1537, -4.873, -4.653, -4.46, -4.684, -4.7083, -4.6983, -4.9202, -5.0593, -5.3798, -5.9313, -6.0184, -6.0262, -6.2794, -6.2866, -6.3131, -6.4845, -6.487, -6.5262, -6.557, -6.5684, -6.6172, -6.8241, -6.9468, -6.9985, -7.0321, -7.1008, -7.1659, -5.3531, -6.0946, -3.7046, -5.5814, -5.8132, -6.2107, -5.5481, -5.6597, -5.2213, -5.2052, -5.3732, -5.1257, -4.4953, -5.4674, -4.5726, -5.2762, -4.2518, -5.4866, -5.3795, -5.1917, -4.8546, -5.2212, -5.1114, -5.2292, -5.3755, -5.4642, -5.0181, -5.9131, -6.1988, -6.4907, -6.5677, -6.5722, -6.6692, -6.7482, -6.7745, -6.7798, -6.8373, -6.8501, -6.8525, -6.8542, -6.8926, -6.9185, -6.9223, -6.968, -6.9735, -7.0069, -4.1961, -4.045, -4.9639, -6.3801, -4.2544, -6.2358, -3.7551, -4.4089, -4.7738, -6.373, -5.6347, -4.8882, -5.1876, -5.6985, -6.1094, -5.3557, -5.2866, -5.2034, -5.6262, -5.5465, -5.4302, -4.5983, -4.4278, -4.9484, -4.8823, -5.3933, -4.4865, -4.9537, -5.1803, -5.2509, -5.2211, -5.1855, -3.843, -4.1501, -4.3418, -4.6795, -4.9541, -5.136, -5.5075, -5.6331, -5.7046, -4.4434, -6.3459, -6.4068, -6.425, -6.4459, -6.4882, -6.5133, -6.514, -6.6231, -6.648, -6.1384, -4.516, -6.0471, -5.9709, -5.4475, -5.1547, -3.2178, -5.6051, -5.0662, -4.3289, -4.2452, -3.6117, -4.5901, -4.5347, -3.9179, -4.9168, -4.8424, -4.707, -4.6577, -4.9161, -4.9973, -3.8038, -5.0499, -5.2661, -5.4128, -5.4639, -5.5254, -5.5254, -5.5564, -5.7413, -5.8353, -5.8621, -5.8757, -5.9709, -5.4983, -6.1187, -6.1476, -6.1585, -6.1696, -6.2069, -6.2475, -5.11, -5.909, -5.6775, -4.9395, -5.0682, -4.9312, -4.8356, -5.2746, -3.1075, -5.0323, -5.5079, -4.6929, -5.0673, -4.0794, -4.561, -4.9792, -4.8001, -4.6397, -4.9389, -4.8689, -5.1258, -5.1955, -2.8821, -3.9583, -4.8833, -4.9558, -5.9187, -6.0439, -6.0889, -6.3365, -6.4469, -6.4965, -6.2698, -6.5667, -6.5725, -6.6043, -6.6438, -6.6724, -6.7856, -6.7883, -6.79, -6.2361, -4.4981, -5.0047, -5.2878, -5.2422, -4.8774, -4.5789, -5.7063, -5.669, -5.7997, -5.5506, -4.3378, -4.6681, -4.972, -4.6885, -3.9253, -4.7729, -4.2926, -4.8589, -4.6188, -4.3488, -4.8566, -4.6324, -4.7619, -5.3685, -5.5509, -5.6108, -5.6143, -5.6468, -5.7589, -5.8081, -5.8503, -5.8706, -5.888, -5.9359, -5.9386, -5.9501, -6.0565, -6.0829, -6.0834, -6.1496, -6.1582, -6.2258, -6.2346, -6.0587, -5.6074, -5.7248, -4.497, -5.7757, -5.6499, -5.4668, -5.8242, -5.0421, -4.9761, -5.6589, -5.6363, -5.7485, -5.8296, -5.806, -5.8006, -4.7457, -4.8737, -4.8903, -5.0629, -5.2269, -5.2578, -5.5019, -5.5481, -4.9789, -5.5723, -5.6774, -5.7286, -5.818, -5.8204, -6.0065, -6.0095, -6.0259, -6.0343, -6.0796, -6.1251, -5.0934, -4.5453, -5.0377, -5.4327, -4.0308, -4.6349, -3.7126, -4.6413, -5.3777, -5.3745, -4.5536, -5.5249], \"loglift\": [20.0, 19.0, 18.0, 17.0, 16.0, 15.0, 14.0, 13.0, 12.0, 11.0, 10.0, 9.0, 8.0, 7.0, 6.0, 5.0, 4.0, 3.0, 2.0, 1.0, 2.1705, 2.169, 2.1686, 2.1683, 2.1673, 2.1661, 2.1661, 2.1656, 2.1656, 2.1655, 2.1655, 2.1654, 2.1648, 2.1641, 2.1629, 2.1627, 2.1624, 2.1623, 2.1618, 2.1611, 2.141, 2.1502, 2.1572, 2.1539, 2.1532, 2.1341, 2.1, 2.0585, 2.0788, 2.0225, 1.8935, 1.6405, 1.725, 1.6576, 1.8948, 1.4451, 1.7625, 1.947, 1.403, 1.3472, 1.0632, 1.7266, 1.3257, 0.7027, 0.4763, 0.5737, -0.0906, 0.154, 2.2639, 2.2614, 2.2591, 2.2571, 2.2557, 2.2547, 2.2541, 2.2528, 2.2516, 2.2507, 2.25, 2.2491, 2.2478, 2.2466, 2.2465, 2.2464, 2.246, 2.2457, 2.2455, 2.2452, 2.2436, 2.2271, 2.2188, 2.2274, 2.2019, 2.1143, 2.1545, 2.1676, 2.0553, 2.1007, 1.8442, 1.9344, 1.9075, 1.8084, 1.8083, 1.5925, 1.9757, 1.9433, 1.5659, 1.2728, 1.8381, 0.5666, 1.3725, 0.867, 0.9742, 0.8298, 0.9634, 0.8413, 0.6743, 0.324, 0.2687, 0.7082, 1.1851, 0.0886, 0.9719, 0.765, 0.2012, 2.3129, 2.3117, 2.3112, 2.3109, 2.3068, 2.306, 2.3056, 2.3031, 2.3023, 2.2986, 2.2979, 2.2971, 2.2952, 2.2936, 2.2935, 2.292, 2.2912, 2.2904, 2.2885, 2.2884, 2.2555, 2.2416, 2.1851, 2.2265, 2.1077, 2.2078, 2.0221, 2.1795, 1.8079, 2.0262, 2.0882, 2.0818, 1.9073, 1.5861, 1.4878, 1.3705, 1.1895, 0.8837, 1.5207, 1.5847, 1.552, 0.8177, 1.0485, 0.9012, 0.613, 0.9681, 0.3349, 0.0082, 0.64, 0.2221, 2.3309, 2.3229, 2.3224, 2.322, 2.3171, 2.316, 2.3154, 2.315, 2.3144, 2.3139, 2.3098, 2.3094, 2.3089, 2.3084, 2.3082, 2.3069, 2.3063, 2.3059, 2.3059, 2.3054, 2.3046, 2.3042, 2.2972, 2.2768, 2.2169, 2.2361, 2.2511, 2.1452, 2.2241, 2.1385, 2.076, 2.1337, 1.84, 1.8526, 1.7706, 2.043, 2.0205, 1.5301, 1.4963, 1.7153, 1.9663, 1.6848, 1.0565, 1.7363, 1.3386, 1.6816, 1.1573, 1.5542, 1.6547, 1.5145, 1.1445, 1.3803, 1.0411, 1.3237, 1.426, 0.6692, 1.0127, 0.7169, 0.7416, 0.558, 0.6374, 0.2086, 0.7004, 0.4099, 2.4575, 2.4568, 2.4566, 2.4544, 2.4531, 2.4523, 2.4522, 2.4519, 2.451, 2.45, 2.4494, 2.4487, 2.4475, 2.4467, 2.4454, 2.4453, 2.445, 2.4427, 2.4423, 2.4422, 2.4104, 2.4297, 2.4297, 2.4243, 2.3351, 2.3928, 2.4147, 2.1932, 2.302, 2.0672, 2.0935, 2.0661, 1.8008, 2.0325, 2.2491, 2.0497, 1.8809, 1.6018, 1.5347, 1.5398, 0.9201, 0.9632, 0.4756, 0.4654, 0.8057, 0.6889, 0.5097, 1.2023, 0.6572, 2.5715, 2.5665, 2.5662, 2.5655, 2.5647, 2.5646, 2.5632, 2.5632, 2.5624, 2.5615, 2.5611, 2.5604, 2.5596, 2.5595, 2.5572, 2.5561, 2.5557, 2.552, 2.5513, 2.5511, 2.4204, 2.5147, 2.4311, 2.4672, 2.476, 2.3058, 2.2354, 2.2822, 2.2966, 2.137, 2.2672, 2.1588, 2.3288, 2.0579, 1.6347, 1.8187, 1.5731, 1.8878, 1.3453, 1.7231, 0.7782, 0.9995, 0.985, 0.3928, 0.6059, 0.0051, 0.3377, 0.6522, 2.6019, 2.6004, 2.6003, 2.5989, 2.598, 2.5957, 2.5935, 2.5933, 2.5896, 2.589, 2.5889, 2.5872, 2.587, 2.5841, 2.5832, 2.5822, 2.5794, 2.5768, 2.5764, 2.5746, 2.5667, 2.4501, 2.392, 2.2538, 2.4579, 2.3951, 2.3966, 2.3046, 2.0342, 2.3001, 2.3463, 2.3184, 1.9778, 2.1085, 2.2669, 1.7828, 1.2648, 1.7435, 1.0319, 1.8892, 1.9076, 1.1805, 0.9089, 0.7578, 1.2963, 0.8668, 0.5967, 0.6998, 0.7195, -0.138, 0.5788, 0.1555, 2.8353, 2.8352, 2.8343, 2.8336, 2.8314, 2.8299, 2.8275, 2.8255, 2.8242, 2.8241, 2.8237, 2.8214, 2.8212, 2.8201, 2.818, 2.815, 2.8143, 2.8138, 2.8132, 2.8113, 2.8065, 2.7816, 2.799, 2.7383, 2.7605, 2.5671, 2.49, 2.5658, 2.4267, 2.4195, 2.3863, 2.0514, 1.7834, 2.2325, 2.1723, 2.1435, 1.6828, 2.2234, 2.1528, 1.2916, 2.3211, 0.7684, 1.0915, 1.9709, 0.6647, 0.5184, 2.9181, 2.9181, 2.9088, 2.9048, 2.9044, 2.9023, 2.9012, 2.8993, 2.8985, 2.8951, 2.8912, 2.8906, 2.8899, 2.8856, 2.8807, 2.8806, 2.8803, 2.877, 2.8765, 2.8751, 2.8567, 2.7775, 2.729, 2.7762, 2.7867, 2.6661, 2.7473, 2.4192, 2.5646, 2.5556, 2.1088, 2.0621, 2.4802, 2.0187, 2.1955, 2.2075, 2.4076, 1.8267, 1.6086, 1.7491, 1.8928, 1.8393, 1.3946, 1.971, 0.6864, 0.8454, 1.6989, 0.883, 0.9574, 0.3313, 3.0631, 3.0629, 3.0578, 3.0532, 3.0525, 3.0493, 3.0442, 3.0435, 3.0427, 3.0423, 3.0398, 3.0367, 3.0361, 3.0341, 3.034, 3.0321, 3.031, 3.0302, 3.0301, 3.0282, 3.0274, 3.0046, 2.9519, 3.0058, 2.8877, 2.8238, 2.9782, 2.7731, 2.5818, 2.887, 2.5776, 2.575, 2.7544, 2.7988, 2.8618, 2.6728, 2.671, 2.1857, 1.9753, 2.0969, 1.5372, 2.292, 1.5345, 2.218, 1.8088, 1.4562, 0.9548, 0.8527, 0.7814, -0.0245, 0.5073, 3.0766, 3.0748, 3.0702, 3.0692, 3.0689, 3.0657, 3.0656, 3.0652, 3.0622, 3.062, 3.0614, 3.0608, 3.0606, 3.0595, 3.0546, 3.0505, 3.0497, 3.0486, 3.0463, 3.044, 2.9761, 2.9931, 2.827, 2.9444, 2.9452, 2.9418, 2.8078, 2.7902, 2.651, 2.5872, 2.6133, 2.4952, 2.0774, 2.4702, 1.8193, 2.1528, 1.15, 2.3265, 2.0387, 1.3862, 0.3577, 0.666, 0.0914, 0.683, 0.0986, 1.8234, 3.2304, 3.228, 3.2238, 3.2182, 3.2164, 3.2163, 3.2138, 3.2117, 3.211, 3.2108, 3.2091, 3.2087, 3.2086, 3.2086, 3.2072, 3.2065, 3.2063, 3.2048, 3.2046, 3.2034, 3.1749, 3.0999, 3.1094, 3.1748, 2.9542, 3.1431, 2.7796, 2.8545, 2.8529, 3.1267, 2.9623, 2.7688, 2.7388, 2.8864, 2.9863, 2.5259, 2.4537, 2.3869, 2.6359, 2.541, 2.3024, 1.2942, 0.9739, 1.4976, 1.2788, 2.2143, 0.1872, 1.1879, 1.4702, 1.7114, 1.389, 0.0267, 3.474, 3.4732, 3.4727, 3.4713, 3.4698, 3.4686, 3.4653, 3.4639, 3.463, 3.453, 3.4514, 3.4499, 3.449, 3.4488, 3.4477, 3.447, 3.4462, 3.4436, 3.4428, 3.4408, 3.3881, 3.3564, 3.3251, 3.1821, 3.1077, 2.3591, 3.1448, 2.785, 2.3777, 2.1347, 1.5911, 2.1332, 1.889, 0.9603, 2.1742, 1.0307, 0.447, 0.0161, 0.153, 1.2864, 3.5073, 3.5024, 3.5008, 3.4992, 3.4989, 3.4982, 3.4982, 3.4979, 3.4955, 3.4942, 3.4938, 3.4935, 3.492, 3.4915, 3.4892, 3.4886, 3.4884, 3.4882, 3.4874, 3.4865, 3.4544, 3.4651, 3.4468, 3.3438, 3.359, 3.3392, 3.2404, 3.3185, 2.7107, 3.2397, 3.3252, 2.4812, 2.8203, 1.5527, 1.8188, 1.8916, 1.3091, 0.034, 1.0006, 0.6378, 0.7666, 0.7087, 3.5999, 3.5982, 3.5943, 3.5938, 3.5825, 3.5801, 3.5789, 3.5732, 3.57, 3.5685, 3.5668, 3.5662, 3.566, 3.5649, 3.5634, 3.5624, 3.5579, 3.5577, 3.5577, 3.5559, 3.5223, 3.5296, 3.4834, 3.446, 3.3812, 3.2932, 3.4469, 3.342, 3.3302, 3.2374, 2.7633, 2.7966, 2.8011, 2.4954, 1.8534, 2.4334, 1.3825, 2.0706, 1.6559, 1.0787, 1.9832, 0.8418, 0.4407, 4.5084, 4.5031, 4.5012, 4.5011, 4.5, 4.4958, 4.4939, 4.4922, 4.4913, 4.4906, 4.4885, 4.4883, 4.4878, 4.4826, 4.4813, 4.4812, 4.4775, 4.4772, 4.4733, 4.4727, 4.4708, 4.3151, 4.2756, 3.5639, 4.171, 3.9452, 3.705, 4.1028, 1.7256, 1.503, 2.8714, 2.3252, 1.8732, 3.6935, 1.8688, 0.1064, 4.5785, 4.5763, 4.5762, 4.5729, 4.5692, 4.5684, 4.5615, 4.56, 4.56, 4.5592, 4.5554, 4.5534, 4.5497, 4.5496, 4.5408, 4.5407, 4.5398, 4.5394, 4.5369, 4.5343, 4.5059, 4.4784, 4.4259, 4.3883, 3.8174, 4.0345, 2.7551, 3.2726, 3.751, 3.6428, 0.8482, 3.4612]}, \"token.table\": {\"Topic\": [13, 1, 2, 3, 4, 5, 6, 7, 8, 9, 10, 11, 15, 16, 11, 1, 2, 3, 4, 5, 6, 7, 8, 9, 10, 11, 12, 13, 14, 15, 17, 2, 4, 7, 9, 11, 12, 17, 1, 5, 4, 11, 12, 13, 2, 12, 2, 11, 14, 1, 2, 4, 5, 6, 7, 8, 9, 10, 11, 13, 14, 16, 16, 8, 10, 1, 3, 5, 10, 14, 17, 1, 7, 7, 15, 5, 7, 15, 16, 1, 2, 3, 4, 5, 6, 7, 8, 9, 10, 11, 12, 13, 14, 15, 1, 3, 4, 8, 14, 15, 1, 2, 3, 4, 5, 7, 9, 10, 13, 14, 16, 3, 1, 2, 3, 4, 5, 6, 7, 8, 10, 11, 14, 15, 17, 1, 2, 3, 4, 5, 6, 7, 8, 10, 11, 14, 15, 16, 1, 2, 3, 4, 5, 6, 7, 9, 10, 11, 12, 13, 14, 15, 16, 1, 2, 3, 4, 7, 11, 12, 16, 4, 2, 3, 4, 6, 9, 6, 9, 12, 13, 7, 6, 12, 1, 3, 7, 12, 7, 16, 1, 2, 1, 2, 16, 2, 2, 11, 5, 10, 13, 1, 1, 7, 1, 1, 5, 10, 15, 2, 14, 1, 2, 3, 4, 5, 10, 11, 14, 17, 6, 17, 5, 10, 1, 2, 3, 4, 5, 6, 7, 8, 9, 10, 11, 12, 13, 14, 15, 16, 6, 8, 8, 10, 12, 15, 4, 5, 16, 12, 12, 12, 1, 2, 4, 7, 9, 12, 16, 2, 3, 4, 6, 8, 9, 12, 13, 1, 2, 3, 4, 5, 6, 7, 8, 9, 10, 11, 12, 13, 14, 15, 16, 14, 5, 14, 1, 2, 4, 5, 6, 9, 10, 11, 16, 10, 12, 13, 4, 9, 16, 2, 12, 15, 5, 14, 3, 11, 16, 3, 3, 1, 5, 8, 10, 1, 2, 3, 4, 6, 7, 8, 10, 12, 8, 1, 16, 1, 5, 10, 2, 3, 4, 7, 8, 9, 11, 12, 13, 17, 1, 2, 3, 4, 5, 6, 7, 9, 13, 2, 4, 9, 12, 1, 2, 3, 5, 7, 8, 10, 11, 12, 15, 5, 9, 11, 12, 13, 14, 2, 1, 8, 14, 8, 1, 2, 3, 4, 5, 6, 7, 8, 9, 10, 11, 12, 13, 14, 15, 17, 6, 7, 3, 16, 4, 5, 6, 7, 11, 12, 16, 1, 10, 10, 4, 1, 2, 3, 4, 5, 7, 9, 11, 14, 15, 11, 11, 6, 1, 2, 4, 7, 16, 3, 1, 2, 3, 4, 5, 6, 7, 8, 9, 10, 11, 12, 13, 14, 15, 17, 12, 11, 14, 6, 7, 13, 4, 6, 2, 3, 6, 8, 13, 2, 3, 4, 8, 9, 12, 2, 3, 9, 12, 8, 17, 9, 4, 8, 9, 11, 12, 13, 16, 6, 4, 6, 2, 8, 1, 3, 7, 8, 15, 1, 3, 7, 8, 15, 1, 2, 6, 7, 10, 15, 17, 2, 7, 9, 15, 11, 1, 2, 3, 4, 5, 6, 7, 8, 10, 15, 1, 5, 7, 15, 1, 2, 4, 5, 6, 8, 9, 12, 13, 14, 1, 1, 17, 1, 2, 3, 5, 7, 8, 11, 12, 15, 16, 7, 5, 10, 1, 16, 2, 11, 12, 1, 2, 3, 4, 5, 6, 7, 8, 9, 10, 11, 12, 13, 14, 15, 17, 1, 6, 13, 4, 12, 13, 1, 2, 3, 4, 5, 6, 7, 10, 13, 14, 15, 1, 2, 4, 5, 6, 7, 9, 11, 12, 13, 14, 15, 17, 1, 6, 7, 15, 16, 13, 6, 11, 13, 1, 6, 10, 13, 17, 6, 13, 6, 7, 11, 15, 7, 2, 3, 10, 1, 2, 3, 4, 5, 7, 8, 11, 12, 9, 11, 17, 17, 1, 2, 3, 4, 5, 6, 7, 8, 9, 12, 13, 14, 15, 16, 4, 13, 2, 3, 4, 7, 8, 15, 2, 17, 1, 3, 5, 10, 11, 12, 14, 17, 3, 5, 10, 6, 9, 16, 1, 2, 3, 4, 6, 7, 8, 9, 11, 12, 13, 14, 15, 3, 8, 4, 1, 4, 1, 3, 5, 6, 7, 8, 10, 13, 14, 5, 9, 12, 14, 5, 10, 4, 10, 1, 6, 7, 8, 8, 8, 5, 10, 2, 3, 4, 5, 6, 11, 12, 14, 16, 1, 2, 3, 5, 8, 10, 2, 5, 9, 10, 13, 14, 14, 7, 1, 2, 3, 4, 5, 6, 7, 8, 9, 10, 11, 13, 14, 15, 16, 16, 3, 7, 2, 4, 6, 9, 11, 12, 13, 2, 5, 6, 9, 10, 12, 13, 13, 1, 4, 14, 16, 1, 5, 6, 1, 17, 1, 17, 2, 1, 15, 7, 15, 2, 3, 4, 6, 7, 8, 11, 15, 1, 2, 4, 6, 7, 8, 9, 12, 13, 16, 17, 1, 2, 3, 6, 7, 8, 9, 13, 15, 6, 12, 1, 2, 5, 6, 7, 10, 11, 16, 13, 1, 2, 3, 6, 7, 8, 9, 14, 15, 12, 1, 2, 3, 4, 5, 7, 10, 11, 12, 16, 3, 10, 4, 6, 9, 1, 2, 3, 4, 6, 8, 11, 14, 15, 16, 4, 6, 11, 12, 4, 11, 12, 1, 2, 3, 4, 5, 6, 7, 9, 10, 11, 12, 13, 1, 2, 3, 4, 5, 6, 7, 8, 9, 11, 12, 13, 12, 14, 1, 2, 3, 4, 5, 6, 7, 8, 13, 14, 15, 17, 8, 1, 8, 10, 17, 16, 7, 3, 16, 3, 7, 8, 1, 2, 3, 4, 5, 6, 7, 8, 9, 10, 11, 12, 13, 14, 15, 2, 4, 15, 10, 17, 7, 1, 2, 3, 4, 6, 13, 14, 11, 1, 2, 3, 4, 5, 7, 15, 1, 2, 4, 5, 6, 8, 9, 10, 11, 12, 13, 14, 9, 2, 16, 14, 11, 2, 8, 12, 8, 3, 4, 7, 9, 15, 12, 14, 3, 8, 1, 3, 4, 5, 7, 8, 10, 11, 12, 15, 10, 15, 1, 2, 3, 4, 5, 6, 7, 8, 9, 10, 11, 12, 14, 17, 11, 14, 3, 4, 9, 11, 15, 1, 4, 8, 10, 11, 6, 2, 11, 5, 12, 17, 13, 8, 1, 4, 5, 5, 14, 1, 2, 3, 4, 5, 6, 7, 8, 9, 10, 13, 15, 1, 2, 3, 4, 5, 6, 7, 8, 9, 10, 11, 12, 13, 14, 15, 17, 15, 4, 2, 3, 9, 4, 11, 5, 5, 8, 13, 14, 1, 2, 4, 5, 7, 9, 10, 11, 12, 13, 14, 15, 1, 2, 4, 5, 7, 9, 11, 12, 15, 4, 11, 12, 13, 4, 5, 6, 11, 12, 13, 17, 8, 7, 15, 6, 15, 2, 5, 6, 7, 11, 12, 17, 3, 8, 3, 8, 2, 3, 8, 12, 11, 3, 12, 16, 3, 12, 10, 17, 9, 7, 3, 17, 1, 3, 5, 10, 14, 17, 3, 11, 1, 2, 3, 4, 5, 6, 7, 8, 9, 10, 11, 12, 13, 14, 15, 9, 9, 12, 9, 9, 12, 9, 3, 15, 1, 2, 3, 4, 6, 7, 8, 9, 11, 12, 14, 15, 15, 7, 1, 4, 5, 6, 9, 10, 4, 15, 6, 7, 15, 1, 17, 12, 16, 7, 15, 14, 1, 5, 10, 15, 1, 2, 6, 7, 8, 9, 15, 15, 3, 15, 1, 7, 13, 1, 3, 4, 6, 7, 8, 9, 17, 5, 15, 9, 5, 2, 3, 4, 6, 9, 12, 16, 1, 15, 15, 16, 14, 1, 7, 11, 14, 5, 10, 14, 11, 1, 2, 3, 4, 5, 6, 7, 8, 9, 11, 12, 13, 9, 1, 2, 3, 4, 5, 6, 7, 8, 10, 12, 13, 14, 16, 17, 1, 2, 4, 6, 8, 10, 11, 2, 8, 11, 12, 16, 1, 2, 3, 4, 5, 6, 7, 8, 9, 10, 12, 13, 14, 16, 6, 6, 2, 5, 7, 11, 17, 15, 1, 7, 14, 1, 2, 6, 9, 11, 12, 13, 16, 1, 2, 3, 4, 5, 6, 7, 8, 9, 10, 11, 12, 13, 14, 15, 3, 8, 10, 16, 5, 7, 9, 11, 12, 13, 14, 15, 5, 14, 3, 14, 12, 14, 4, 12, 13, 13, 12, 13, 14, 3, 15, 6, 11, 12, 11, 4, 7, 2, 11, 12, 1, 2, 3, 4, 5, 6, 7, 9, 10, 11, 12, 13, 14, 15, 12, 16, 1, 5, 10, 7, 15, 15, 16, 5, 10, 2, 6, 7, 11, 13, 4, 1, 2, 3, 4, 7, 8, 9, 13, 15, 16, 1, 7, 11, 7, 5, 10, 3, 2, 3, 4, 6, 7, 11, 13, 15, 9, 12, 2, 2, 2, 1, 7, 15, 6, 7, 8, 15, 6, 4, 5, 7, 10, 10, 3, 2, 5, 6, 7, 9, 1, 2, 3, 8, 10, 11, 17, 11, 1, 8, 15, 1, 4, 6, 7, 8, 9, 10, 11, 12, 8, 9, 8, 13, 10, 8, 3, 15, 13, 1, 1, 2, 4, 5, 6, 7, 9, 11, 13, 14, 15, 2, 3, 5, 6, 4, 10, 3, 13, 14, 5, 14, 1, 8, 17, 12, 1, 2, 4, 6, 7, 8, 9, 11, 12, 14, 9, 1, 4, 6, 7, 11, 16, 4, 12, 4, 12, 5, 3, 6, 16, 16, 2, 3, 4, 6, 8, 9, 11, 12, 13, 14, 2, 9, 3, 4, 8, 13, 15, 13, 1, 2, 3, 4, 5, 6, 7, 9, 10, 11, 12, 13, 15, 1, 2, 5, 6, 8, 9, 1, 2, 6, 9, 13, 1, 8, 15, 1, 2, 3, 4, 5, 6, 8, 12, 14, 15, 2, 4, 6, 7, 9, 11, 5, 8, 12, 13, 1, 2, 3, 4, 5, 6, 7, 8, 10, 11, 14, 15, 2, 4, 6, 7, 9, 11, 12, 16, 1, 7, 15, 3, 5, 10, 14, 10, 5, 14, 3, 11, 14, 16, 12, 14, 8, 4, 5, 14, 5, 6, 10, 3, 17, 13, 5, 14, 7, 2, 9, 12, 4, 7, 10, 11, 16, 5, 5, 2, 1, 2, 3, 4, 5, 6, 7, 8, 9, 10, 11, 12, 13, 16, 6, 6, 7, 1, 2, 4, 6, 7, 9, 11, 15, 1, 2, 4, 5, 6, 7, 8, 9, 10, 11, 14, 15, 16, 6, 1, 2, 3, 11, 15, 17, 6, 7, 12, 1, 2, 3, 4, 5, 6, 7, 8, 11, 13, 14, 1, 2, 3, 4, 5, 6, 8, 9, 11, 12, 13, 16, 17, 10, 1, 2, 3, 4, 5, 7, 8, 10, 11, 12, 14, 15, 1, 2, 3, 4, 5, 6, 7, 8, 9, 10, 11, 12, 13, 14, 15, 16, 1, 2, 3, 4, 7, 15, 17, 10, 3, 14, 2, 4, 6, 8, 9, 12, 13, 16, 2, 1, 6, 7, 1, 2, 3, 4, 5, 6, 7, 8, 9, 10, 11, 12, 13, 14, 15, 16, 1, 2, 12, 16, 11, 12, 12, 7, 14, 15, 16, 16, 1, 2, 3, 4, 5, 6, 7, 8, 9, 11, 12, 13, 14, 15, 16, 17, 1, 2, 3, 4, 5, 7, 9, 10, 11, 12, 13, 11, 14, 1, 1, 2, 3, 4, 5, 6, 7, 9, 11, 15, 6, 6, 7, 7, 2, 3, 4, 5, 10, 11, 15, 17, 1, 7, 11, 15, 5, 1, 2, 4, 5, 6, 8, 12, 1, 2, 4, 5, 6, 7, 14, 15, 1, 3, 6, 11, 17, 1, 2, 3, 4, 5, 6, 7, 8, 9, 10, 11, 12, 13, 14, 15, 1, 2, 5, 6, 7, 8, 9, 11, 13, 15, 14, 4, 6, 1, 4, 7, 15, 7, 5, 6, 7, 13, 17, 8, 10, 1, 2, 4, 6, 12, 1, 5, 7, 11, 14, 6, 7, 12, 6, 13, 15, 5, 8, 10, 14, 1, 2, 3, 4, 5, 6, 8, 9, 10, 13, 5, 10, 10, 17, 1, 3, 5, 2, 1, 11, 1, 3, 4, 8, 15, 3, 5, 6, 7, 10, 16, 1, 5, 8, 1, 10, 16, 17, 1, 3, 5, 6, 7, 8, 11, 15, 17, 1, 2, 3, 7, 8, 15, 1, 15, 1, 2, 3, 4, 5, 6, 7, 8, 9, 10, 11, 12, 13, 14, 15, 16, 4, 5, 12, 16, 8, 9, 1, 2, 3, 4, 5, 6, 7, 8, 9, 10, 11, 12, 13, 14, 15, 16, 1, 2, 4, 5, 6, 8, 16, 1, 2, 3, 4, 5, 6, 7, 9, 11, 12, 13, 14, 15, 16, 2, 5, 6, 9, 11, 12, 13, 14, 13, 11, 2, 6, 13, 4, 11, 12, 13, 10, 1, 2, 17, 2, 5, 6, 11, 12, 13, 14, 6, 13, 14, 4, 11, 12, 17, 2, 6, 11, 13, 13, 15, 15, 6, 7, 6, 8, 15, 1, 8, 1, 2, 3, 4, 5, 6, 7, 9, 10, 12, 13, 15, 16, 4, 1, 2, 3, 4, 5, 6, 7, 8, 9, 10, 11, 13, 14, 15, 2, 4, 6, 7, 9, 11, 1, 2, 3, 4, 5, 8, 9, 11, 15, 2, 9, 8, 8, 10, 1, 2, 3, 4, 5, 6, 7, 8, 9, 11, 12, 13, 14, 17, 5, 1, 6, 9, 13, 2, 9, 12, 3, 2, 1, 2, 4, 7, 8, 1, 2, 3, 4, 5, 6, 7, 8, 10, 11, 12, 13, 14, 15, 16, 3, 16, 2, 3, 5, 17, 16, 5, 5, 6, 7, 12, 10, 5, 1, 11, 13, 2, 4, 7, 9, 10, 11, 12, 16, 3, 8, 9, 1, 2, 3, 4, 11, 11, 1, 2, 3, 4, 5, 6, 7, 8, 9, 10, 11, 12, 13, 15, 17, 1, 17, 1, 15, 16, 6, 7, 11, 6, 7, 11, 15, 5, 14, 9, 3, 4, 5, 7, 9, 10, 11, 12, 17, 9, 9, 1, 2, 3, 4, 5, 6, 7, 8, 9, 13, 15, 2, 2, 8, 12, 1, 2, 3, 4, 5, 7, 10, 17, 14, 17, 5, 5, 1, 2, 3, 1, 2, 3, 4, 5, 6, 7, 8, 9, 11, 12, 13, 15, 16, 17, 4, 6, 3, 1, 2, 3, 4, 5, 6, 7, 8, 9, 10, 11, 12, 13, 14, 16, 17, 3, 7, 8, 3, 1, 3, 5, 8, 1, 3, 5, 6, 8, 10, 2, 3, 4, 6, 9, 11, 1, 2, 3, 4, 5, 6, 7, 8, 9, 10, 11, 15, 17, 6, 2, 4, 1, 6, 7, 1, 2, 3, 6, 8, 9, 11, 13, 9, 2, 11, 12, 14, 16, 1, 2, 3, 4, 5, 6, 7, 8, 9, 10, 12, 13, 14, 15, 16, 5, 5, 5, 14, 1, 3, 5, 7, 10, 11, 7, 11, 3, 16, 6, 2, 3, 13, 2, 1, 4, 2, 17, 10, 14, 1, 5, 10, 5, 10, 14, 10, 1, 4, 14, 15, 1, 2, 3, 4, 5, 8, 10, 11, 16, 17, 9, 4, 7, 16, 3, 4, 5, 7, 10, 13, 16, 1, 2, 3, 4, 5, 6, 7, 8, 9, 10, 11, 12, 13, 14, 15, 16, 2, 8, 15, 3, 5, 5, 13, 1, 2, 3, 4, 5, 6, 7, 9, 14, 15, 17, 1, 5, 2], \"Freq\": [0.9861825263521282, 0.4381406118858154, 0.13967790935307198, 0.01383601932270996, 0.00461200644090332, 0.007906296755834262, 0.0006588580629861885, 0.12122988358945869, 0.09751099332195591, 0.08499269012521832, 0.010541729007779017, 0.038872625716185126, 0.03953148377917131, 0.0006588580629861885, 0.9834925986654653, 0.10651397127068607, 0.08948509185123468, 0.18264307926352752, 0.030718762874304445, 0.16995489459805393, 0.06611212009904652, 0.1338937381803922, 0.060101927362769564, 0.05108663825835413, 0.04140354996101903, 0.007345791122116281, 0.0183644778052907, 0.009349188700875265, 0.012688184665473575, 0.020033975787589857, 0.0006677991929196619, 0.010548424751780283, 0.8790353959816902, 0.03164527425534085, 0.017580707919633804, 0.010548424751780283, 0.04570984059104789, 0.9537161026764964, 0.756884258994279, 0.2399876918762348, 0.0650982091742224, 0.004199884462853058, 0.7517793188506975, 0.17639514743982845, 0.043880524701535036, 0.9434312810830032, 0.24704669628308007, 0.7484061681516837, 0.9951320647846363, 0.07773970864135944, 0.04825223294980931, 0.514690484797966, 0.03216815529987287, 0.06433631059974575, 0.07237834942471397, 0.02680679608322739, 0.024126116474904653, 0.03216815529987287, 0.04557155334148657, 0.03216815529987287, 0.0026806796083227395, 0.024126116474904653, 0.9645068518558486, 0.9897087107695541, 0.980644148603222, 0.04731362232686561, 0.43797655897071014, 0.1562651746575378, 0.21660089487253156, 0.14150679705099256, 0.0008681398592085434, 0.28512177856075804, 0.7104673826432003, 0.13212490483900252, 0.8514716089624608, 0.040777940797933676, 0.22020088030884186, 0.7340029343628063, 0.9302582790083038, 0.08679520027965104, 0.14636053380490174, 0.07318026690245087, 0.3052014232055703, 0.07771857802818426, 0.05672888907166734, 0.040277511240883815, 0.009076622251466776, 0.07771857802818426, 0.009076622251466776, 0.06013262241596739, 0.032335466770850384, 0.011913066705050143, 0.011345777814333468, 0.0017018666721500203, 0.19261805799980528, 0.0054258607887269095, 0.09766549419708437, 0.21974736194343983, 0.032555164732361454, 0.44763351506997, 0.5973923239463516, 0.011806172410006949, 0.05253746722453092, 0.08736567583405142, 0.059030862050034744, 0.09444937928005559, 0.0005903086205003474, 0.005903086205003474, 0.005903086205003474, 0.08146258962904794, 0.002951543102501737, 0.9882114399462836, 0.2298294674624507, 0.0006985698099162635, 0.3248349616110625, 0.0038421339545394494, 0.21411164673933478, 0.0017464245247906587, 0.04680417726438966, 0.0296892169214412, 0.12085257711551359, 0.007334983004120767, 0.008732122623953294, 0.009779977338827689, 0.0006985698099162635, 0.2019887050076357, 0.03961950080710192, 0.22392092866870997, 0.0689803808695078, 0.05942925121065288, 0.005306183143808293, 0.157416766599646, 0.03714328200665805, 0.07747027389960108, 0.03891200972126081, 0.008136147487172715, 0.0803002382429655, 0.0010612366287616585, 0.10794821220561096, 0.042729500664721004, 0.0011244605438084476, 0.4284194671910185, 0.03373381631425342, 0.05397410610280548, 0.19003383190362763, 0.011244605438084474, 0.0011244605438084476, 0.04835180338376324, 0.020240289788552055, 0.028111513595211187, 0.03148489522663653, 0.0011244605438084476, 0.9718258828679731, 0.010041652166230734, 0.05020826083115367, 0.18744417376964037, 0.06694434777487156, 0.3380689562631014, 0.1807497389921532, 0.0903748694960766, 0.07029156516361514, 0.9653307534346521, 0.002294655495213555, 0.025241210447349106, 0.09867018629418287, 0.048187765399484654, 0.8237813227816663, 0.0008328120094753886, 0.8652916778449288, 0.021653112246360105, 0.11159680926970207, 0.9563247393008497, 0.9936653814487953, 0.9766896695575885, 0.26877415703516055, 0.026989873509806916, 0.7028612893178884, 0.9836469032518762, 0.965880614489673, 0.023558063768040805, 0.047688566625731864, 0.9469586801395328, 0.028207527369535385, 0.9550262837971265, 0.01208894030122945, 0.9758728249116859, 0.9568293486577711, 0.03727906553212095, 0.8089649729609737, 0.004596391891823714, 0.18385567567294855, 0.9976430517901957, 0.977060533911984, 0.02095061573690414, 0.9910986588281948, 0.9871098052109394, 0.043393273606023554, 0.9329553825295065, 0.9732013974412098, 0.9945684311556202, 0.9805818480129469, 0.016479201967930814, 0.10786386742645623, 0.004494327809435677, 0.08089790056984217, 0.361044334024666, 0.20374286069441733, 0.025467857586802166, 0.19775042361516976, 0.001498109269811892, 0.14018138878166725, 0.8410883326900036, 0.8824808724371574, 0.11477352387188464, 0.1484754979674436, 0.11068173484845797, 0.03509420861048668, 0.271305228104147, 0.06073997644122694, 0.06681397408534963, 0.10730729171283425, 0.009448440779746412, 0.06276464232260116, 0.012147995288245388, 0.0323946541019877, 0.02699554508498975, 0.01619732705099385, 0.01619732705099385, 0.01619732705099385, 0.0074237748983721815, 0.030851554559465286, 0.9652129212175569, 0.9624924979406555, 0.9845680243019258, 0.9843224299626377, 0.9954806842548626, 0.4462744723708171, 0.10625582675495646, 0.4250233070198258, 0.9804341186972593, 0.9862766655410792, 0.9835660783219297, 0.02181283344547101, 0.059985291975045284, 0.7634491705914854, 0.09815775050461956, 0.027266041806838764, 0.02181283344547101, 0.005453208361367753, 0.16589181605504122, 0.11894130207719937, 0.07199078809935751, 0.08451092516011534, 0.19093209017655688, 0.006260068530378914, 0.3568239062315981, 0.003130034265189457, 0.05387890358771195, 0.1665347929074733, 0.05975660216091689, 0.22237292935292022, 0.06367506787638685, 0.02155156143508478, 0.02155156143508478, 0.06563430073412183, 0.050940054301109476, 0.00783693143093992, 0.05681775287431442, 0.1753513407672807, 0.00097961642886749, 0.02840887643715721, 0.00097961642886749, 0.00587769857320494, 0.9840789279372156, 0.1518077470075896, 0.8440510733621981, 0.20275231886254144, 0.62941372029502, 0.007052254569131876, 0.038787400130225316, 0.026445954634244536, 0.003526127284565938, 0.019393700065112658, 0.0511288456262061, 0.021156763707395627, 0.8194300690702503, 0.17717406898816224, 0.9789578564330195, 0.974834677737469, 0.3182968408782359, 0.6365936817564718, 0.9341122510499588, 0.061053088303918875, 0.9962042981749489, 0.9978114357786986, 0.9920413079638397, 0.8986755708844911, 0.02462124851738332, 0.06770843342280412, 0.9737515358619873, 0.9776747132093782, 0.335988269115843, 0.04872337437329445, 0.002030140598887269, 0.6131024608639553, 0.021012707802014557, 0.002334745311334951, 0.7471184996271844, 0.111289526506966, 0.01712146561645631, 0.06303812340604367, 0.028795192173131062, 0.007782484371116503, 0.0007782484371116503, 0.978787034881596, 0.2055166378678685, 0.787813778493496, 0.022321660828193323, 0.691971485673993, 0.28398112942534837, 0.6516903587620612, 0.056354598651264715, 0.016617381653578057, 0.0007224948545033938, 0.06646952661431223, 0.04768466039722399, 0.01372740223556448, 0.1286040841016041, 0.014449897090067875, 0.004334969127020362, 0.05170220689570796, 0.40623162560913395, 0.07016728078703223, 0.17110968472627158, 0.044316177339178246, 0.08986335960444479, 0.035699142856560256, 0.1292555172392699, 0.0024620098521765696, 0.8537394393748798, 0.014312480123635873, 0.04937805642654376, 0.08158113670472447, 0.3408758142198463, 0.002272505428132309, 0.08408270084089542, 0.05454013027517541, 0.004545010856264618, 0.009090021712529235, 0.002272505428132309, 0.2840631785165386, 0.17498291796618778, 0.04090509770638156, 0.08577232767541929, 0.025016928905330627, 0.046460010824185445, 0.45387856728242704, 0.364532392620532, 0.02144308191885482, 0.9745039790080615, 0.14923403679930455, 0.010659574057093182, 0.8314467764532683, 0.9928063095399892, 0.06164860931896519, 0.09381310113755571, 0.18762620227511143, 0.013401871591079388, 0.2236198002625818, 0.09764220730643554, 0.07198719597494072, 0.06739226857228492, 0.01225313974041544, 0.05781950315008536, 0.011487318506639475, 0.010338586655975528, 0.014167692824855353, 0.05667077129942141, 0.01952844146128711, 0.0003829106168879825, 0.9991332161664319, 0.9680514719144869, 0.9820391296019273, 0.9725693881896186, 0.8198546982517212, 0.024400437447967892, 0.004880087489593578, 0.0683212248543101, 0.009760174979187157, 0.03904069991674863, 0.02928052493756147, 0.16324884716198285, 0.8354499825348535, 0.9775074754713519, 0.9655516202491505, 0.0018125517463415779, 0.3679480045073403, 0.042141828102441686, 0.0081564828585371, 0.0647987249317114, 0.18306772638049937, 0.21705307162440393, 0.00045313793658539447, 0.005890793175610128, 0.10875310478049467, 0.9782615510618766, 0.9792077896834889, 0.9926305233779722, 0.8919701310861566, 0.0038488463045788855, 0.0038488463045788855, 0.0991077923429063, 0.9444999496112947, 0.9861154965446466, 0.10404718488466184, 0.18162476593466573, 0.09971882199345992, 0.0352928051128773, 0.13734228404775364, 0.07674520357092658, 0.06425954138476717, 0.023639520405795172, 0.10687726831352465, 0.0454478103576203, 0.005660166857725604, 0.047279040811590345, 0.031463868709121746, 0.030964442221675367, 0.00965557875729662, 0.00016647549581545897, 0.9802816521410258, 0.9705480126048708, 0.9982290003943138, 0.6470602484437158, 0.019068573136848205, 0.333064410790282, 0.983564757652557, 0.9878674019230015, 0.0031833456454956463, 0.23397590494393, 0.04536267544831296, 0.7051110604772857, 0.011937546170608675, 0.49326213150457665, 0.3317405267297783, 0.02360700377477823, 0.03230432095495968, 0.014909686594596776, 0.10312533227929437, 0.629210903833947, 0.0841753717503608, 0.0526096073439755, 0.23358665660725123, 0.9889034009573979, 0.9722283753188905, 0.9862103615336844, 0.00602243810115222, 0.01204487620230444, 0.04817950480921776, 0.10238144771958774, 0.548041867204852, 0.25294240024839326, 0.03613462860691332, 0.9939183692099729, 0.8795179218227096, 0.09098461260234927, 0.9888165474384704, 0.9871450522551765, 0.10939378104821809, 0.33761184151088, 0.016974897059206254, 0.10184938235523754, 0.43191682517313695, 0.22627628311306522, 0.3561756308261212, 0.01676120615652335, 0.08799633232174758, 0.3121774646652474, 0.6628944643803982, 0.011706745507821602, 0.10828739594734982, 0.07609384580084042, 0.013170088696299303, 0.12292082783212682, 0.0029266863769554004, 0.22673281057073202, 0.06118186951908642, 0.5974229611863733, 0.11156693853480465, 0.9664656845808056, 0.21625308648115543, 0.022872922608583746, 0.030150670711314942, 0.017674531106632897, 0.39819678904943523, 0.060301341422629884, 0.012476139604682045, 0.12892010924838113, 0.1122852564421384, 0.0010396783003901705, 0.1804829363430013, 0.27401788875433775, 0.42156598269898116, 0.1225176137218914, 0.003667581932076517, 0.008252059347172163, 0.0009168954830191293, 0.005501372898114776, 0.36767508869067084, 0.002750686449057388, 0.1503708592151372, 0.014670327728306069, 0.2613152126604519, 0.184295992086845, 0.9944352107167751, 0.9963711732705558, 0.9418111472222992, 0.049309878340884926, 0.11388233807299614, 0.09509762251456379, 0.008218313056814154, 0.533016303970518, 0.003522134167206066, 0.10448998029377995, 0.0798350411233375, 0.009392357779216176, 0.003522134167206066, 0.9777127065303738, 0.9566799356475223, 0.033765174199324316, 0.9920464930534728, 0.9643441571383773, 0.06777104023791332, 0.6099393621412199, 0.32002991223459065, 0.09579476073138184, 0.1348122896809615, 0.12351066060591084, 0.005919900944074158, 0.1420776226577798, 0.049242812398435046, 0.2069274466360467, 0.06942429288959695, 0.052202762870472125, 0.01856696205186895, 0.005919900944074158, 0.0005381728130976507, 0.04843555317878857, 0.023141430963198983, 0.02098873971080838, 0.0021526912523906028, 0.9914303866080306, 0.07999399898548099, 0.9178258830965713, 0.08466822461283088, 0.033867289845132355, 0.863615891050875, 0.1641138009078987, 0.10672431224685437, 0.039266492241767176, 0.023157162091298592, 0.3956854218208846, 0.005034165672021433, 0.15203180329504726, 0.024163995225702877, 0.008054665075234292, 0.024163995225702877, 0.05537582239223576, 0.18338851740846226, 0.03758193037800536, 0.011020265298813604, 0.04521134481564555, 0.1661516921974974, 0.26137808721545086, 0.06188302821641485, 0.050297621107405675, 0.02458366874350727, 0.15174057603751037, 0.0005651418101955694, 0.001977996335684493, 0.00423856357646677, 0.018326288730601326, 0.3911714732497317, 0.5643233047043787, 0.025909580619126012, 0.94990457600429, 0.9983286744964022, 0.05218162954272243, 0.20002957991376932, 0.7479366901123549, 0.07221370025060007, 0.7474117975937108, 0.0054160275187950056, 0.14623274300746514, 0.02708013759397503, 0.9395264626293592, 0.04560808071016307, 0.35938838844721666, 0.6070749804851633, 0.002428299921940653, 0.031567898985228486, 0.9921590790161576, 0.04120788229042362, 0.944035121562432, 0.013111598910589333, 0.07930115180051668, 0.02046481336787527, 0.04092962673575054, 0.5320851475647571, 0.035813423393781726, 0.13302128689118928, 0.015348610025906454, 0.07930115180051668, 0.06139444010362582, 0.9749893035917451, 0.9686483078587059, 0.9876269073312683, 0.9507106004175119, 0.011174165377056625, 0.18297695804930222, 0.04329989083609442, 0.032125725459037795, 0.032125725459037795, 0.04609343218035858, 0.16761248065584938, 0.016761248065584936, 0.38690547618058563, 0.004190312016396234, 0.0013967706721320782, 0.0446966615082265, 0.02374510142624533, 0.008380624032792468, 0.9500151195047783, 0.9870343752084146, 0.002048824891555658, 0.5040109233226919, 0.05736709696355843, 0.002048824891555658, 0.1024412445777829, 0.3319096324320166, 0.9918547439799421, 0.9514037970993569, 0.04266312987178905, 0.2722911524170066, 0.19323888236045628, 0.4140833193438349, 0.010038383499244482, 0.008783585561838923, 0.05019191749622241, 0.008783585561838923, 0.05782070402867453, 0.2628213819485206, 0.6728227377882127, 0.11646396025798478, 0.8642851787566238, 0.012259364237682608, 0.01473417889308022, 0.2725823095219841, 0.04493924562389467, 0.19301774349935089, 0.024311395173582363, 0.12008355797860379, 0.019154432561004287, 0.12818735636979792, 0.01547088783773423, 0.1407114084289161, 0.016944305727042253, 0.009577216280502144, 0.001473417889308022, 0.23781445548842567, 0.7596375412723814, 0.9927285546247607, 0.01805633349298637, 0.9569856751282777, 0.030301493687609416, 0.039139429346495495, 0.5593150709837904, 0.11489316356551903, 0.03787686710951177, 0.012625622369837256, 0.14014440830519354, 0.02020099579173961, 0.04545224053141412, 0.024951373089798563, 0.016634248726532377, 0.6986384465143598, 0.24951373089798565, 0.3252435341089568, 0.6741411434258378, 0.9628095703922008, 0.9642785576685303, 0.1723237670766257, 0.12062663695363798, 0.49727715642111986, 0.20925028859304548, 0.9960033887821392, 0.9806306225429832, 0.03143375351222854, 0.9618728574741934, 0.24969756681549307, 0.01783554048682093, 0.004458885121705233, 0.0267533107302314, 0.3477930394930082, 0.0535066214604628, 0.1471432090162727, 0.0401299660953471, 0.11147212804263083, 0.09973075192813441, 0.00166217919880224, 0.297530076585601, 0.18117753266944417, 0.4188691580981645, 0.9506784852271538, 0.008281592819883386, 0.34368610202516053, 0.016563185639766772, 0.008281592819883386, 0.11594229947836741, 0.5010363656029448, 0.9709438442599165, 0.9879559252471471, 0.059169417883282865, 0.061584496164233185, 0.035018635073779655, 0.44316686455438387, 0.05071664389995674, 0.09298051381658735, 0.11954637490704088, 0.012075391404751605, 0.05433926132138222, 0.0012075391404751605, 0.004830156561900642, 0.030188478511879013, 0.02535832194997837, 0.003622617421425481, 0.007245234842850962, 0.9694769752300865, 0.9977067726081253, 0.9970577995065147, 0.003076265357699653, 0.027686388219296875, 0.11689808359258681, 0.21841484039667536, 0.13535567573878474, 0.4245246193625521, 0.07075410322709202, 0.013853758501155644, 0.16970854163915663, 0.01962615787663716, 0.29439236814955744, 0.3786693990315876, 0.08543151075712647, 0.03694335600308172, 0.9784759763151581, 0.9980962966692521, 0.13703312691206693, 0.29690510830947836, 0.5481325076482677, 0.11201438241546266, 0.12412404537929647, 0.7568539352396126, 0.42533615994257773, 0.570131448433668, 0.10318721571219164, 0.8899897355176529, 0.9812087523444766, 0.9789945611002855, 0.016879216570694577, 0.993221376267134, 0.005058852510698476, 0.02715167399451445, 0.20997294555757842, 0.11403703077696069, 0.00543033479890289, 0.02715167399451445, 0.5394132566910204, 0.025341562394880154, 0.052493236389394606, 0.034916720423448455, 0.10475016127034537, 0.14918962362746158, 0.19997758060702298, 0.03174247311222587, 0.025393978489780696, 0.2507655375865844, 0.08570467740300984, 0.03174247311222587, 0.06983344084689691, 0.015871236556112934, 0.13278067412795433, 0.05141719721550572, 0.3893016360602576, 0.10707207552020148, 0.009887922541443408, 0.2127315906773396, 0.04237681089190032, 0.012148019122344759, 0.04237681089190032, 0.9869727341782841, 0.9657244109631279, 0.06578229163041763, 0.19871733930021993, 0.0767460069021539, 0.015075108498637373, 0.020556966134505507, 0.6112271263992971, 0.0068523220448351695, 0.005481857635868136, 0.9911955666426925, 0.12345028564917673, 0.3906838451721005, 0.12780735455444178, 0.021785344526325304, 0.11618850414040163, 0.002904712603510041, 0.0014523563017550204, 0.015975919319305223, 0.1989728133404378, 0.9699257841091886, 0.08176755631031131, 0.05290841878902497, 0.07695770005676358, 0.610851744200561, 0.002404928126773862, 0.05531334691579883, 0.028859137521286344, 0.03847885002838179, 0.040883778155155655, 0.007214784380321586, 0.1534476363019283, 0.8343715223917351, 0.08051430153795222, 0.2737486252290376, 0.6441144123036178, 0.15259468991624672, 0.11738053070480517, 0.45256715727297103, 0.013042281189422796, 0.05999449347134486, 0.11346784634797832, 0.015650737427307354, 0.0013042281189422796, 0.07173254654182537, 0.9758014062731054, 0.11091419035400217, 0.055457095177001085, 0.153061582688523, 0.6787948449664932, 0.027174727780949617, 0.03458601717575406, 0.9362928935436277, 0.046643955640832936, 0.04947086204330766, 0.19081618216704382, 0.38163236433408765, 0.021201798018560425, 0.01696143841484834, 0.05371122164701975, 0.028269064024747232, 0.08622064527547907, 0.06219194085444391, 0.00848071920742417, 0.0551246748482571, 0.09229736789867167, 0.014199595061334103, 0.007099797530667052, 0.5159186205618058, 0.042598785184002314, 0.04023218600711329, 0.15619554567467514, 0.01656619423822312, 0.04969858271466936, 0.030765789299557224, 0.02603259094577919, 0.007099797530667052, 0.012467387364796167, 0.9849236018188972, 0.03206595072890376, 0.06311069283586791, 0.2391670592582567, 0.007352702077965194, 0.13602498844235608, 0.05861737489933363, 0.010212086219396102, 0.34761941490824333, 0.08087972285761713, 0.0028593841414309086, 0.021649622785119737, 0.00020424172438792204, 0.9675170925796256, 0.07631055292303958, 0.0290706868278246, 0.8902897841021283, 0.9752142734720779, 0.9342049331755521, 0.969850486957913, 0.9892765896902174, 0.9515966213632866, 0.48260225822605807, 0.014056376453186158, 0.5029059131028826, 0.10728083814932628, 0.11271903731818614, 0.13817969706330274, 0.005685390040171669, 0.0758875974927262, 0.11296622818949795, 0.05932580911483481, 0.12606734436902398, 0.12532577175508855, 0.01582021576395595, 0.011865161822966963, 0.02298875103199849, 0.03608986721152451, 0.022741560160686677, 0.02719099584429929, 0.9676625513938472, 0.9287514065166115, 0.048881652974558494, 0.9135686003669731, 0.07613071669724776, 0.9864512045882046, 0.12150008930799705, 0.005170216566297747, 0.024558528689914295, 0.01551064969889324, 0.47048970753309494, 0.2610959365980362, 0.1021117771843805, 0.9979290048147079, 0.06702126684986376, 0.04039638001909597, 0.18545610826948603, 0.22952488647213617, 0.006426696821219813, 0.43885158293472437, 0.032133484106099064, 0.05593592761024344, 0.24525752875260584, 0.009466080057118121, 0.024525752875260584, 0.08175250958420195, 0.007744974592187553, 0.42296166800668694, 0.04776067665182324, 0.0004302763662326418, 0.03915514932717041, 0.05765703307517401, 0.006884421859722269, 0.959601846225457, 0.9694196329690253, 0.012589865363234096, 0.9726379390269906, 0.9519891158100342, 0.5851668949413713, 0.02127879617968623, 0.39011126329424756, 0.9935558985809799, 0.008820472649650163, 0.03528189059860065, 0.16317874401852803, 0.7762015931692143, 0.013230708974475244, 0.9683366757196936, 0.9861542010511472, 0.8796981400032634, 0.12005292263573948, 0.1895738874947831, 0.46616529711831906, 0.06060148862538148, 0.051278182683015094, 0.032631570798282335, 0.07924810051011424, 0.07769421618638651, 0.010877190266094112, 0.006215537294910921, 0.024862149179643685, 0.984500999830656, 0.968786324068675, 0.22172487508933428, 0.009792265776816024, 0.17416244131622788, 0.10211934310108141, 0.114009951544358, 0.011191160887789743, 0.01958453155363205, 0.024480664442040063, 0.008393370665842307, 0.1993425533137548, 0.0006994475554868589, 0.004196685332921154, 0.11051271376692372, 0.0006994475554868589, 0.9899637816302437, 0.9888960224179896, 0.9982155599447853, 0.9615265893750081, 0.9791474003864533, 0.9650808612487201, 0.969442780228764, 0.05526999326960561, 0.7421970524775611, 0.04737427994537624, 0.03947856662114687, 0.11053998653921122, 0.9778635339719816, 0.09660739169499862, 0.9016689891533205, 0.9958929099565818, 0.9746593336910031, 0.9268919792093716, 0.9871772733858866, 0.9824659095322823, 0.02337248977087892, 0.9582720806060356, 0.9900906633028927, 0.9818745516260784, 0.9804786142728815, 0.1419617670628509, 0.008560508566604074, 0.005707005711069382, 0.0007133757138836728, 0.2839235341257018, 0.07490444995778565, 0.0734776985300183, 0.04137579140525303, 0.002853502855534691, 0.33528658552532625, 0.012127387136022438, 0.018547768560975494, 0.48296904679363734, 0.03312648177540147, 0.11933062185002574, 0.014304617130286999, 0.09034495029654946, 0.0003764372929022894, 0.016186803594798446, 0.054583407470831964, 0.0003764372929022894, 0.10163806908361814, 0.0007528745858045788, 0.020704051109625917, 0.015810366301896157, 0.007152308565143499, 0.0353851055328152, 0.00677587127224121, 0.9776090164954875, 0.9792163184688893, 0.06317117970866318, 0.8773774959536552, 0.06317117970866318, 0.9774808875956045, 0.9560739737200462, 0.9855852252963797, 0.5170739132776543, 0.02195864950218552, 0.01097932475109276, 0.45015231479480317, 0.17485884564600146, 0.22160930090552267, 0.10260814206310502, 0.11535826622479263, 0.1736445481067931, 0.06678636465645889, 0.018821611857729324, 0.03278603355862527, 0.05342909172516711, 0.012750124161687606, 0.024285950784166867, 0.0024285950784166867, 0.07090874385142092, 0.243974152573533, 0.29084603410243837, 0.040862665948276464, 0.09855113552231382, 0.03244976413539601, 0.03485345036764757, 0.17066172248986053, 0.016825803625760895, 0.3056496104929054, 0.0602689372802912, 0.6069942968943614, 0.02582954454869623, 0.022857853301983002, 0.009143141320793201, 0.050287277264362606, 0.6263051804743343, 0.274294239623796, 0.013714711981189802, 0.004571570660396601, 0.9620206077175403, 0.19203492532721989, 0.8041462498077333, 0.13832515538052867, 0.8576159633592777, 0.002729642776671198, 0.04913356998008156, 0.7370035497012234, 0.17196749493028546, 0.002729642776671198, 0.030026070543383174, 0.005459285553342396, 0.33800916645201184, 0.6611230137044435, 0.23734229511610105, 0.761703179674929, 0.10290918087052327, 0.1728874238624791, 0.23051656514997212, 0.4898477009436908, 0.9747641896877227, 0.1515335199482893, 0.7576675997414466, 0.08418528886016073, 0.987073358852973, 0.9826700880094297, 0.06880522040327541, 0.9174029387103388, 0.9525972635221996, 0.9844483152773776, 0.9902469719906578, 0.9645240348989744, 0.050946595595900084, 0.11038429045778352, 0.6736272084346788, 0.15991570284268636, 0.002830366421994449, 0.0014151832109972244, 0.06875365282002646, 0.9212989477883546, 0.1543284115343493, 0.06387952565341198, 0.2820874628411733, 0.059922386896120984, 0.0706631920944823, 0.04409383186695695, 0.05879177582260926, 0.06896727548421472, 0.005653055367558583, 0.08931827480742562, 0.04578974847722452, 0.024873443617257768, 0.0067836664410703, 0.011871416271873025, 0.013002027345384741, 0.9433614842077525, 0.9336323217512549, 0.06142317906258255, 0.9453139444149344, 0.20790063661808192, 0.7761623767075059, 0.9838280616972968, 0.7951701034262346, 0.20474439788819215, 0.05176882157972143, 0.2090857259918846, 0.09248022495794896, 0.16736910277715764, 0.06031319018996671, 0.006533928937246394, 0.0010052198364994451, 0.12514986964418093, 0.037193133950479476, 0.026135715748985575, 0.047747942233723646, 0.17440564163265374, 0.9499313293263307, 0.9833334077883459, 0.13413368616101584, 0.025240209761481475, 0.052643866073947075, 0.0014422977006560843, 0.170912277527746, 0.61513996932982, 0.027809909870914244, 0.9455369356110843, 0.14008928616422883, 0.07641233790776118, 0.7768587687289054, 0.984555651225073, 0.9496570059737044, 0.9698959194362998, 0.9392296978388349, 0.5466130482922203, 0.45058643170034385, 0.9756607980352985, 0.1369237506361496, 0.07913941550529746, 0.7838570678619939, 0.9824772556971787, 0.42900495082313556, 0.007090990922696455, 0.12586508887786207, 0.05052331032421224, 0.04875056259353813, 0.33859481655875573, 0.9772735696595742, 0.9831275029255397, 0.22948575227488752, 0.7601715544105649, 0.9942785853103429, 0.9678788504030449, 0.9829278046358365, 0.15216405016127255, 0.032034536876057375, 0.018019426992782275, 0.18920398342421388, 0.1721856357088084, 0.0570615188104772, 0.22023744102289447, 0.1591716051029101, 0.9908146749916589, 0.9873692804247693, 0.9969124982868441, 0.9818477441563036, 0.24043304683549901, 0.02487238415539645, 0.5637740408556529, 0.04642845042340671, 0.05969372197295148, 0.06135188091664458, 0.0033163178873861932, 0.07093733916552174, 0.9221854091517825, 0.2921437022402308, 0.6816686385605385, 0.9929916196077804, 0.04756074585380569, 0.7405887568664029, 0.10531308010485545, 0.10531308010485545, 0.9926216218120243, 0.0028199477892387054, 0.0028199477892387054, 0.9928812643154827, 0.028514016353736966, 0.06373721302600029, 0.0033545901592631727, 0.39919622895231754, 0.04696426222968442, 0.021804836035210624, 0.05535073762784235, 0.048641557309316005, 0.01845024587594745, 0.12579713097236897, 0.04025508191115807, 0.1476019670075796, 0.9590499519288397, 0.04729261872876676, 0.2729296912178226, 0.26039429830176397, 0.19657775254728352, 0.03418743522561452, 0.007977068219310055, 0.0005697905870935754, 0.046153037554579605, 0.025070785832117318, 0.009686439980590782, 0.036466597573988825, 0.06096759281901257, 0.0005697905870935754, 0.0011395811741871508, 0.14274991808195836, 0.01223570726416786, 0.0611785363208393, 0.06525710540889526, 0.03670712179250358, 0.03262855270444763, 0.6484924850008966, 0.22027337251019097, 0.635144080244109, 0.07973085262638814, 0.002702740766996208, 0.06081166725741469, 0.033503190447400674, 0.036724651067343045, 0.048966201423124064, 0.04316757230722779, 0.09406665010231728, 0.21326069304018505, 0.0631406281508705, 0.0302817298274583, 0.30926021951446775, 0.025127392835550506, 0.03865752743930847, 0.04316757230722779, 0.019328763719654234, 0.001288584247976949, 0.9944951350554815, 0.9879552753599377, 0.6489059428536144, 0.0036869655843955363, 0.01843482792197768, 0.28389634999845625, 0.04424358701274643, 0.959553358098398, 0.9610250870340028, 0.034897559026374404, 0.9929916196077804, 0.019684350049297625, 0.19356277548475995, 0.0016403625041081353, 0.48882802622422433, 0.0656145001643254, 0.1902820504765437, 0.029526525073946434, 0.008201812520540676, 0.09658973914338842, 0.08517458815371524, 0.046538692496359876, 0.3661629202072088, 0.06497855178737039, 0.021074124904012018, 0.11942004112273477, 0.007902796839004507, 0.021074124904012018, 0.017561770753343347, 0.06058810909903455, 0.05619766641069872, 0.011415150989673177, 0.025464567592347855, 0.0008780885376671675, 0.29082122773204006, 0.596183516850682, 0.09451689901291302, 0.016964571617702335, 0.1927442257504825, 0.09535766958181766, 0.2901307819191473, 0.0020288865868471843, 0.008115546347388737, 0.040577731736943685, 0.3570840392851044, 0.01420220610793029, 0.042786367712444484, 0.9413000896737787, 0.0488852775478995, 0.9451153659260569, 0.9015151026514531, 0.07359306960420026, 0.9585705720194955, 0.02247807798399543, 0.9665573533118035, 0.9923788022891368, 0.2590224877563789, 0.6927345602786878, 0.04819023028025655, 0.7965265103918576, 0.1991316275979644, 0.14551859541844311, 0.7606653851418618, 0.09260274253900926, 0.9839176925010132, 0.9446994657449075, 0.9854702266163885, 0.15686730464351994, 0.7757995270465238, 0.06616172032583835, 0.1278766650206174, 0.20237872203262924, 0.0007413140001195211, 0.008525111001374493, 0.09303490701499989, 0.04855606700782863, 0.09785344801577678, 0.2687263250433264, 0.00037065700005976056, 0.050780009008187195, 0.0033359130005378448, 0.015938251002569702, 0.018903507003047788, 0.06338234701021905, 0.8927055154863062, 0.08304237353360988, 0.2176287618303287, 0.035364673797428414, 0.7453785092688758, 0.06324912619257288, 0.9329246113404499, 0.9750636237957827, 0.9549610106263015, 0.9671903048631567, 0.020361901155013826, 0.058483127169640485, 0.0021660417470237216, 0.8068505507663363, 0.0942228159955319, 0.03790573057291513, 0.9501721014649566, 0.04875511044897573, 0.0645675787026976, 0.13045286309320533, 0.15944238822502874, 0.02108329100496248, 0.49809274999223857, 0.00263541137562031, 0.03162493650744372, 0.019765585317152324, 0.022400996692772634, 0.08760764609681806, 0.8103707263955672, 0.09308312397786919, 0.9928604608277092, 0.05397009879203427, 0.9390797189813963, 0.973238919475892, 0.0914208669698997, 0.02612024770568563, 0.21331535626309933, 0.04788712079375699, 0.02612024770568563, 0.544171827201784, 0.02612024770568563, 0.017413498470457086, 0.9758216659921486, 0.9724540385370857, 0.9665254666662354, 0.9843074467174172, 0.9744132295750201, 0.11700440989074545, 0.8547480048860774, 0.027095758079962104, 0.6602724425987775, 0.14201390525169238, 0.05901876581888514, 0.13648089595617188, 0.9888668985199885, 0.9900759111274122, 0.8525321489532289, 0.10919130971814754, 0.03359732606712232, 0.9787746580722195, 0.9798541033620815, 0.07015150767910762, 0.07015150767910762, 0.013153407689832678, 0.14907195381810368, 0.6927461383311877, 0.5516158226068918, 0.025897456460417453, 0.03366669339854269, 0.012948728230208727, 0.005179491292083491, 0.35220540786167737, 0.018128219522292217, 0.9852657123496916, 0.1324611370612369, 0.17321841000315596, 0.6928736400126239, 0.358965630066988, 0.13042802635874484, 0.005771151608794019, 0.05194036447914618, 0.288557580439701, 0.004616921287035215, 0.0011542303217588039, 0.0011542303217588039, 0.15697532375919732, 0.9715116945588104, 0.9615642939661794, 0.27462149378545664, 0.7159774659406548, 0.9980175178719705, 0.9965199792334738, 0.9875954256602941, 0.9653632484039497, 0.9969102576314226, 0.9953660160230546, 0.02456917715210462, 0.23930378546149902, 0.000982767086084185, 0.02014672526472579, 0.05012112139029343, 0.175423924866027, 0.4432279558239674, 0.008844903774757664, 0.03193993029773601, 0.00196553417216837, 0.003439684801294647, 0.8872920255086804, 0.027196690437047675, 0.07819048500651206, 0.9910994671487354, 0.9694260492151504, 0.9796224137209587, 0.029999822315823405, 0.1999988154388227, 0.7649954690534968, 0.036621348827229144, 0.9521550695079577, 0.16660122741856162, 0.4357262870946996, 0.3844643709659114, 0.971733737656793, 0.05417193740658838, 0.33159791988275306, 0.03447305107691988, 0.08864498848350826, 0.10013600550914821, 0.01805731246886279, 0.052530363545782666, 0.10177757936995392, 0.2166877496263535, 0.0016415738608057083, 0.9956701307241136, 0.06700713172902274, 0.7221879753016895, 0.029780947435121215, 0.14145950031682578, 0.029780947435121215, 0.9573700648203819, 0.005940811124776405, 0.9921154578376596, 0.11966705413466487, 0.8775583969875425, 0.9844130322193606, 0.9341153896715644, 0.008491958087923312, 0.05095174852753987, 0.9614677570956174, 0.1293274150313061, 0.09484010435629113, 0.004789904260418744, 0.21458771086675973, 0.18680626615633103, 0.11591568310213361, 0.0009579808520837488, 0.020117597893758724, 0.20500790234592225, 0.026823463858344967, 0.12328352313455752, 0.8732582888697824, 0.32400929598005973, 0.0867639955762503, 0.5124498488722283, 0.05965024695867208, 0.016268249170546933, 0.997027437331673, 0.16185189058931598, 0.015055989822261952, 0.0012546658185218294, 0.0012546658185218294, 0.0338759771000894, 0.18945453859679623, 0.0050186632740873175, 0.4830463401309043, 0.0012546658185218294, 0.06649728838165696, 0.017565321459305613, 0.006273329092609147, 0.01631065564078378, 0.20853456013326377, 0.0858671718195792, 0.038333558848026424, 0.04446692826371065, 0.01533342353921057, 0.6041368874448965, 0.11445786414702974, 0.08175561724787839, 0.08175561724787839, 0.6990105274693602, 0.020438904311969597, 0.9108608488032659, 0.08456267827086023, 0.004832153044049156, 0.08028587839099484, 0.016663106835866855, 0.19844245413623254, 0.004544483682509142, 0.046959664719261135, 0.003029655788339428, 0.545338041901097, 0.03029655788339428, 0.031811385777564, 0.039385525248412566, 0.28887893932485526, 0.10525046626564494, 0.022393716226732967, 0.48818301374277867, 0.07389926354821878, 0.02015434460405967, 0.4631953585367431, 0.003993063435661579, 0.03194450748529263, 0.49913292945769727, 0.10637984882087557, 0.04768751843694422, 0.10271157817187986, 0.6034305217597942, 0.04218511246345066, 0.020175488569476402, 0.007336541297991419, 0.0036682706489957096, 0.02751202986746782, 0.02751202986746782, 0.007336541297991419, 0.0036682706489957096, 0.0010704746130378489, 0.21730634644668334, 0.0010704746130378489, 0.024620916099870525, 0.014986644582529886, 0.10276556285163349, 0.630509547079293, 0.006422847678227093, 0.09772975062779887, 0.8617987100814991, 0.035538091137381406, 0.08351831144205564, 0.16264092228189783, 0.7296862999674335, 0.01758280240885382, 0.9776425055373098, 0.9312308233887022, 0.05820192646179389, 0.07335338029472332, 0.8655698874777351, 0.044012028176833994, 0.014670676058944664, 0.9734310299327621, 0.9835792084727845, 0.994677208657639, 0.9570374387073352, 0.1476354964632929, 0.8489041046639342, 0.9689548889578741, 0.020186560186622377, 0.9731285359927783, 0.6708234231524406, 0.3229890555919158, 0.9967476245295431, 0.23112236151248336, 0.766353093436129, 0.9519519912245415, 0.6934982425599189, 0.29721353252567956, 0.005355198784246478, 0.8181262691558595, 0.14954996317902808, 0.008797056657589888, 0.008797056657589888, 0.008797056657589888, 0.9961775346497835, 0.9782093373280152, 0.9782522840110275, 0.46305241308073686, 0.03512317065163484, 0.08458232932434512, 0.169881458049744, 0.07956473351696872, 0.030822374245312204, 0.0387071676569037, 0.017203185625290534, 0.030105574844258434, 0.0021503982031613167, 0.01576958682318299, 0.0043007964063226335, 0.01863678442739808, 0.008601592812645267, 0.996579993600178, 0.8991134104167512, 0.09543661898278365, 0.04676482902439015, 0.06589589544345885, 0.4527685719179592, 0.01700539237250551, 0.2848403222394673, 0.012754044279379134, 0.09990668018846988, 0.01700539237250551, 0.01956868995698444, 0.07827475982793776, 0.5003993574714592, 0.03075079850383269, 0.06150159700766538, 0.053115015597529194, 0.02795527136712063, 0.11461661260519458, 0.022364217093696504, 0.008386581410136188, 0.06988817841780157, 0.002795527136712063, 0.002795527136712063, 0.9683596754574296, 0.29459925950042, 0.12739427437856, 0.035829639668969994, 0.01592428429732, 0.06767820826360998, 0.4618042446222799, 0.9046100556980682, 0.030979796428016033, 0.05576363357042886, 0.1494051470963005, 0.2273556586248051, 0.13270146605447808, 0.03897525576425231, 0.012991751921417435, 0.06867068872749216, 0.009279822801012454, 0.0695986710075934, 0.28303459543087983, 0.005567893680607472, 0.0009279822801012454, 0.0017225504759597434, 0.5064298399321645, 0.034451009519194865, 0.15072316664647753, 0.009474027617778588, 0.032728459043235125, 0.11454960665132294, 0.002583825713939615, 0.06459564284849037, 0.055982890468691655, 0.022393156187476664, 0.0017225504759597434, 0.0008612752379798717, 0.9759577705665411, 0.01713769543220596, 0.030320538072364393, 0.6028953367432456, 0.10106846024121464, 0.031199394248374954, 0.13138899831357903, 0.04042738409648586, 0.003075996616036967, 0.0017577123520211243, 0.003075996616036967, 0.012743414552153151, 0.02504740101630102, 0.1667488466582721, 0.16332835749605112, 0.06327904950108787, 0.2642327877815696, 0.053017582014424976, 0.021378057263881037, 0.07183027240664029, 0.01710244581110483, 0.04361123681831732, 0.024798546426102006, 0.010261467486662899, 0.011971712067773381, 0.012826834358328622, 0.03249464704109918, 0.03933562536554111, 0.0025653668716657248, 0.3698632848635721, 0.04676432337355509, 0.11478515737145341, 0.06376953187302968, 0.01700520849947458, 0.1232877616211907, 0.2678320338667246, 0.978094524278144, 0.9791040167002992, 0.9876317988298616, 0.0008215549525572816, 0.10392670149849613, 0.12117935550219905, 0.3142447693531602, 0.13021645998032913, 0.0004107774762786408, 0.3273896485940767, 0.0012323324288359225, 0.9728463787738009, 0.014293650314991734, 0.7652600476334036, 0.21990231253833437, 0.09812532807304061, 0.14262402336197763, 0.04792167184962448, 0.27583486118206474, 0.05476762497099941, 0.04792167184962448, 0.08614491011063449, 0.021964099597744556, 0.07502023628840024, 0.013406658196025897, 0.06560705074650972, 0.04021997458807769, 0.013977154289473808, 0.010554177728786345, 0.0057049609344791054, 0.0005704960934479105, 0.1996249091678461, 0.7421951751112227, 0.005118587414560156, 0.04606728673104141, 0.8701561814172679, 0.11758867316449567, 0.9818734077437675, 0.9887683098572658, 0.9715786627120038, 0.9678833780141608, 0.9687438745920449, 0.9630944904703976, 0.16570830231241404, 0.1900121866515681, 0.03700818751643913, 0.14250913998867606, 0.030379855423942573, 0.09997734239515647, 0.09224428828724382, 0.03976999255497937, 0.010494859146452888, 0.06407387689413342, 0.007180693100204609, 0.08672067821016334, 0.01878027426207359, 0.013256664184993123, 0.0005523610077080468, 0.0011047220154160936, 0.0742854255261099, 0.05278174971592019, 0.050826870096812034, 0.4359381550611186, 0.035187833143946794, 0.05473662933502835, 0.001954879619108155, 0.017593916571973397, 0.1622550083859769, 0.06842078666878543, 0.04496223123948757, 0.9815129663163129, 0.9896447218962887, 0.9953221806010631, 0.027578841901665384, 0.33760306465831763, 0.20636581698832374, 0.02377486370833223, 0.03613779283666499, 0.014264918224999337, 0.14360017679832665, 0.1749829968933252, 0.027578841901665384, 0.007607956386666313, 0.9904165703651439, 0.984581269496084, 0.9760325970905047, 0.9927905575863061, 0.05750977176769308, 0.6657862039259852, 0.07078125756023763, 0.002211914298757426, 0.0597216860664505, 0.09953614344408417, 0.033178714481361386, 0.01105957149378713, 0.9691397684895159, 0.026156713474803542, 0.0006706849608923985, 0.0040241097653543915, 0.9943227298497137, 0.8608237317345022, 0.032280889940043835, 0.03381807517528401, 0.019983408058122373, 0.007685926176200912, 0.019983408058122373, 0.02459496376384292, 0.6406522253118987, 0.0442394119780595, 0.050793398937772016, 0.03440843153849072, 0.021300457619065686, 0.1867886283518068, 0.004915490219784389, 0.018023464139209425, 0.9927079925444875, 0.31516535171362964, 0.14325697805164983, 0.11460558244131987, 0.4297709341549495, 0.07095857164067851, 0.09573775538821704, 0.03266346948539169, 0.02646867354850706, 0.039984591956255346, 0.20442826591719285, 0.02646867354850706, 0.028158163349475598, 0.12333275547070312, 0.014079081674737799, 0.054063673630993146, 0.14304346981533603, 0.06814275530573094, 0.06420061243680436, 0.00844744900484268, 0.24872921475535636, 0.10005062795777256, 0.04527430650603116, 0.20736750263873532, 0.010619899056970273, 0.031300755115280805, 0.33424734926674854, 0.005030478500670129, 0.0022357682225200575, 0.014532493446380372, 0.983975148346841, 0.9055698958619185, 0.08384906443165911, 0.09475745787436013, 0.053301070054327576, 0.7699043452291761, 0.08291277564006512, 0.9723434291060684, 0.09335300450997018, 0.5974592288638092, 0.03547414171378867, 0.27259077316911295, 0.9784232953736214, 0.9724024797219482, 0.9965774486989135, 0.13169146628856582, 0.7174914370204621, 0.06357519062206626, 0.08628061584423279, 0.9785843619912504, 0.0038438729188920643, 0.418982148159235, 0.019219364594460324, 0.46895249610483186, 0.08456520421562543, 0.18894622647028467, 0.808269968789551, 0.9868301842211105, 0.9931206920051858, 0.9853098812076428, 0.9697866788311791, 0.7654108296709563, 0.0015979349262441678, 0.19654599592803262, 0.035154568377371694, 0.056012627672701536, 0.005715574252316483, 0.05944197222409142, 0.07544558013057757, 0.02057606730833934, 0.07658869498104087, 0.6572910390163955, 0.008001803953243077, 0.03657967521482549, 0.004572459401853186, 0.5710210528397394, 0.4276478014773806, 0.9859750964531263, 0.9849285037998768, 0.15686414484069475, 0.7497574380521341, 0.0903962868573495, 0.9636583037606266, 0.9858363337154519, 0.00925667918981645, 0.7969907637418957, 0.03385908473413282, 0.03125453975458414, 0.01562726987729207, 0.11980906905923921, 0.12889996546527044, 0.2810951054122162, 0.4270781988307153, 0.06056745365235598, 0.09628672119092489, 0.004659034896335076, 0.9303460902084151, 0.05849150982330486, 0.0099325205360329, 0.9929661637138023, 0.08588290236531951, 0.05725526824354634, 0.8015737554096488, 0.5874376443409204, 0.054750670425607856, 0.002881614232926729, 0.1465506667031308, 0.04816412360748962, 0.11361793261253961, 0.0069982059942506275, 0.03787264420417987, 0.0020582958806619495, 0.6387848667557963, 0.0008253034454209255, 0.07345200664246236, 0.1394762822761364, 0.003301213781683702, 0.1427774960578201, 0.10019317832101526, 0.8917192870570358, 0.14040745677340855, 0.04052998752222103, 0.12158996256666307, 0.014113120655059107, 0.19106994117618484, 0.08865934770485849, 0.06586122972360917, 0.09806809480823123, 0.04414873640813362, 0.045234361073907395, 0.04378686151954236, 0.02641686686716192, 0.02641686686716192, 0.02135061842688429, 0.031844990196030806, 0.00036187488859125915, 0.9860846097849219, 0.5234933247419208, 0.0299139042709669, 0.43375161192902006, 0.9953736360480792, 0.9878256826132947, 0.11621300935980002, 0.1622010451492396, 0.012429198862010698, 0.2013530215645733, 0.12553490850630805, 0.039151976415333696, 0.10440527044088986, 0.022372557951619257, 0.06276745425315403, 0.023615477837820326, 0.035423216756730484, 0.01926525823611658, 0.024858397724021396, 0.027965697439524068, 0.021129638065418184, 0.0018643798293016046, 0.10237203112134881, 0.29924132173932727, 0.07087294462247225, 0.11812157437078709, 0.1417458892449445, 0.07087294462247225, 0.18899451899325934, 0.08910376130462477, 0.11745495808336903, 0.029363739520842258, 0.10631698792029093, 0.04758950887860642, 0.229847202456248, 0.10024173146770288, 0.04353933791021438, 0.11948004356756504, 0.02632611129454823, 0.024301025810352213, 0.010125427420980089, 0.006075256452588053, 0.048602051620704426, 0.01556623512400594, 0.4236239701604474, 0.0033356218122869872, 0.005559369687144979, 0.3669183993515686, 0.14899110761548542, 0.030020596310582886, 0.00778311756200297, 0.9748279611056957, 0.992911902200354, 0.07542300724080535, 0.018855751810201337, 0.8862203350794629, 0.02167532157148836, 0.10443564029898937, 0.8689833466387606, 0.003940967558452429, 0.9638601601382927, 0.9826426434839587, 0.00881293850658259, 0.004406469253291295, 0.013089133250874189, 0.19633699876311284, 0.2644004916676586, 0.3952918241764005, 0.02356043985157354, 0.04712087970314708, 0.05759218630384643, 0.004177378309534382, 0.9775065244310456, 0.012532134928603148, 0.05423132024044507, 0.2647764458798201, 0.6794865418361647, 0.953245006314812, 0.06765318526092211, 0.7828440008763844, 0.11597688901872362, 0.028994222254680905, 0.9633805857367256, 0.9992341447840156, 0.9525333973929111, 0.8669528021173882, 0.13146415441944, 0.9872610049757411, 0.9213683163477944, 0.07087448587290726, 0.9912728679575521, 0.004013250477560939, 0.03694694392268518, 0.33252249530416667, 0.02599970127892661, 0.3598906019135631, 0.04789418656644376, 0.06431505053208161, 0.01778926929610768, 0.07252548251490054, 0.005473621321879286, 0.006842026652349108, 0.010947242643758572, 0.010947242643758572, 0.005473621321879286, 0.9758796613255821, 0.06442452967462661, 0.0789900755141074, 0.17926825648591752, 0.144535031791771, 0.10419967408243956, 0.03921493110629446, 0.06274388977007113, 0.10419967408243956, 0.0011204266030369846, 0.05378047694577526, 0.08963412824295876, 0.011204266030369845, 0.004481706412147938, 0.06218367646855264, 0.21739831864464587, 0.03623305310744098, 0.5030000313738865, 0.034101697042297395, 0.20461018225378436, 0.004262712130287174, 0.0184119227310715, 0.713973448127106, 0.0020457691923412777, 0.0020457691923412777, 0.0552357681932145, 0.004091538384682555, 0.09615115204004006, 0.004091538384682555, 0.10433422880940517, 0.8396123182586082, 0.15373183292059023, 0.973447045576073, 0.9839912533893111, 0.9536762437474998, 0.24165875884207297, 0.04987724383077669, 0.056902207750604394, 0.028802352071293582, 0.02950484846327635, 0.29294099545681523, 0.1587641845881061, 0.005619971135862162, 0.02458737371939696, 0.039339797951035135, 0.0259923665033625, 0.028099855679310812, 0.014049927839655406, 0.002809985567931081, 0.9939224174539033, 0.0005192693261129421, 0.8583521960646934, 0.1402027180504944, 0.0005192693261129421, 0.1074174262251053, 0.835468870639708, 0.04774107832226902, 0.9992707059397158, 0.9861042971489253, 0.20370247231216201, 0.045997332457584965, 0.6833889393698338, 0.05913942744546639, 0.9761513195305052, 0.13139238125949693, 0.06804248315223949, 0.1955243768742514, 0.30110754038634713, 0.05161843549480236, 0.04536165543482632, 0.03910487537485027, 0.006256780059976044, 0.0977621884371257, 0.005474682552479039, 0.01877034017992813, 0.010167267597461073, 0.010167267597461073, 0.00860307258246706, 0.010167267597461073, 0.9842636794247971, 0.9420925769793383, 0.19056901855324057, 0.13612072753802898, 0.6517780718585623, 0.02081846421169855, 0.9723969860069399, 0.9849341820723448, 0.006379434472051684, 0.7135853130880669, 0.26975894338961404, 0.01002482559893836, 0.9766850182289164, 0.9835662691987064, 0.9896852837831522, 0.9700761820961676, 0.9928337200206488, 0.0807373920451731, 0.5434247541502036, 0.07763210773574337, 0.052789833260305494, 0.003105284309429735, 0.13352722530547861, 0.08694796066403258, 0.021736990166008146, 0.09187443794103987, 0.903431973086892, 0.9575213028667918, 0.0033529200416339026, 0.8047008099921366, 0.0011176400138779674, 0.006705840083267805, 0.18329296227598665, 0.9714775968935385, 0.07033437809626353, 0.12618814893741398, 0.07378214172843331, 0.11825829258342348, 0.06137019265262209, 0.1399792034660931, 0.027582109057358244, 0.021720910882669617, 0.015170159981547035, 0.02861643814700918, 0.1448060725511308, 0.1037776853283104, 0.029995543599877092, 0.015170159981547035, 0.023789569061971487, 0.9910426376799945, 0.9928967380781754, 0.9972455449326252, 0.9935710264436974, 0.9606637753465953, 0.09892400983228186, 0.01978480196645637, 0.8705312865240804, 0.04824448681715492, 0.7504697949335211, 0.15545445752194365, 0.03752348974667605, 0.16769852921156003, 0.8301077195972222, 0.9901436644530738, 0.11180251744673138, 0.18743363219010847, 0.01315323734667428, 0.02630647469334856, 0.02630647469334856, 0.00328830933666857, 0.00986492801000571, 0.6247787739670283, 0.9469814831257087, 0.9918775558231828, 0.9337125614173032, 0.062028781241580504, 0.10470913530688819, 0.05519992459113127, 0.047232925165607176, 0.05861435291635589, 0.1399915613342092, 0.054061781816056406, 0.021624712726422562, 0.40517882792665433, 0.026177283826722048, 0.02447006966410974, 0.9764106173564777, 0.02444652103590857, 0.9429372399564735, 0.02793888118389551, 0.049935938304964574, 0.057426329050709254, 0.007490390745744686, 0.0349551568134752, 0.1997437532198583, 0.18725976864361715, 0.45941063240567404, 0.9396732478969491, 0.02158949575631249, 0.9715273090340619, 0.9868803503241863, 0.9795837931233059, 0.06247434619780998, 0.9030382768592533, 0.028397430089913626, 0.11199886716604371, 0.26994598752841303, 0.011487063299081406, 0.1814956001254862, 0.027568951917795376, 0.02239977343320874, 0.10568098235154894, 0.01952800760843839, 0.09706568487723788, 0.0907478000627431, 0.03733295572201457, 0.006317884814494773, 0.01665624178366804, 0.0005743531649540704, 0.0005743531649540704, 0.9741245761028717, 0.9944761182740637, 0.9889800633584552, 0.096005893987836, 0.08518170005783487, 0.24330905486132948, 0.05082664975826612, 0.08235799729348676, 0.13036094428740477, 0.15153871502001565, 0.05129726688565747, 0.013177279566957882, 0.03717875306391688, 0.034355050299568764, 0.009412342547827059, 0.0014118513821740589, 0.008941725420435706, 0.00047061712739135294, 0.0028237027643481178, 0.9193443593671522, 0.05553086734432463, 0.018510289114774876, 0.9935302278189067, 0.11090821618998732, 0.08207207998059063, 0.6632311328161242, 0.14196251672318377, 0.7561352193914606, 0.008578519506872325, 0.1299032953897809, 0.03921608917427348, 0.012255027866960463, 0.052696619827929995, 0.15542082117088668, 0.0031718534932834016, 0.2410608654895385, 0.009515560479850204, 0.028546681439550612, 0.5550743613245953, 0.3298419454181204, 0.00946914675841494, 0.034325656999254155, 0.043794803757669094, 0.16452642492745959, 0.0666785750905052, 0.14834996588183405, 0.0631276450560996, 0.002367286689603735, 0.10928973550337243, 0.02564560580404046, 0.0015781911264024899, 0.9840066696765289, 0.9911771004236964, 0.9796531304414727, 0.9719791007689025, 0.16578661173005085, 0.09532730174477924, 0.7377504221987263, 0.0028800430422279135, 0.31008463421320537, 0.015360229558548872, 0.11712175038393514, 0.1315219655950747, 0.3571253372362613, 0.033600502159325654, 0.03264048781191635, 0.9640283212502558, 0.2528856798042869, 0.07586570394128607, 0.4956559324164024, 0.16184683507474362, 0.010115427192171476, 0.026442976196615304, 0.06875173811119979, 0.48302503185817286, 0.06346314287187672, 0.002938108466290589, 0.022917246037066595, 0.011164812171904239, 0.17393602120440288, 0.025267732810099065, 0.037607788368519544, 0.05993741271232802, 0.005876216932581178, 0.002938108466290589, 0.005288595239323061, 0.009401947092129886, 0.9845631804812046, 0.9783113746602339, 0.9516000860438552, 0.04673036136822503, 0.029809047898350566, 0.023421394777275444, 0.6742522738912629, 0.23989186165815457, 0.021292177070250405, 0.00993634929945019, 0.9885850611863403, 0.9812360942259041, 0.15841710786524632, 0.7920855393262316, 0.9845700330442109, 0.001533797349943706, 0.9985020748133525, 0.9658892252446979, 0.9772893513337613, 0.9849060960938547, 0.9788803734734994, 0.987698518471337, 0.976287358537972, 0.9855234539019432, 0.990181977034424, 0.9921850293490297, 0.23028254395182163, 0.7623146282543061, 0.12786754723240984, 0.007103752624022769, 0.8595540675067551, 0.9628516530152268, 0.020931086025514946, 0.8058468119823254, 0.14651760217860463, 0.020931086025514946, 0.0022857396333971092, 0.07771514753550171, 0.17028760268808463, 0.009142958533588437, 0.056572055926578456, 0.45429075213767545, 0.21600239535602683, 0.001714304725047832, 0.012000133075334823, 0.9772627246028773, 0.9772622300075493, 0.9011487370700427, 0.08641152273274381, 0.9635417518561992, 0.9894282006999479, 0.06894423828507588, 0.02954753069360395, 0.09356718052974584, 0.38904248746578535, 0.03447211914253794, 0.3791933105679174, 0.08808435849785853, 0.2361869808741599, 0.015976084629513557, 0.18739515484348335, 0.03929253246718199, 0.13946690095494269, 0.034111099614366786, 0.0673586270865977, 0.0686539852998015, 0.009067507492426614, 0.012090009989902152, 0.03886074639611406, 0.04274682103572547, 0.003022502497475538, 0.016407870700581494, 0.000863572142135868, 0.9843832775306578, 0.956047358393074, 0.03134581502928111, 0.8140780914580109, 0.1845625198560341, 0.9809417121900461, 0.9516718161204316, 0.07625814655816193, 0.017475825252912112, 0.12868562231689826, 0.1255081995436415, 0.18587923223551972, 0.09373397181107404, 0.015887113866283737, 0.004766134159885121, 0.11279850845061452, 0.21606474858145883, 0.020653248026168858, 0.025661846694039245, 0.9665962254754783, 0.9848506382779999], \"Term\": [\"aar\", \"access\", \"access\", \"access\", \"access\", \"access\", \"access\", \"access\", \"access\", \"access\", \"access\", \"access\", \"access\", \"access\", \"accuracy\", \"add\", \"add\", \"add\", \"add\", \"add\", \"add\", \"add\", \"add\", \"add\", \"add\", \"add\", \"add\", \"add\", \"add\", \"add\", \"add\", \"advantage\", \"advantage\", \"advantage\", \"advantage\", \"advantage\", \"advantage\", \"aes\", \"ajax\", \"ajax\", \"algorithm\", \"algorithm\", \"algorithm\", \"algorithm\", \"alignment\", \"alignment\", \"allocate\", \"allocate\", \"alpha\", \"alternative\", \"alternative\", \"alternative\", \"alternative\", \"alternative\", \"alternative\", \"alternative\", \"alternative\", \"alternative\", \"alternative\", \"alternative\", \"alternative\", \"alternative\", \"amqp\", \"anaconda\", \"anchor\", \"android\", \"android\", \"android\", \"android\", \"android\", \"android\", \"angularjs\", \"angularjs\", \"annotate\", \"annotate\", \"annotation\", \"annotation\", \"annotation\", \"ansi\", \"answer\", \"answer\", \"answer\", \"answer\", \"answer\", \"answer\", \"answer\", \"answer\", \"answer\", \"answer\", \"answer\", \"answer\", \"answer\", \"answer\", \"answer\", \"apache\", \"apache\", \"apache\", \"apache\", \"apache\", \"apache\", \"api\", \"api\", \"api\", \"api\", \"api\", \"api\", \"api\", \"api\", \"api\", \"api\", \"api\", \"apk\", \"app\", \"app\", \"app\", \"app\", \"app\", \"app\", \"app\", \"app\", \"app\", \"app\", \"app\", \"app\", \"app\", \"application\", \"application\", \"application\", \"application\", \"application\", \"application\", \"application\", \"application\", \"application\", \"application\", \"application\", \"application\", \"application\", \"approach\", \"approach\", \"approach\", \"approach\", \"approach\", \"approach\", \"approach\", \"approach\", \"approach\", \"approach\", \"approach\", \"approach\", \"approach\", \"approach\", \"apt\", \"architecture\", \"architecture\", \"architecture\", \"architecture\", \"architecture\", \"architecture\", \"architecture\", \"architecture\", \"argue\", \"argument\", \"argument\", \"argument\", \"argument\", \"argument\", \"array\", \"array\", \"array\", \"array\", \"asax\", \"ascii\", \"asm\", \"asp\", \"asp\", \"asp\", \"assembler\", \"association\", \"association\", \"async\", \"async\", \"asynchronous\", \"asynchronous\", \"asynchronous\", \"asyncio\", \"atomic\", \"atomic\", \"audio\", \"audio\", \"audio\", \"authenticate\", \"authentication\", \"authentication\", \"authorization\", \"authorize\", \"autocomplete\", \"autocomplete\", \"autowired\", \"await\", \"babel\", \"background\", \"background\", \"background\", \"background\", \"background\", \"background\", \"background\", \"background\", \"background\", \"backup\", \"backup\", \"bar\", \"bar\", \"base\", \"base\", \"base\", \"base\", \"base\", \"base\", \"base\", \"base\", \"base\", \"base\", \"base\", \"base\", \"base\", \"base\", \"base\", \"base\", \"bash\", \"bash\", \"bat\", \"battery\", \"bdd\", \"bean\", \"behaves\", \"behaves\", \"behaves\", \"bellow\", \"benchmark\", \"benchmarking\", \"benefit\", \"benefit\", \"benefit\", \"benefit\", \"benefit\", \"benefit\", \"benefit\", \"binary\", \"binary\", \"binary\", \"binary\", \"binary\", \"binary\", \"binary\", \"binary\", \"bit\", \"bit\", \"bit\", \"bit\", \"bit\", \"bit\", \"bit\", \"bit\", \"bit\", \"bit\", \"bit\", \"bit\", \"bit\", \"bit\", \"bit\", \"bit\", \"bitmap\", \"black\", \"black\", \"block\", \"block\", \"block\", \"block\", \"block\", \"block\", \"block\", \"block\", \"block\", \"bluetooth\", \"bluetooth\", \"blur\", \"boil\", \"bold\", \"bold\", \"boost\", \"boost\", \"boot\", \"bootstrap\", \"border\", \"branch\", \"branch\", \"branch\", \"breakpoint\", \"breakpoints\", \"browser\", \"browser\", \"browser\", \"browser\", \"build\", \"build\", \"build\", \"build\", \"build\", \"build\", \"build\", \"build\", \"build\", \"bundler\", \"bus\", \"bus\", \"button\", \"button\", \"button\", \"c\", \"c\", \"c\", \"c\", \"c\", \"c\", \"c\", \"c\", \"c\", \"c\", \"c#\", \"c#\", \"c#\", \"c#\", \"c#\", \"c#\", \"c#\", \"c#\", \"c#\", \"c++\", \"c++\", \"c++\", \"c++\", \"cache\", \"cache\", \"cache\", \"cache\", \"cache\", \"cache\", \"cache\", \"cache\", \"cache\", \"cache\", \"calculate\", \"calculate\", \"calculate\", \"calculate\", \"calculate\", \"calculate\", \"caller\", \"card\", \"card\", \"card\", \"centos\", \"change\", \"change\", \"change\", \"change\", \"change\", \"change\", \"change\", \"change\", \"change\", \"change\", \"change\", \"change\", \"change\", \"change\", \"change\", \"change\", \"character\", \"checkboxes\", \"checkout\", \"chmod\", \"choice\", \"choice\", \"choice\", \"choice\", \"choice\", \"choice\", \"choice\", \"chrome\", \"chrome\", \"chromium\", \"cite\", \"class\", \"class\", \"class\", \"class\", \"class\", \"class\", \"class\", \"class\", \"class\", \"class\", \"classification\", \"classifier\", \"clause\", \"client\", \"client\", \"client\", \"client\", \"clojure\", \"cocoapods\", \"code\", \"code\", \"code\", \"code\", \"code\", \"code\", \"code\", \"code\", \"code\", \"code\", \"code\", \"code\", \"code\", \"code\", \"code\", \"code\", \"collapse\", \"collector\", \"color\", \"column\", \"column\", \"column\", \"comfortable\", \"comma\", \"command\", \"command\", \"command\", \"command\", \"command\", \"compile\", \"compile\", \"compile\", \"compile\", \"compile\", \"compile\", \"compiler\", \"compiler\", \"compiler\", \"compiler\", \"composer\", \"compound\", \"comprehension\", \"compute\", \"compute\", \"compute\", \"compute\", \"compute\", \"compute\", \"compute\", \"concatenate\", \"conclusion\", \"conclusion\", \"concurrently\", \"conda\", \"configuration\", \"configuration\", \"configuration\", \"configuration\", \"configuration\", \"configure\", \"configure\", \"configure\", \"configure\", \"configure\", \"connection\", \"connection\", \"connection\", \"connection\", \"connection\", \"connection\", \"connection\", \"constructor\", \"constructor\", \"constructor\", \"constructor\", \"consumption\", \"content\", \"content\", \"content\", \"content\", \"content\", \"content\", \"content\", \"content\", \"content\", \"content\", \"controller\", \"controller\", \"controller\", \"controller\", \"convert\", \"convert\", \"convert\", \"convert\", \"convert\", \"convert\", \"convert\", \"convert\", \"convert\", \"convert\", \"cookie\", \"cooky\", \"coordinatorlayout\", \"core\", \"core\", \"core\", \"core\", \"core\", \"core\", \"core\", \"core\", \"core\", \"core\", \"coredata\", \"corner\", \"corner\", \"cors\", \"cortex\", \"cpu\", \"cpu\", \"cpu\", \"create\", \"create\", \"create\", \"create\", \"create\", \"create\", \"create\", \"create\", \"create\", \"create\", \"create\", \"create\", \"create\", \"create\", \"create\", \"create\", \"credential\", \"csv\", \"csv\", \"curve\", \"curve\", \"curve\", \"custom\", \"custom\", \"custom\", \"custom\", \"custom\", \"custom\", \"custom\", \"custom\", \"custom\", \"custom\", \"custom\", \"data\", \"data\", \"data\", \"data\", \"data\", \"data\", \"data\", \"data\", \"data\", \"data\", \"data\", \"data\", \"data\", \"database\", \"database\", \"database\", \"database\", \"databinding\", \"dataframe\", \"dataset\", \"dataset\", \"dataset\", \"date\", \"date\", \"date\", \"date\", \"date\", \"datetime\", \"datetime\", \"db\", \"db\", \"db\", \"db\", \"dbcontext\", \"debug\", \"debug\", \"debug\", \"decide\", \"decide\", \"decide\", \"decide\", \"decide\", \"decide\", \"decide\", \"decide\", \"decide\", \"decorator\", \"decrease\", \"decrypt\", \"decryption\", \"define\", \"define\", \"define\", \"define\", \"define\", \"define\", \"define\", \"define\", \"define\", \"define\", \"define\", \"define\", \"define\", \"define\", \"definitive\", \"density\", \"dependency\", \"dependency\", \"dependency\", \"dependency\", \"dependency\", \"dependency\", \"deserialize\", \"deterministic\", \"device\", \"device\", \"device\", \"device\", \"device\", \"device\", \"device\", \"device\", \"dialog\", \"dialog\", \"dialog\", \"dictionary\", \"dictionary\", \"dictionary\", \"difference\", \"difference\", \"difference\", \"difference\", \"difference\", \"difference\", \"difference\", \"difference\", \"difference\", \"difference\", \"difference\", \"difference\", \"difference\", \"directory\", \"directory\", \"disadvantage\", \"discuss\", \"discuss\", \"display\", \"display\", \"display\", \"display\", \"display\", \"display\", \"display\", \"display\", \"display\", \"distance\", \"distance\", \"distance\", \"distance\", \"div\", \"div\", \"dive\", \"divs\", \"django\", \"django\", \"django\", \"django\", \"docker\", \"dockerfile\", \"dom\", \"dom\", \"double\", \"double\", \"double\", \"double\", \"double\", \"double\", \"double\", \"double\", \"double\", \"download\", \"download\", \"download\", \"download\", \"download\", \"dp\", \"draw\", \"draw\", \"draw\", \"draw\", \"draw\", \"draw\", \"drawer\", \"dto\", \"easy\", \"easy\", \"easy\", \"easy\", \"easy\", \"easy\", \"easy\", \"easy\", \"easy\", \"easy\", \"easy\", \"easy\", \"easy\", \"easy\", \"easy\", \"easy_install\", \"eclipse\", \"ef\", \"efficient\", \"efficient\", \"efficient\", \"efficient\", \"efficient\", \"efficient\", \"efficient\", \"element\", \"element\", \"element\", \"element\", \"element\", \"element\", \"element\", \"eloquent\", \"email\", \"emulate\", \"emulate\", \"emulate\", \"encode\", \"encode\", \"encode\", \"encrypt\", \"encrypt\", \"encryption\", \"encryption\", \"endless\", \"endpoint\", \"endpoint\", \"entity\", \"entity\", \"environment\", \"environment\", \"environment\", \"environment\", \"environment\", \"environment\", \"environment\", \"environment\", \"equivalent\", \"equivalent\", \"equivalent\", \"equivalent\", \"equivalent\", \"equivalent\", \"equivalent\", \"equivalent\", \"equivalent\", \"equivalent\", \"equivalent\", \"error\", \"error\", \"error\", \"error\", \"error\", \"error\", \"error\", \"error\", \"error\", \"escape\", \"estimate\", \"event\", \"event\", \"event\", \"event\", \"event\", \"event\", \"event\", \"event\", \"excel\", \"exception\", \"exception\", \"exception\", \"exception\", \"exception\", \"exception\", \"exception\", \"exception\", \"exception\", \"expectation\", \"experience\", \"experience\", \"experience\", \"experience\", \"experience\", \"experience\", \"experience\", \"experience\", \"experience\", \"experience\", \"explorer\", \"explorer\", \"expression\", \"expression\", \"expression\", \"fail\", \"fail\", \"fail\", \"fail\", \"fail\", \"fail\", \"fail\", \"fail\", \"fail\", \"family\", \"fast\", \"fast\", \"fast\", \"fast\", \"faster\", \"faster\", \"faster\", \"feature\", \"feature\", \"feature\", \"feature\", \"feature\", \"feature\", \"feature\", \"feature\", \"feature\", \"feature\", \"feature\", \"feature\", \"feel\", \"feel\", \"feel\", \"feel\", \"feel\", \"feel\", \"feel\", \"feel\", \"feel\", \"feel\", \"feel\", \"feel\", \"ffmpeg\", \"ffmpeg\", \"file\", \"file\", \"file\", \"file\", \"file\", \"file\", \"file\", \"file\", \"file\", \"file\", \"file\", \"file\", \"filesystem\", \"firefox\", \"firefox\", \"firefox\", \"firestore\", \"flatten\", \"fluent\", \"flutter\", \"flux\", \"folder\", \"folder\", \"folder\", \"follow\", \"follow\", \"follow\", \"follow\", \"follow\", \"follow\", \"follow\", \"follow\", \"follow\", \"follow\", \"follow\", \"follow\", \"follow\", \"follow\", \"follow\", \"footprint\", \"foreach\", \"foreach\", \"foreground\", \"foreground\", \"foreign\", \"format\", \"format\", \"format\", \"format\", \"format\", \"format\", \"format\", \"fragment\", \"framework\", \"framework\", \"framework\", \"framework\", \"framework\", \"framework\", \"framework\", \"function\", \"function\", \"function\", \"function\", \"function\", \"function\", \"function\", \"function\", \"function\", \"function\", \"function\", \"function\", \"fuzzy\", \"g++\", \"g++\", \"galaxy\", \"gc\", \"gcc\", \"gcc\", \"gcc\", \"gem\", \"generic\", \"generic\", \"generic\", \"generic\", \"generic\", \"ghc\", \"gif\", \"git\", \"git\", \"github\", \"github\", \"github\", \"github\", \"github\", \"github\", \"github\", \"github\", \"github\", \"github\", \"gitlab\", \"glassfish\", \"google\", \"google\", \"google\", \"google\", \"google\", \"google\", \"google\", \"google\", \"google\", \"google\", \"google\", \"google\", \"google\", \"google\", \"gpu\", \"gradient\", \"gradle\", \"grammar\", \"groupby\", \"grows\", \"gunicorn\", \"happy\", \"happy\", \"happy\", \"happy\", \"happy\", \"hashmap\", \"heap\", \"heap\", \"height\", \"hierarchical\", \"hijack\", \"histogram\", \"homebrew\", \"honestly\", \"honestly\", \"horizontal\", \"horizontally\", \"hover\", \"html\", \"html\", \"html\", \"html\", \"html\", \"html\", \"html\", \"html\", \"html\", \"html\", \"html\", \"html\", \"http\", \"http\", \"http\", \"http\", \"http\", \"http\", \"http\", \"http\", \"http\", \"http\", \"http\", \"http\", \"http\", \"http\", \"http\", \"http\", \"httpd\", \"hybrid\", \"ide\", \"ide\", \"ide\", \"idiom\", \"idle\", \"iframe\", \"image\", \"image\", \"image\", \"image\", \"implement\", \"implement\", \"implement\", \"implement\", \"implement\", \"implement\", \"implement\", \"implement\", \"implement\", \"implement\", \"implement\", \"implement\", \"implementation\", \"implementation\", \"implementation\", \"implementation\", \"implementation\", \"implementation\", \"implementation\", \"implementation\", \"implementation\", \"improve\", \"improve\", \"improve\", \"improve\", \"increase\", \"increase\", \"increase\", \"increase\", \"increase\", \"increase\", \"increase\", \"ini\", \"inject\", \"inject\", \"injection\", \"injection\", \"insert\", \"insert\", \"insert\", \"insert\", \"insert\", \"insert\", \"insert\", \"instal\", \"instal\", \"install\", \"install\", \"instruction\", \"instruction\", \"instruction\", \"instruction\", \"instrument\", \"intel\", \"intel\", \"intel\", \"intellij\", \"interpolation\", \"interrupt\", \"interrupt\", \"inversion\", \"ioc\", \"ionic\", \"ipc\", \"iphone\", \"iphone\", \"iphone\", \"iphone\", \"iphone\", \"iphone\", \"ipython\", \"ipython\", \"issue\", \"issue\", \"issue\", \"issue\", \"issue\", \"issue\", \"issue\", \"issue\", \"issue\", \"issue\", \"issue\", \"issue\", \"issue\", \"issue\", \"issue\", \"iterable\", \"iterate\", \"iterate\", \"iterates\", \"iteration\", \"iteration\", \"iterator\", \"jar\", \"jar\", \"java\", \"java\", \"java\", \"java\", \"java\", \"java\", \"java\", \"java\", \"java\", \"java\", \"java\", \"java\", \"javadoc\", \"javafx\", \"javascript\", \"javascript\", \"javascript\", \"javascript\", \"javascript\", \"javascript\", \"jboss\", \"jboss\", \"jdbc\", \"jdbc\", \"jdbc\", \"jersey\", \"jetpack\", \"jit\", \"jms\", \"jpa\", \"jpa\", \"jpeg\", \"jquery\", \"jquery\", \"jquery\", \"jsf\", \"json\", \"json\", \"json\", \"json\", \"json\", \"json\", \"jsp\", \"jsr\", \"junit\", \"junit\", \"jwt\", \"karma\", \"kera\", \"key\", \"key\", \"key\", \"key\", \"key\", \"key\", \"key\", \"key\", \"keyboard\", \"kotlin\", \"lambda\", \"landscape\", \"language\", \"language\", \"language\", \"language\", \"language\", \"language\", \"language\", \"laravel\", \"laravel\", \"lastly\", \"lastly\", \"latitude\", \"layer\", \"layer\", \"layer\", \"layer\", \"layout\", \"layout\", \"layout\", \"leak\", \"learn\", \"learn\", \"learn\", \"learn\", \"learn\", \"learn\", \"learn\", \"learn\", \"learn\", \"learn\", \"learn\", \"learn\", \"legal\", \"library\", \"library\", \"library\", \"library\", \"library\", \"library\", \"library\", \"library\", \"library\", \"library\", \"library\", \"library\", \"library\", \"library\", \"limit\", \"limit\", \"limit\", \"limit\", \"limit\", \"limit\", \"limit\", \"linux\", \"linux\", \"linux\", \"linux\", \"linux\", \"list\", \"list\", \"list\", \"list\", \"list\", \"list\", \"list\", \"list\", \"list\", \"list\", \"list\", \"list\", \"list\", \"list\", \"literal\", \"locale\", \"lock\", \"lock\", \"lock\", \"lock\", \"lock\", \"logger\", \"login\", \"login\", \"longitude\", \"loop\", \"loop\", \"loop\", \"loop\", \"loop\", \"loop\", \"loop\", \"loop\", \"lot\", \"lot\", \"lot\", \"lot\", \"lot\", \"lot\", \"lot\", \"lot\", \"lot\", \"lot\", \"lot\", \"lot\", \"lot\", \"lot\", \"lot\", \"mac\", \"mac\", \"mac\", \"mac\", \"map\", \"map\", \"map\", \"map\", \"map\", \"map\", \"map\", \"map\", \"marker\", \"marker\", \"material\", \"material\", \"math\", \"math\", \"mathematical\", \"matlab\", \"matlab\", \"matplotlib\", \"matrix\", \"matrix\", \"matrix\", \"maven\", \"maven\", \"max\", \"max\", \"max\", \"mb\", \"meaningful\", \"membership\", \"memory\", \"memory\", \"memory\", \"method\", \"method\", \"method\", \"method\", \"method\", \"method\", \"method\", \"method\", \"method\", \"method\", \"method\", \"method\", \"method\", \"method\", \"micro\", \"micro\", \"mobile\", \"mobile\", \"mobile\", \"mock\", \"mock\", \"mockito\", \"mod_wsgi\", \"modal\", \"modal\", \"model\", \"model\", \"model\", \"model\", \"model\", \"modular\", \"module\", \"module\", \"module\", \"module\", \"module\", \"module\", \"module\", \"module\", \"module\", \"module\", \"mongodb\", \"mongodb\", \"mongodb\", \"mongoose\", \"mouse\", \"mouse\", \"msbuild\", \"multi\", \"multi\", \"multi\", \"multi\", \"multi\", \"multi\", \"multi\", \"multi\", \"multidimensional\", \"multiplication\", \"multithreaded\", \"multithreading\", \"mutex\", \"mvc\", \"mvc\", \"mvc\", \"mysql\", \"mysql\", \"mysql\", \"mysql\", \"nan\", \"natively\", \"navigation\", \"navigation\", \"navigation\", \"navigationview\", \"ndk\", \"nest\", \"nest\", \"nest\", \"nest\", \"nest\", \"network\", \"network\", \"network\", \"network\", \"network\", \"network\", \"network\", \"neural\", \"nginx\", \"nginx\", \"nginx\", \"node\", \"node\", \"node\", \"node\", \"node\", \"node\", \"node\", \"node\", \"node\", \"node_modules\", \"nonzero\", \"notebook\", \"notebook\", \"notification\", \"npm\", \"nuget\", \"nullpointerexception\", \"numpy\", \"oauth\", \"object\", \"object\", \"object\", \"object\", \"object\", \"object\", \"object\", \"object\", \"object\", \"object\", \"object\", \"objective\", \"objective\", \"objective\", \"occurrence\", \"okhttp\", \"onclick\", \"opencv\", \"opencv\", \"opencv\", \"opengl\", \"opengl\", \"openssl\", \"openssl\", \"openssl\", \"operand\", \"operation\", \"operation\", \"operation\", \"operation\", \"operation\", \"operation\", \"operation\", \"operation\", \"operation\", \"operation\", \"operator\", \"opinion\", \"opinion\", \"opinion\", \"opinion\", \"opinion\", \"optimisation\", \"optimization\", \"optimization\", \"optimize\", \"optimize\", \"orientation\", \"osx\", \"osx\", \"osx\", \"outlook\", \"output\", \"output\", \"output\", \"output\", \"output\", \"output\", \"output\", \"output\", \"output\", \"output\", \"overload\", \"overload\", \"package\", \"package\", \"package\", \"package\", \"package\", \"panda\", \"parameter\", \"parameter\", \"parameter\", \"parameter\", \"parameter\", \"parameter\", \"parameter\", \"parameter\", \"parameter\", \"parameter\", \"parameter\", \"parameter\", \"parameter\", \"pas\", \"pas\", \"pas\", \"pas\", \"pas\", \"pas\", \"passing\", \"passing\", \"passing\", \"passing\", \"passing\", \"password\", \"password\", \"password\", \"path\", \"path\", \"path\", \"path\", \"path\", \"path\", \"path\", \"path\", \"path\", \"path\", \"pattern\", \"pattern\", \"pattern\", \"pattern\", \"pattern\", \"pattern\", \"pdf\", \"pdf\", \"pdf\", \"pdf\", \"people\", \"people\", \"people\", \"people\", \"people\", \"people\", \"people\", \"people\", \"people\", \"people\", \"people\", \"people\", \"performance\", \"performance\", \"performance\", \"performance\", \"performance\", \"performance\", \"performance\", \"performance\", \"persist\", \"persist\", \"persist\", \"phone\", \"phone\", \"phone\", \"phone\", \"phonegap\", \"photo\", \"photo\", \"physical\", \"physical\", \"physical\", \"physical\", \"pi\", \"pil\", \"pip\", \"pitfall\", \"pixel\", \"pixel\", \"player\", \"player\", \"playground\", \"plist\", \"plist\", \"plot\", \"png\", \"png\", \"poco\", \"pointer\", \"pointer\", \"pointer\", \"popular\", \"popular\", \"popular\", \"popular\", \"popular\", \"popup\", \"portrait\", \"posix\", \"post\", \"post\", \"post\", \"post\", \"post\", \"post\", \"post\", \"post\", \"post\", \"post\", \"post\", \"post\", \"post\", \"post\", \"postgres\", \"postgresql\", \"postgresql\", \"practice\", \"practice\", \"practice\", \"practice\", \"practice\", \"practice\", \"practice\", \"practice\", \"prefer\", \"prefer\", \"prefer\", \"prefer\", \"prefer\", \"prefer\", \"prefer\", \"prefer\", \"prefer\", \"prefer\", \"prefer\", \"prefer\", \"prefer\", \"prepared\", \"private\", \"private\", \"private\", \"private\", \"private\", \"private\", \"procedure\", \"procedure\", \"procedure\", \"process\", \"process\", \"process\", \"process\", \"process\", \"process\", \"process\", \"process\", \"process\", \"process\", \"process\", \"program\", \"program\", \"program\", \"program\", \"program\", \"program\", \"program\", \"program\", \"program\", \"program\", \"program\", \"program\", \"program\", \"proguard\", \"project\", \"project\", \"project\", \"project\", \"project\", \"project\", \"project\", \"project\", \"project\", \"project\", \"project\", \"project\", \"provide\", \"provide\", \"provide\", \"provide\", \"provide\", \"provide\", \"provide\", \"provide\", \"provide\", \"provide\", \"provide\", \"provide\", \"provide\", \"provide\", \"provide\", \"provide\", \"public\", \"public\", \"public\", \"public\", \"public\", \"public\", \"public\", \"puppeteer\", \"pycharm\", \"pyspark\", \"python\", \"python\", \"python\", \"python\", \"python\", \"python\", \"python\", \"python\", \"pytorch\", \"query\", \"query\", \"query\", \"question\", \"question\", \"question\", \"question\", \"question\", \"question\", \"question\", \"question\", \"question\", \"question\", \"question\", \"question\", \"question\", \"question\", \"question\", \"question\", \"queue\", \"queue\", \"queue\", \"queue\", \"ram\", \"ram\", \"raspberry\", \"razor\", \"rdd\", \"rds\", \"reactive\", \"reactor\", \"read\", \"read\", \"read\", \"read\", \"read\", \"read\", \"read\", \"read\", \"read\", \"read\", \"read\", \"read\", \"read\", \"read\", \"read\", \"read\", \"real\", \"real\", \"real\", \"real\", \"real\", \"real\", \"real\", \"real\", \"real\", \"real\", \"real\", \"realtime\", \"recyclerview\", \"redirect\", \"reference\", \"reference\", \"reference\", \"reference\", \"reference\", \"reference\", \"reference\", \"reference\", \"reference\", \"reference\", \"regex\", \"regression\", \"relational\", \"relationship\", \"release\", \"release\", \"release\", \"release\", \"release\", \"release\", \"release\", \"release\", \"request\", \"request\", \"request\", \"request\", \"resize\", \"response\", \"response\", \"response\", \"response\", \"response\", \"response\", \"response\", \"rest\", \"rest\", \"rest\", \"rest\", \"rest\", \"rest\", \"rest\", \"rest\", \"restful\", \"restore\", \"restore\", \"restore\", \"restore\", \"result\", \"result\", \"result\", \"result\", \"result\", \"result\", \"result\", \"result\", \"result\", \"result\", \"result\", \"result\", \"result\", \"result\", \"result\", \"return\", \"return\", \"return\", \"return\", \"return\", \"return\", \"return\", \"return\", \"return\", \"return\", \"rgb\", \"robust\", \"robust\", \"role\", \"role\", \"role\", \"role\", \"rollback\", \"row\", \"row\", \"row\", \"row\", \"rsa\", \"rvm\", \"safari\", \"safe\", \"safe\", \"safe\", \"safe\", \"sas\", \"scale\", \"scale\", \"scale\", \"scale\", \"scale\", \"schema\", \"schema\", \"scientific\", \"scikit\", \"scipy\", \"scoped\", \"screen\", \"screen\", \"screen\", \"screen\", \"script\", \"script\", \"script\", \"script\", \"script\", \"script\", \"script\", \"script\", \"script\", \"script\", \"scroll\", \"scroll\", \"scrollbar\", \"scrollview\", \"sdk\", \"sdk\", \"sdk\", \"sdks\", \"secure\", \"secure\", \"security\", \"security\", \"security\", \"security\", \"security\", \"select\", \"select\", \"select\", \"select\", \"select\", \"select\", \"send\", \"send\", \"send\", \"sends\", \"serial\", \"serial\", \"serial\", \"server\", \"server\", \"server\", \"server\", \"server\", \"server\", \"server\", \"server\", \"server\", \"service\", \"service\", \"service\", \"service\", \"service\", \"service\", \"servlet\", \"servlet\", \"set\", \"set\", \"set\", \"set\", \"set\", \"set\", \"set\", \"set\", \"set\", \"set\", \"set\", \"set\", \"set\", \"set\", \"set\", \"set\", \"settle\", \"sheet\", \"sheet\", \"sheet\", \"shell\", \"similarity\", \"simple\", \"simple\", \"simple\", \"simple\", \"simple\", \"simple\", \"simple\", \"simple\", \"simple\", \"simple\", \"simple\", \"simple\", \"simple\", \"simple\", \"simple\", \"simple\", \"simplest\", \"simplest\", \"simplest\", \"simplest\", \"simplest\", \"simplest\", \"simplest\", \"single\", \"single\", \"single\", \"single\", \"single\", \"single\", \"single\", \"single\", \"single\", \"single\", \"single\", \"single\", \"single\", \"single\", \"size\", \"size\", \"size\", \"size\", \"size\", \"size\", \"size\", \"size\", \"sklearn\", \"sleep\", \"slice\", \"slice\", \"slice\", \"slow\", \"slow\", \"slow\", \"slow\", \"snap\", \"socket\", \"socket\", \"socket\", \"space\", \"space\", \"space\", \"space\", \"space\", \"space\", \"space\", \"spark\", \"spark\", \"spark\", \"speed\", \"speed\", \"speed\", \"spinner\", \"split\", \"split\", \"split\", \"split\", \"spreadsheet\", \"spring\", \"springframework\", \"sql\", \"sql\", \"sqlalchemy\", \"ssh\", \"ssh\", \"ssl\", \"ssl\", \"standard\", \"standard\", \"standard\", \"standard\", \"standard\", \"standard\", \"standard\", \"standard\", \"standard\", \"standard\", \"standard\", \"standard\", \"standard\", \"standardize\", \"start\", \"start\", \"start\", \"start\", \"start\", \"start\", \"start\", \"start\", \"start\", \"start\", \"start\", \"start\", \"start\", \"start\", \"statement\", \"statement\", \"statement\", \"statement\", \"statement\", \"statement\", \"static\", \"static\", \"static\", \"static\", \"static\", \"static\", \"static\", \"static\", \"static\", \"std\", \"std\", \"stderr\", \"stdout\", \"sticky\", \"store\", \"store\", \"store\", \"store\", \"store\", \"store\", \"store\", \"store\", \"store\", \"store\", \"store\", \"store\", \"store\", \"store\", \"storyboard\", \"string\", \"string\", \"string\", \"string\", \"struct\", \"struct\", \"struct\", \"studio\", \"subdirectory\", \"subject\", \"subject\", \"subject\", \"subject\", \"sudo\", \"support\", \"support\", \"support\", \"support\", \"support\", \"support\", \"support\", \"support\", \"support\", \"support\", \"support\", \"support\", \"support\", \"support\", \"support\", \"svn\", \"swagger\", \"swift\", \"swift\", \"swift\", \"swift\", \"swiftui\", \"swipe\", \"table\", \"table\", \"table\", \"table\", \"tablet\", \"tableview\", \"tcp\", \"tenant\", \"tensorflow\", \"term\", \"term\", \"term\", \"term\", \"term\", \"term\", \"term\", \"term\", \"terminal\", \"terminal\", \"ternary\", \"thread\", \"thread\", \"thread\", \"thread\", \"thread\", \"thumb\", \"time\", \"time\", \"time\", \"time\", \"time\", \"time\", \"time\", \"time\", \"time\", \"time\", \"time\", \"time\", \"time\", \"time\", \"time\", \"timeout\", \"timezone\", \"token\", \"tomcat\", \"toolkit\", \"training\", \"training\", \"training\", \"transaction\", \"transaction\", \"transaction\", \"transaction\", \"transparent\", \"transparent\", \"traverse\", \"tree\", \"tree\", \"tree\", \"tree\", \"tree\", \"tree\", \"tree\", \"tree\", \"tty\", \"tuple\", \"tuples\", \"type\", \"type\", \"type\", \"type\", \"type\", \"type\", \"type\", \"type\", \"type\", \"type\", \"type\", \"typescript\", \"ubuntu\", \"ubuntu\", \"ubuntu\", \"ui\", \"ui\", \"ui\", \"ui\", \"ui\", \"ui\", \"ui\", \"uicollectionview\", \"uitableview\", \"uitableview\", \"uiview\", \"uiviewcontroller\", \"undefined\", \"undefined\", \"undefined\", \"understand\", \"understand\", \"understand\", \"understand\", \"understand\", \"understand\", \"understand\", \"understand\", \"understand\", \"understand\", \"understand\", \"understand\", \"understand\", \"understand\", \"understand\", \"understandable\", \"unicode\", \"uninstall\", \"update\", \"update\", \"update\", \"update\", \"update\", \"update\", \"update\", \"update\", \"update\", \"update\", \"update\", \"update\", \"update\", \"update\", \"update\", \"update\", \"upgrade\", \"upgrade\", \"upgrade\", \"upgraded\", \"upload\", \"upload\", \"upload\", \"upload\", \"url\", \"url\", \"url\", \"url\", \"url\", \"url\", \"usage\", \"usage\", \"usage\", \"usage\", \"usage\", \"usage\", \"user\", \"user\", \"user\", \"user\", \"user\", \"user\", \"user\", \"user\", \"user\", \"user\", \"user\", \"user\", \"utc\", \"utf\", \"util\", \"uuid\", \"validation\", \"validation\", \"validation\", \"variable\", \"variable\", \"variable\", \"variable\", \"variable\", \"variable\", \"variable\", \"variable\", \"variadic\", \"vector\", \"vector\", \"vector\", \"vector\", \"vector\", \"version\", \"version\", \"version\", \"version\", \"version\", \"version\", \"version\", \"version\", \"version\", \"version\", \"version\", \"version\", \"version\", \"version\", \"version\", \"vertical\", \"vertically\", \"video\", \"video\", \"view\", \"view\", \"view\", \"view\", \"view\", \"view\", \"viewmodel\", \"viewpager\", \"vim\", \"vim\", \"virtualenv\", \"visual\", \"visual\", \"visualize\", \"wav\", \"webapi\", \"webbrowser\", \"webdriver\", \"webgl\", \"webkit\", \"webpack\", \"websocket\", \"webview\", \"webview\", \"white\", \"white\", \"white\", \"wifi\", \"wikipedia\", \"wikipedia\", \"wikipedia\", \"wikipedia\", \"window\", \"window\", \"window\", \"window\", \"window\", \"window\", \"window\", \"window\", \"window\", \"wkwebview\", \"woocommerce\", \"workflow\", \"workflow\", \"worksheet\", \"workspace\", \"wpf\", \"wpf\", \"wpf\", \"wpf\", \"wpf\", \"wpf\", \"write\", \"write\", \"write\", \"write\", \"write\", \"write\", \"write\", \"write\", \"write\", \"write\", \"write\", \"write\", \"write\", \"write\", \"write\", \"write\", \"wsdl\", \"xampp\", \"xampp\", \"xcode\", \"xcode\", \"xib\", \"xlsx\", \"xml\", \"xml\", \"xml\", \"xml\", \"xml\", \"xml\", \"xml\", \"xml\", \"xml\", \"xml\", \"xml\", \"youtube\", \"youtube\", \"zipped\"]}, \"R\": 20, \"lambda.step\": 0.01, \"plot.opts\": {\"xlab\": \"PC1\", \"ylab\": \"PC2\"}, \"topic.order\": [7, 1, 5, 11, 3, 2, 10, 12, 6, 9, 13, 15, 8, 4, 17, 14, 16]};\n",
       "\n",
       "function LDAvis_load_lib(url, callback){\n",
       "  var s = document.createElement('script');\n",
       "  s.src = url;\n",
       "  s.async = true;\n",
       "  s.onreadystatechange = s.onload = callback;\n",
       "  s.onerror = function(){console.warn(\"failed to load library \" + url);};\n",
       "  document.getElementsByTagName(\"head\")[0].appendChild(s);\n",
       "}\n",
       "\n",
       "if(typeof(LDAvis) !== \"undefined\"){\n",
       "   // already loaded: just create the visualization\n",
       "   !function(LDAvis){\n",
       "       new LDAvis(\"#\" + \"ldavis_el541398435114428964066524240\", ldavis_el541398435114428964066524240_data);\n",
       "   }(LDAvis);\n",
       "}else if(typeof define === \"function\" && define.amd){\n",
       "   // require.js is available: use it to load d3/LDAvis\n",
       "   require.config({paths: {d3: \"https://d3js.org/d3.v5\"}});\n",
       "   require([\"d3\"], function(d3){\n",
       "      window.d3 = d3;\n",
       "      LDAvis_load_lib(\"https://cdn.jsdelivr.net/gh/bmabey/pyLDAvis@3.3.1/pyLDAvis/js/ldavis.v3.0.0.js\", function(){\n",
       "        new LDAvis(\"#\" + \"ldavis_el541398435114428964066524240\", ldavis_el541398435114428964066524240_data);\n",
       "      });\n",
       "    });\n",
       "}else{\n",
       "    // require.js not available: dynamically load d3 & LDAvis\n",
       "    LDAvis_load_lib(\"https://d3js.org/d3.v5.js\", function(){\n",
       "         LDAvis_load_lib(\"https://cdn.jsdelivr.net/gh/bmabey/pyLDAvis@3.3.1/pyLDAvis/js/ldavis.v3.0.0.js\", function(){\n",
       "                 new LDAvis(\"#\" + \"ldavis_el541398435114428964066524240\", ldavis_el541398435114428964066524240_data);\n",
       "            })\n",
       "         });\n",
       "}\n",
       "</script>"
      ],
      "text/plain": [
       "PreparedData(topic_coordinates=              x         y  topics  cluster       Freq\n",
       "topic                                                \n",
       "6      0.217563  0.001431       1        1  11.388102\n",
       "0      0.012170  0.097597       2        1  10.308232\n",
       "4      0.273228 -0.121156       3        1   9.887811\n",
       "10    -0.045191  0.194857       4        1   9.590893\n",
       "2      0.225912  0.146116       5        1   8.536407\n",
       "1     -0.078022 -0.068451       6        1   7.629048\n",
       "9      0.065722 -0.097957       7        1   7.377199\n",
       "11     0.253496 -0.247426       8        1   5.843567\n",
       "5     -0.071780  0.320553       9        1   5.381102\n",
       "8      0.370976  0.102546      10        1   4.654164\n",
       "12     0.106956  0.321634      11        1   4.590644\n",
       "14    -0.236140  0.235587      12        1   3.914153\n",
       "7     -0.250245 -0.062920      13        1   3.093042\n",
       "3      0.058014 -0.349757      14        1   2.991446\n",
       "16    -0.096366 -0.329185      15        1   2.730184\n",
       "13    -0.366032 -0.228130      16        1   1.072606\n",
       "15    -0.440261  0.084660      17        1   1.011399, topic_info=         Term         Freq        Total Category  logprob  loglift\n",
       "33       file  4896.000000  4896.000000  Default  20.0000  20.0000\n",
       "101     image  1912.000000  1912.000000  Default  19.0000  19.0000\n",
       "363    python  2434.000000  2434.000000  Default  18.0000  18.0000\n",
       "447    string  1925.000000  1925.000000  Default  17.0000  17.0000\n",
       "309    spring   984.000000   984.000000  Default  16.0000  16.0000\n",
       "...       ...          ...          ...      ...      ...      ...\n",
       "429    public    62.759504   235.222050  Topic17  -4.6413   3.2726\n",
       "2587  restore    30.050910    69.804628  Topic17  -5.3777   3.7510\n",
       "8325  openssl    30.146047    78.030638  Topic17  -5.3745   3.6428\n",
       "254      time    68.509697  2900.430849  Topic17  -4.5536   0.8482\n",
       "2966    plist    25.935503    80.498084  Topic17  -5.5249   3.4612\n",
       "\n",
       "[826 rows x 6 columns], token_table=      Topic      Freq     Term\n",
       "term                          \n",
       "4914     13  0.986183      aar\n",
       "256       1  0.438141   access\n",
       "256       2  0.139678   access\n",
       "256       3  0.013836   access\n",
       "256       4  0.004612   access\n",
       "...     ...       ...      ...\n",
       "312      15  0.216065      xml\n",
       "312      17  0.020653      xml\n",
       "1144      1  0.025662  youtube\n",
       "1144      5  0.966596  youtube\n",
       "4764      2  0.984851   zipped\n",
       "\n",
       "[2490 rows x 3 columns], R=20, lambda_step=0.01, plot_opts={'xlab': 'PC1', 'ylab': 'PC2'}, topic_order=[7, 1, 5, 11, 3, 2, 10, 12, 6, 9, 13, 15, 8, 4, 17, 14, 16])"
      ]
     },
     "execution_count": 109,
     "metadata": {},
     "output_type": "execute_result"
    }
   ],
   "source": [
    "import pyLDAvis\n",
    "import pyLDAvis.gensim_models as gensimvis\n",
    "import warnings\n",
    "warnings.filterwarnings(\"ignore\", category=DeprecationWarning)\n",
    "\n",
    "# train the model with optimal parameters\n",
    "lda_model = gensim.models.LdaMulticore(corpus=corpus, id2word=id2word, num_topics=nb_opt, random_state=42,\n",
    "                                passes=10, alpha=alpha_opt, eta=eta_opt)\n",
    "\n",
    "pyLDAvis.enable_notebook()\n",
    "vis = gensimvis.prepare(lda_model, corpus, id2word, mds='mmds',R=20)\n",
    "vis"
   ]
  },
  {
   "cell_type": "markdown",
   "metadata": {
    "id": "2pBkdKCro5nr"
   },
   "source": [
    "##### Distribution des thèmes pour chaque documents"
   ]
  },
  {
   "cell_type": "code",
   "execution_count": 96,
   "metadata": {
    "executionInfo": {
     "elapsed": 148815,
     "status": "ok",
     "timestamp": 1661302877822,
     "user": {
      "displayName": "mostapha bounkass",
      "userId": "09949847470110953923"
     },
     "user_tz": -120
    },
    "id": "N1ZNB7qaltbt"
   },
   "outputs": [],
   "source": [
    "lda_model = gensim.models.LdaMulticore(corpus=corpus, id2word=id2word, num_topics=17, random_state=42,\n",
    "                                passes=10, alpha='asymmetric', eta='symmetric')"
   ]
  },
  {
   "cell_type": "code",
   "execution_count": 114,
   "metadata": {
    "colab": {
     "base_uri": "https://localhost:8080/"
    },
    "executionInfo": {
     "elapsed": 6897,
     "status": "ok",
     "timestamp": 1661303473676,
     "user": {
      "displayName": "mostapha bounkass",
      "userId": "09949847470110953923"
     },
     "user_tz": -120
    },
    "id": "ssJbsdCbNUUZ",
    "outputId": "d9499aca-e858-4dd7-8a1f-f1e348284cda"
   },
   "outputs": [
    {
     "name": "stdout",
     "output_type": "stream",
     "text": [
      "matrix of document/topic distribution shape: (19491, 17)\n"
     ]
    }
   ],
   "source": [
    "# obtain topic distributions for each document\n",
    "topic_dist = pd.DataFrame(lda_model.get_document_topics(corpus, minimum_probability=0.0))\n",
    "for topic in topic_dist.columns:\n",
    "    topic_dist[topic] = topic_dist[topic].apply(lambda x : x[1])\n",
    "\n",
    "print('matrix of document/topic distribution shape:', topic_dist.shape)"
   ]
  },
  {
   "cell_type": "code",
   "execution_count": 98,
   "metadata": {
    "colab": {
     "base_uri": "https://localhost:8080/",
     "height": 270
    },
    "executionInfo": {
     "elapsed": 346,
     "status": "ok",
     "timestamp": 1661302892126,
     "user": {
      "displayName": "mostapha bounkass",
      "userId": "09949847470110953923"
     },
     "user_tz": -120
    },
    "id": "huyZU1k-m80Q",
    "outputId": "f019ed41-edf7-491a-e6ca-4f9e794124b9"
   },
   "outputs": [
    {
     "data": {
      "text/html": [
       "\n",
       "  <div id=\"df-74b16de2-0a31-40a5-9307-71f38a6048fa\">\n",
       "    <div class=\"colab-df-container\">\n",
       "      <div>\n",
       "<style scoped>\n",
       "    .dataframe tbody tr th:only-of-type {\n",
       "        vertical-align: middle;\n",
       "    }\n",
       "\n",
       "    .dataframe tbody tr th {\n",
       "        vertical-align: top;\n",
       "    }\n",
       "\n",
       "    .dataframe thead th {\n",
       "        text-align: right;\n",
       "    }\n",
       "</style>\n",
       "<table border=\"1\" class=\"dataframe\">\n",
       "  <thead>\n",
       "    <tr style=\"text-align: right;\">\n",
       "      <th></th>\n",
       "      <th>0</th>\n",
       "      <th>1</th>\n",
       "      <th>2</th>\n",
       "      <th>3</th>\n",
       "      <th>4</th>\n",
       "      <th>5</th>\n",
       "      <th>6</th>\n",
       "      <th>7</th>\n",
       "      <th>8</th>\n",
       "      <th>9</th>\n",
       "      <th>10</th>\n",
       "      <th>11</th>\n",
       "      <th>12</th>\n",
       "      <th>13</th>\n",
       "      <th>14</th>\n",
       "      <th>15</th>\n",
       "      <th>16</th>\n",
       "    </tr>\n",
       "  </thead>\n",
       "  <tbody>\n",
       "    <tr>\n",
       "      <th>0</th>\n",
       "      <td>0.216395</td>\n",
       "      <td>0.454984</td>\n",
       "      <td>0.003036</td>\n",
       "      <td>0.161126</td>\n",
       "      <td>0.002287</td>\n",
       "      <td>0.002037</td>\n",
       "      <td>0.001836</td>\n",
       "      <td>0.001671</td>\n",
       "      <td>0.001533</td>\n",
       "      <td>0.001416</td>\n",
       "      <td>0.001316</td>\n",
       "      <td>0.001229</td>\n",
       "      <td>0.001152</td>\n",
       "      <td>0.147063</td>\n",
       "      <td>0.001025</td>\n",
       "      <td>0.000972</td>\n",
       "      <td>0.000923</td>\n",
       "    </tr>\n",
       "    <tr>\n",
       "      <th>1</th>\n",
       "      <td>0.518139</td>\n",
       "      <td>0.012501</td>\n",
       "      <td>0.010454</td>\n",
       "      <td>0.008985</td>\n",
       "      <td>0.394143</td>\n",
       "      <td>0.007015</td>\n",
       "      <td>0.006322</td>\n",
       "      <td>0.005754</td>\n",
       "      <td>0.005279</td>\n",
       "      <td>0.004877</td>\n",
       "      <td>0.004532</td>\n",
       "      <td>0.004232</td>\n",
       "      <td>0.003970</td>\n",
       "      <td>0.003738</td>\n",
       "      <td>0.003532</td>\n",
       "      <td>0.003347</td>\n",
       "      <td>0.003181</td>\n",
       "    </tr>\n",
       "    <tr>\n",
       "      <th>2</th>\n",
       "      <td>0.003507</td>\n",
       "      <td>0.130492</td>\n",
       "      <td>0.002352</td>\n",
       "      <td>0.238370</td>\n",
       "      <td>0.001773</td>\n",
       "      <td>0.157372</td>\n",
       "      <td>0.001423</td>\n",
       "      <td>0.001295</td>\n",
       "      <td>0.001188</td>\n",
       "      <td>0.312673</td>\n",
       "      <td>0.031459</td>\n",
       "      <td>0.000952</td>\n",
       "      <td>0.000893</td>\n",
       "      <td>0.000841</td>\n",
       "      <td>0.113942</td>\n",
       "      <td>0.000753</td>\n",
       "      <td>0.000716</td>\n",
       "    </tr>\n",
       "    <tr>\n",
       "      <th>3</th>\n",
       "      <td>0.006086</td>\n",
       "      <td>0.381666</td>\n",
       "      <td>0.004090</td>\n",
       "      <td>0.003516</td>\n",
       "      <td>0.110507</td>\n",
       "      <td>0.002745</td>\n",
       "      <td>0.002474</td>\n",
       "      <td>0.002252</td>\n",
       "      <td>0.002066</td>\n",
       "      <td>0.124292</td>\n",
       "      <td>0.307166</td>\n",
       "      <td>0.001656</td>\n",
       "      <td>0.001553</td>\n",
       "      <td>0.001463</td>\n",
       "      <td>0.001382</td>\n",
       "      <td>0.001310</td>\n",
       "      <td>0.045776</td>\n",
       "    </tr>\n",
       "    <tr>\n",
       "      <th>4</th>\n",
       "      <td>0.286922</td>\n",
       "      <td>0.005625</td>\n",
       "      <td>0.004704</td>\n",
       "      <td>0.004043</td>\n",
       "      <td>0.486239</td>\n",
       "      <td>0.003157</td>\n",
       "      <td>0.002845</td>\n",
       "      <td>0.189956</td>\n",
       "      <td>0.002376</td>\n",
       "      <td>0.002195</td>\n",
       "      <td>0.002039</td>\n",
       "      <td>0.001904</td>\n",
       "      <td>0.001786</td>\n",
       "      <td>0.001682</td>\n",
       "      <td>0.001589</td>\n",
       "      <td>0.001506</td>\n",
       "      <td>0.001431</td>\n",
       "    </tr>\n",
       "  </tbody>\n",
       "</table>\n",
       "</div>\n",
       "      <button class=\"colab-df-convert\" onclick=\"convertToInteractive('df-74b16de2-0a31-40a5-9307-71f38a6048fa')\"\n",
       "              title=\"Convert this dataframe to an interactive table.\"\n",
       "              style=\"display:none;\">\n",
       "        \n",
       "  <svg xmlns=\"http://www.w3.org/2000/svg\" height=\"24px\"viewBox=\"0 0 24 24\"\n",
       "       width=\"24px\">\n",
       "    <path d=\"M0 0h24v24H0V0z\" fill=\"none\"/>\n",
       "    <path d=\"M18.56 5.44l.94 2.06.94-2.06 2.06-.94-2.06-.94-.94-2.06-.94 2.06-2.06.94zm-11 1L8.5 8.5l.94-2.06 2.06-.94-2.06-.94L8.5 2.5l-.94 2.06-2.06.94zm10 10l.94 2.06.94-2.06 2.06-.94-2.06-.94-.94-2.06-.94 2.06-2.06.94z\"/><path d=\"M17.41 7.96l-1.37-1.37c-.4-.4-.92-.59-1.43-.59-.52 0-1.04.2-1.43.59L10.3 9.45l-7.72 7.72c-.78.78-.78 2.05 0 2.83L4 21.41c.39.39.9.59 1.41.59.51 0 1.02-.2 1.41-.59l7.78-7.78 2.81-2.81c.8-.78.8-2.07 0-2.86zM5.41 20L4 18.59l7.72-7.72 1.47 1.35L5.41 20z\"/>\n",
       "  </svg>\n",
       "      </button>\n",
       "      \n",
       "  <style>\n",
       "    .colab-df-container {\n",
       "      display:flex;\n",
       "      flex-wrap:wrap;\n",
       "      gap: 12px;\n",
       "    }\n",
       "\n",
       "    .colab-df-convert {\n",
       "      background-color: #E8F0FE;\n",
       "      border: none;\n",
       "      border-radius: 50%;\n",
       "      cursor: pointer;\n",
       "      display: none;\n",
       "      fill: #1967D2;\n",
       "      height: 32px;\n",
       "      padding: 0 0 0 0;\n",
       "      width: 32px;\n",
       "    }\n",
       "\n",
       "    .colab-df-convert:hover {\n",
       "      background-color: #E2EBFA;\n",
       "      box-shadow: 0px 1px 2px rgba(60, 64, 67, 0.3), 0px 1px 3px 1px rgba(60, 64, 67, 0.15);\n",
       "      fill: #174EA6;\n",
       "    }\n",
       "\n",
       "    [theme=dark] .colab-df-convert {\n",
       "      background-color: #3B4455;\n",
       "      fill: #D2E3FC;\n",
       "    }\n",
       "\n",
       "    [theme=dark] .colab-df-convert:hover {\n",
       "      background-color: #434B5C;\n",
       "      box-shadow: 0px 1px 3px 1px rgba(0, 0, 0, 0.15);\n",
       "      filter: drop-shadow(0px 1px 2px rgba(0, 0, 0, 0.3));\n",
       "      fill: #FFFFFF;\n",
       "    }\n",
       "  </style>\n",
       "\n",
       "      <script>\n",
       "        const buttonEl =\n",
       "          document.querySelector('#df-74b16de2-0a31-40a5-9307-71f38a6048fa button.colab-df-convert');\n",
       "        buttonEl.style.display =\n",
       "          google.colab.kernel.accessAllowed ? 'block' : 'none';\n",
       "\n",
       "        async function convertToInteractive(key) {\n",
       "          const element = document.querySelector('#df-74b16de2-0a31-40a5-9307-71f38a6048fa');\n",
       "          const dataTable =\n",
       "            await google.colab.kernel.invokeFunction('convertToInteractive',\n",
       "                                                     [key], {});\n",
       "          if (!dataTable) return;\n",
       "\n",
       "          const docLinkHtml = 'Like what you see? Visit the ' +\n",
       "            '<a target=\"_blank\" href=https://colab.research.google.com/notebooks/data_table.ipynb>data table notebook</a>'\n",
       "            + ' to learn more about interactive tables.';\n",
       "          element.innerHTML = '';\n",
       "          dataTable['output_type'] = 'display_data';\n",
       "          await google.colab.output.renderOutput(dataTable, element);\n",
       "          const docLink = document.createElement('div');\n",
       "          docLink.innerHTML = docLinkHtml;\n",
       "          element.appendChild(docLink);\n",
       "        }\n",
       "      </script>\n",
       "    </div>\n",
       "  </div>\n",
       "  "
      ],
      "text/plain": [
       "         0         1         2         3         4         5         6   \\\n",
       "0  0.216395  0.454984  0.003036  0.161126  0.002287  0.002037  0.001836   \n",
       "1  0.518139  0.012501  0.010454  0.008985  0.394143  0.007015  0.006322   \n",
       "2  0.003507  0.130492  0.002352  0.238370  0.001773  0.157372  0.001423   \n",
       "3  0.006086  0.381666  0.004090  0.003516  0.110507  0.002745  0.002474   \n",
       "4  0.286922  0.005625  0.004704  0.004043  0.486239  0.003157  0.002845   \n",
       "\n",
       "         7         8         9         10        11        12        13  \\\n",
       "0  0.001671  0.001533  0.001416  0.001316  0.001229  0.001152  0.147063   \n",
       "1  0.005754  0.005279  0.004877  0.004532  0.004232  0.003970  0.003738   \n",
       "2  0.001295  0.001188  0.312673  0.031459  0.000952  0.000893  0.000841   \n",
       "3  0.002252  0.002066  0.124292  0.307166  0.001656  0.001553  0.001463   \n",
       "4  0.189956  0.002376  0.002195  0.002039  0.001904  0.001786  0.001682   \n",
       "\n",
       "         14        15        16  \n",
       "0  0.001025  0.000972  0.000923  \n",
       "1  0.003532  0.003347  0.003181  \n",
       "2  0.113942  0.000753  0.000716  \n",
       "3  0.001382  0.001310  0.045776  \n",
       "4  0.001589  0.001506  0.001431  "
      ]
     },
     "execution_count": 98,
     "metadata": {},
     "output_type": "execute_result"
    }
   ],
   "source": [
    "topic_dist.head()"
   ]
  },
  {
   "cell_type": "markdown",
   "metadata": {
    "id": "w5X5oJ6fy8tz"
   },
   "source": [
    "Pour attribuer des predictions du modèle LDA des Tags à chaque question, nous allons utiliser deux approches. La première approche se base sur le calcul de la matric de scores de Topics/Tags. La deuxième approche consiste à passer la matrice des Documents/Tags comme des features dans un modèle de régression logistique."
   ]
  },
  {
   "cell_type": "markdown",
   "metadata": {
    "id": "Lu70Qw-BpLa9"
   },
   "source": [
    "Nous allons utiliser des distributions des thèmes obtenus par le modèle LDA comme des features pour le modèle d'une régression logistique. Dans le bus de caractériser la qualité de ces features ainsi la performance du modèle LDA."
   ]
  },
  {
   "cell_type": "code",
   "execution_count": 99,
   "metadata": {
    "colab": {
     "base_uri": "https://localhost:8080/"
    },
    "executionInfo": {
     "elapsed": 7681,
     "status": "ok",
     "timestamp": 1661302909869,
     "user": {
      "displayName": "mostapha bounkass",
      "userId": "09949847470110953923"
     },
     "user_tz": -120
    },
    "id": "I5t1beOKpL64",
    "outputId": "cb7e1e66-a28e-4dc4-9874-42277b95438c"
   },
   "outputs": [
    {
     "name": "stdout",
     "output_type": "stream",
     "text": [
      "                       LDA_lr\n",
      "Av_precision(macro)  0.182246\n",
      "Av_precision(micro)  0.252294\n",
      "ROC_AUC(macro)       0.844211\n",
      "ROC_AUC(micro)       0.866935\n",
      "Fit_time             7.000000\n"
     ]
    }
   ],
   "source": [
    "#split data\n",
    "time1 =time.time()\n",
    "x_train, x_test, y_train, y_test = train_test_split(topic_dist, y_binarized, test_size=0.25, random_state=100)\n",
    "lr = OneVsRestClassifier(LogisticRegression()).fit(x_train, y_train)\n",
    "y_pred_lr = lr.predict_proba(x_test)\n",
    "fit_time = np.round(time.time() - time1,1)\n",
    "#score of prediction\n",
    "df_LDA_lr = metrics_report(\"LDA_lr\", y_test, y_pred_lr,fit_time, df=None)\n",
    "print(df_LDA_lr)"
   ]
  },
  {
   "cell_type": "markdown",
   "metadata": {
    "id": "OQSywD6j4d-8"
   },
   "source": [
    "Nous allons construire la matrice topics/tags des scores des tags, elle est obtenue en faisant le produit matricielle de la matrice des distributions des topicset le vecteur des tags."
   ]
  },
  {
   "cell_type": "code",
   "execution_count": 136,
   "metadata": {
    "executionInfo": {
     "elapsed": 311,
     "status": "ok",
     "timestamp": 1661303834612,
     "user": {
      "displayName": "mostapha bounkass",
      "userId": "09949847470110953923"
     },
     "user_tz": -120
    },
    "id": "CnNtpsLN5wB9"
   },
   "outputs": [],
   "source": [
    "topic_tag = np.matmul(topic_dist.T, y_binarized)\n",
    "# normalizing \n",
    "topic_tag = topic_tag/np.sum(y_binarized,axis=0)"
   ]
  },
  {
   "cell_type": "code",
   "execution_count": 137,
   "metadata": {
    "colab": {
     "base_uri": "https://localhost:8080/",
     "height": 237
    },
    "executionInfo": {
     "elapsed": 321,
     "status": "ok",
     "timestamp": 1661303844043,
     "user": {
      "displayName": "mostapha bounkass",
      "userId": "09949847470110953923"
     },
     "user_tz": -120
    },
    "id": "Y1kft-GA5yKX",
    "outputId": "05808c1b-31c8-4c9a-d172-780e032df749"
   },
   "outputs": [
    {
     "data": {
      "text/html": [
       "\n",
       "  <div id=\"df-e3fb6338-2789-4795-a159-10098aa6df16\">\n",
       "    <div class=\"colab-df-container\">\n",
       "      <div>\n",
       "<style scoped>\n",
       "    .dataframe tbody tr th:only-of-type {\n",
       "        vertical-align: middle;\n",
       "    }\n",
       "\n",
       "    .dataframe tbody tr th {\n",
       "        vertical-align: top;\n",
       "    }\n",
       "\n",
       "    .dataframe thead th {\n",
       "        text-align: right;\n",
       "    }\n",
       "</style>\n",
       "<table border=\"1\" class=\"dataframe\">\n",
       "  <thead>\n",
       "    <tr style=\"text-align: right;\">\n",
       "      <th></th>\n",
       "      <th>0</th>\n",
       "      <th>1</th>\n",
       "      <th>2</th>\n",
       "      <th>3</th>\n",
       "      <th>4</th>\n",
       "      <th>5</th>\n",
       "      <th>6</th>\n",
       "      <th>7</th>\n",
       "      <th>8</th>\n",
       "      <th>9</th>\n",
       "      <th>...</th>\n",
       "      <th>40</th>\n",
       "      <th>41</th>\n",
       "      <th>42</th>\n",
       "      <th>43</th>\n",
       "      <th>44</th>\n",
       "      <th>45</th>\n",
       "      <th>46</th>\n",
       "      <th>47</th>\n",
       "      <th>48</th>\n",
       "      <th>49</th>\n",
       "    </tr>\n",
       "  </thead>\n",
       "  <tbody>\n",
       "    <tr>\n",
       "      <th>0</th>\n",
       "      <td>0.128682</td>\n",
       "      <td>0.069742</td>\n",
       "      <td>0.049993</td>\n",
       "      <td>0.162818</td>\n",
       "      <td>0.054312</td>\n",
       "      <td>0.290504</td>\n",
       "      <td>0.143000</td>\n",
       "      <td>0.457608</td>\n",
       "      <td>0.089989</td>\n",
       "      <td>0.093337</td>\n",
       "      <td>...</td>\n",
       "      <td>0.035174</td>\n",
       "      <td>0.073013</td>\n",
       "      <td>0.127948</td>\n",
       "      <td>0.111735</td>\n",
       "      <td>0.079153</td>\n",
       "      <td>0.070764</td>\n",
       "      <td>0.155300</td>\n",
       "      <td>0.056524</td>\n",
       "      <td>0.199653</td>\n",
       "      <td>0.078701</td>\n",
       "    </tr>\n",
       "    <tr>\n",
       "      <th>1</th>\n",
       "      <td>0.096367</td>\n",
       "      <td>0.053450</td>\n",
       "      <td>0.085711</td>\n",
       "      <td>0.307414</td>\n",
       "      <td>0.087008</td>\n",
       "      <td>0.073641</td>\n",
       "      <td>0.102542</td>\n",
       "      <td>0.052399</td>\n",
       "      <td>0.106214</td>\n",
       "      <td>0.071200</td>\n",
       "      <td>...</td>\n",
       "      <td>0.056724</td>\n",
       "      <td>0.176703</td>\n",
       "      <td>0.410824</td>\n",
       "      <td>0.036336</td>\n",
       "      <td>0.089246</td>\n",
       "      <td>0.086809</td>\n",
       "      <td>0.039858</td>\n",
       "      <td>0.071809</td>\n",
       "      <td>0.051084</td>\n",
       "      <td>0.042326</td>\n",
       "    </tr>\n",
       "    <tr>\n",
       "      <th>2</th>\n",
       "      <td>0.291931</td>\n",
       "      <td>0.096562</td>\n",
       "      <td>0.050193</td>\n",
       "      <td>0.081494</td>\n",
       "      <td>0.028274</td>\n",
       "      <td>0.124660</td>\n",
       "      <td>0.052230</td>\n",
       "      <td>0.065082</td>\n",
       "      <td>0.182549</td>\n",
       "      <td>0.111117</td>\n",
       "      <td>...</td>\n",
       "      <td>0.022504</td>\n",
       "      <td>0.039118</td>\n",
       "      <td>0.053883</td>\n",
       "      <td>0.026765</td>\n",
       "      <td>0.139998</td>\n",
       "      <td>0.202221</td>\n",
       "      <td>0.028842</td>\n",
       "      <td>0.039665</td>\n",
       "      <td>0.056727</td>\n",
       "      <td>0.087898</td>\n",
       "    </tr>\n",
       "  </tbody>\n",
       "</table>\n",
       "<p>3 rows × 50 columns</p>\n",
       "</div>\n",
       "      <button class=\"colab-df-convert\" onclick=\"convertToInteractive('df-e3fb6338-2789-4795-a159-10098aa6df16')\"\n",
       "              title=\"Convert this dataframe to an interactive table.\"\n",
       "              style=\"display:none;\">\n",
       "        \n",
       "  <svg xmlns=\"http://www.w3.org/2000/svg\" height=\"24px\"viewBox=\"0 0 24 24\"\n",
       "       width=\"24px\">\n",
       "    <path d=\"M0 0h24v24H0V0z\" fill=\"none\"/>\n",
       "    <path d=\"M18.56 5.44l.94 2.06.94-2.06 2.06-.94-2.06-.94-.94-2.06-.94 2.06-2.06.94zm-11 1L8.5 8.5l.94-2.06 2.06-.94-2.06-.94L8.5 2.5l-.94 2.06-2.06.94zm10 10l.94 2.06.94-2.06 2.06-.94-2.06-.94-.94-2.06-.94 2.06-2.06.94z\"/><path d=\"M17.41 7.96l-1.37-1.37c-.4-.4-.92-.59-1.43-.59-.52 0-1.04.2-1.43.59L10.3 9.45l-7.72 7.72c-.78.78-.78 2.05 0 2.83L4 21.41c.39.39.9.59 1.41.59.51 0 1.02-.2 1.41-.59l7.78-7.78 2.81-2.81c.8-.78.8-2.07 0-2.86zM5.41 20L4 18.59l7.72-7.72 1.47 1.35L5.41 20z\"/>\n",
       "  </svg>\n",
       "      </button>\n",
       "      \n",
       "  <style>\n",
       "    .colab-df-container {\n",
       "      display:flex;\n",
       "      flex-wrap:wrap;\n",
       "      gap: 12px;\n",
       "    }\n",
       "\n",
       "    .colab-df-convert {\n",
       "      background-color: #E8F0FE;\n",
       "      border: none;\n",
       "      border-radius: 50%;\n",
       "      cursor: pointer;\n",
       "      display: none;\n",
       "      fill: #1967D2;\n",
       "      height: 32px;\n",
       "      padding: 0 0 0 0;\n",
       "      width: 32px;\n",
       "    }\n",
       "\n",
       "    .colab-df-convert:hover {\n",
       "      background-color: #E2EBFA;\n",
       "      box-shadow: 0px 1px 2px rgba(60, 64, 67, 0.3), 0px 1px 3px 1px rgba(60, 64, 67, 0.15);\n",
       "      fill: #174EA6;\n",
       "    }\n",
       "\n",
       "    [theme=dark] .colab-df-convert {\n",
       "      background-color: #3B4455;\n",
       "      fill: #D2E3FC;\n",
       "    }\n",
       "\n",
       "    [theme=dark] .colab-df-convert:hover {\n",
       "      background-color: #434B5C;\n",
       "      box-shadow: 0px 1px 3px 1px rgba(0, 0, 0, 0.15);\n",
       "      filter: drop-shadow(0px 1px 2px rgba(0, 0, 0, 0.3));\n",
       "      fill: #FFFFFF;\n",
       "    }\n",
       "  </style>\n",
       "\n",
       "      <script>\n",
       "        const buttonEl =\n",
       "          document.querySelector('#df-e3fb6338-2789-4795-a159-10098aa6df16 button.colab-df-convert');\n",
       "        buttonEl.style.display =\n",
       "          google.colab.kernel.accessAllowed ? 'block' : 'none';\n",
       "\n",
       "        async function convertToInteractive(key) {\n",
       "          const element = document.querySelector('#df-e3fb6338-2789-4795-a159-10098aa6df16');\n",
       "          const dataTable =\n",
       "            await google.colab.kernel.invokeFunction('convertToInteractive',\n",
       "                                                     [key], {});\n",
       "          if (!dataTable) return;\n",
       "\n",
       "          const docLinkHtml = 'Like what you see? Visit the ' +\n",
       "            '<a target=\"_blank\" href=https://colab.research.google.com/notebooks/data_table.ipynb>data table notebook</a>'\n",
       "            + ' to learn more about interactive tables.';\n",
       "          element.innerHTML = '';\n",
       "          dataTable['output_type'] = 'display_data';\n",
       "          await google.colab.output.renderOutput(dataTable, element);\n",
       "          const docLink = document.createElement('div');\n",
       "          docLink.innerHTML = docLinkHtml;\n",
       "          element.appendChild(docLink);\n",
       "        }\n",
       "      </script>\n",
       "    </div>\n",
       "  </div>\n",
       "  "
      ],
      "text/plain": [
       "         0         1         2         3         4         5         6   \\\n",
       "0  0.128682  0.069742  0.049993  0.162818  0.054312  0.290504  0.143000   \n",
       "1  0.096367  0.053450  0.085711  0.307414  0.087008  0.073641  0.102542   \n",
       "2  0.291931  0.096562  0.050193  0.081494  0.028274  0.124660  0.052230   \n",
       "\n",
       "         7         8         9   ...        40        41        42        43  \\\n",
       "0  0.457608  0.089989  0.093337  ...  0.035174  0.073013  0.127948  0.111735   \n",
       "1  0.052399  0.106214  0.071200  ...  0.056724  0.176703  0.410824  0.036336   \n",
       "2  0.065082  0.182549  0.111117  ...  0.022504  0.039118  0.053883  0.026765   \n",
       "\n",
       "         44        45        46        47        48        49  \n",
       "0  0.079153  0.070764  0.155300  0.056524  0.199653  0.078701  \n",
       "1  0.089246  0.086809  0.039858  0.071809  0.051084  0.042326  \n",
       "2  0.139998  0.202221  0.028842  0.039665  0.056727  0.087898  \n",
       "\n",
       "[3 rows x 50 columns]"
      ]
     },
     "execution_count": 137,
     "metadata": {},
     "output_type": "execute_result"
    }
   ],
   "source": [
    "topic_tag.head(3)"
   ]
  },
  {
   "cell_type": "code",
   "execution_count": 138,
   "metadata": {
    "executionInfo": {
     "elapsed": 9019,
     "status": "ok",
     "timestamp": 1661303877941,
     "user": {
      "displayName": "mostapha bounkass",
      "userId": "09949847470110953923"
     },
     "user_tz": -120
    },
    "id": "H_agIL_e1qJ7"
   },
   "outputs": [],
   "source": [
    "# Select predicted tags in Topics / Tags matrix\n",
    "threshold = 0.3\n",
    "y_result = pd.DataFrame(data['Tags'])\n",
    "y_result[\"best_topic\"] = topic_dist.idxmax(axis=1).values\n",
    "list_tag = []\n",
    "for tag in y_result.best_topic:\n",
    "    tags_sort = topic_tag.iloc[tag].sort_values(ascending=False)\n",
    "    nb_th = np.sum(tags_sort>threshold)\n",
    "    row_tags = list(tags_sort[0:nb_th].index)\n",
    "    list_tag.append(row_tags)\n",
    "y_result[\"y_pred\"] = list_tag\n",
    "# Create a multibinarized of LDA prediction\n",
    "lda_y_pred = np.zeros(y_binarized.shape)\n",
    "n = 0\n",
    "for row in y_result.y_pred.values:\n",
    "    for i in range(len(row)):\n",
    "        lda_y_pred[n,row[i]] = 1\n",
    "    n+=1\n",
    "\n",
    "# inverse transformation\n",
    "y_result[\"y_pred\"] = multilabel_binarizer.inverse_transform(lda_y_pred)"
   ]
  },
  {
   "cell_type": "code",
   "execution_count": 139,
   "metadata": {
    "colab": {
     "base_uri": "https://localhost:8080/",
     "height": 206
    },
    "executionInfo": {
     "elapsed": 16,
     "status": "ok",
     "timestamp": 1661303877949,
     "user": {
      "displayName": "mostapha bounkass",
      "userId": "09949847470110953923"
     },
     "user_tz": -120
    },
    "id": "zRC23xkd732p",
    "outputId": "d82f85c1-7c01-4a62-c99e-c696b31442dd"
   },
   "outputs": [
    {
     "data": {
      "text/html": [
       "\n",
       "  <div id=\"df-30a89adb-0ca1-4218-a60c-f5c09e1b490b\">\n",
       "    <div class=\"colab-df-container\">\n",
       "      <div>\n",
       "<style scoped>\n",
       "    .dataframe tbody tr th:only-of-type {\n",
       "        vertical-align: middle;\n",
       "    }\n",
       "\n",
       "    .dataframe tbody tr th {\n",
       "        vertical-align: top;\n",
       "    }\n",
       "\n",
       "    .dataframe thead th {\n",
       "        text-align: right;\n",
       "    }\n",
       "</style>\n",
       "<table border=\"1\" class=\"dataframe\">\n",
       "  <thead>\n",
       "    <tr style=\"text-align: right;\">\n",
       "      <th></th>\n",
       "      <th>Tags</th>\n",
       "      <th>best_topic</th>\n",
       "      <th>y_pred</th>\n",
       "    </tr>\n",
       "  </thead>\n",
       "  <tbody>\n",
       "    <tr>\n",
       "      <th>0</th>\n",
       "      <td>[java, array, android]</td>\n",
       "      <td>1</td>\n",
       "      <td>(array, json, string)</td>\n",
       "    </tr>\n",
       "    <tr>\n",
       "      <th>1</th>\n",
       "      <td>[file, c]</td>\n",
       "      <td>0</td>\n",
       "      <td>(c++, linux, memory, multithreading)</td>\n",
       "    </tr>\n",
       "    <tr>\n",
       "      <th>2</th>\n",
       "      <td>[web, service, c#, net]</td>\n",
       "      <td>9</td>\n",
       "      <td>(database, mysql, server, sql)</td>\n",
       "    </tr>\n",
       "    <tr>\n",
       "      <th>3</th>\n",
       "      <td>[javascript]</td>\n",
       "      <td>1</td>\n",
       "      <td>(array, json, string)</td>\n",
       "    </tr>\n",
       "    <tr>\n",
       "      <th>4</th>\n",
       "      <td>[net, window]</td>\n",
       "      <td>4</td>\n",
       "      <td>(git, macos, studio, visual)</td>\n",
       "    </tr>\n",
       "  </tbody>\n",
       "</table>\n",
       "</div>\n",
       "      <button class=\"colab-df-convert\" onclick=\"convertToInteractive('df-30a89adb-0ca1-4218-a60c-f5c09e1b490b')\"\n",
       "              title=\"Convert this dataframe to an interactive table.\"\n",
       "              style=\"display:none;\">\n",
       "        \n",
       "  <svg xmlns=\"http://www.w3.org/2000/svg\" height=\"24px\"viewBox=\"0 0 24 24\"\n",
       "       width=\"24px\">\n",
       "    <path d=\"M0 0h24v24H0V0z\" fill=\"none\"/>\n",
       "    <path d=\"M18.56 5.44l.94 2.06.94-2.06 2.06-.94-2.06-.94-.94-2.06-.94 2.06-2.06.94zm-11 1L8.5 8.5l.94-2.06 2.06-.94-2.06-.94L8.5 2.5l-.94 2.06-2.06.94zm10 10l.94 2.06.94-2.06 2.06-.94-2.06-.94-.94-2.06-.94 2.06-2.06.94z\"/><path d=\"M17.41 7.96l-1.37-1.37c-.4-.4-.92-.59-1.43-.59-.52 0-1.04.2-1.43.59L10.3 9.45l-7.72 7.72c-.78.78-.78 2.05 0 2.83L4 21.41c.39.39.9.59 1.41.59.51 0 1.02-.2 1.41-.59l7.78-7.78 2.81-2.81c.8-.78.8-2.07 0-2.86zM5.41 20L4 18.59l7.72-7.72 1.47 1.35L5.41 20z\"/>\n",
       "  </svg>\n",
       "      </button>\n",
       "      \n",
       "  <style>\n",
       "    .colab-df-container {\n",
       "      display:flex;\n",
       "      flex-wrap:wrap;\n",
       "      gap: 12px;\n",
       "    }\n",
       "\n",
       "    .colab-df-convert {\n",
       "      background-color: #E8F0FE;\n",
       "      border: none;\n",
       "      border-radius: 50%;\n",
       "      cursor: pointer;\n",
       "      display: none;\n",
       "      fill: #1967D2;\n",
       "      height: 32px;\n",
       "      padding: 0 0 0 0;\n",
       "      width: 32px;\n",
       "    }\n",
       "\n",
       "    .colab-df-convert:hover {\n",
       "      background-color: #E2EBFA;\n",
       "      box-shadow: 0px 1px 2px rgba(60, 64, 67, 0.3), 0px 1px 3px 1px rgba(60, 64, 67, 0.15);\n",
       "      fill: #174EA6;\n",
       "    }\n",
       "\n",
       "    [theme=dark] .colab-df-convert {\n",
       "      background-color: #3B4455;\n",
       "      fill: #D2E3FC;\n",
       "    }\n",
       "\n",
       "    [theme=dark] .colab-df-convert:hover {\n",
       "      background-color: #434B5C;\n",
       "      box-shadow: 0px 1px 3px 1px rgba(0, 0, 0, 0.15);\n",
       "      filter: drop-shadow(0px 1px 2px rgba(0, 0, 0, 0.3));\n",
       "      fill: #FFFFFF;\n",
       "    }\n",
       "  </style>\n",
       "\n",
       "      <script>\n",
       "        const buttonEl =\n",
       "          document.querySelector('#df-30a89adb-0ca1-4218-a60c-f5c09e1b490b button.colab-df-convert');\n",
       "        buttonEl.style.display =\n",
       "          google.colab.kernel.accessAllowed ? 'block' : 'none';\n",
       "\n",
       "        async function convertToInteractive(key) {\n",
       "          const element = document.querySelector('#df-30a89adb-0ca1-4218-a60c-f5c09e1b490b');\n",
       "          const dataTable =\n",
       "            await google.colab.kernel.invokeFunction('convertToInteractive',\n",
       "                                                     [key], {});\n",
       "          if (!dataTable) return;\n",
       "\n",
       "          const docLinkHtml = 'Like what you see? Visit the ' +\n",
       "            '<a target=\"_blank\" href=https://colab.research.google.com/notebooks/data_table.ipynb>data table notebook</a>'\n",
       "            + ' to learn more about interactive tables.';\n",
       "          element.innerHTML = '';\n",
       "          dataTable['output_type'] = 'display_data';\n",
       "          await google.colab.output.renderOutput(dataTable, element);\n",
       "          const docLink = document.createElement('div');\n",
       "          docLink.innerHTML = docLinkHtml;\n",
       "          element.appendChild(docLink);\n",
       "        }\n",
       "      </script>\n",
       "    </div>\n",
       "  </div>\n",
       "  "
      ],
      "text/plain": [
       "                      Tags  best_topic                                y_pred\n",
       "0   [java, array, android]           1                 (array, json, string)\n",
       "1                [file, c]           0  (c++, linux, memory, multithreading)\n",
       "2  [web, service, c#, net]           9        (database, mysql, server, sql)\n",
       "3             [javascript]           1                 (array, json, string)\n",
       "4            [net, window]           4          (git, macos, studio, visual)"
      ]
     },
     "execution_count": 139,
     "metadata": {},
     "output_type": "execute_result"
    }
   ],
   "source": [
    "y_result.head()"
   ]
  },
  {
   "cell_type": "code",
   "execution_count": 140,
   "metadata": {
    "executionInfo": {
     "elapsed": 929,
     "status": "ok",
     "timestamp": 1661303886226,
     "user": {
      "displayName": "mostapha bounkass",
      "userId": "09949847470110953923"
     },
     "user_tz": -120
    },
    "id": "Js83iSLUCy5z"
   },
   "outputs": [],
   "source": [
    "from sklearn.metrics import precision_score\n",
    "scores = {}\n",
    "scores['precision(macro)']=precision_score(y_binarized,lda_y_pred,average='macro', zero_division=0)\n",
    "scores['precision(micro)']=precision_score(y_binarized,lda_y_pred,average='micro', zero_division=0)\n",
    "scores['ROC_AUC(macro)'] = roc_auc_score(y_binarized,lda_y_pred,average='macro')\n",
    "scores['ROC_AUC(micro)']  = roc_auc_score(y_binarized,lda_y_pred,average='micro')"
   ]
  },
  {
   "cell_type": "code",
   "execution_count": 141,
   "metadata": {
    "colab": {
     "base_uri": "https://localhost:8080/"
    },
    "executionInfo": {
     "elapsed": 304,
     "status": "ok",
     "timestamp": 1661303891244,
     "user": {
      "displayName": "mostapha bounkass",
      "userId": "09949847470110953923"
     },
     "user_tz": -120
    },
    "id": "aEIQpHr2NMuo",
    "outputId": "a7fa1812-9e46-4721-f2c1-73cf8bae1246"
   },
   "outputs": [
    {
     "data": {
      "text/plain": [
       "{'precision(macro)': 0.0512943301418224,\n",
       " 'precision(micro)': 0.133570069752695,\n",
       " 'ROC_AUC(macro)': 0.5780310468464913,\n",
       " 'ROC_AUC(micro)': 0.5482917901379916}"
      ]
     },
     "execution_count": 141,
     "metadata": {},
     "output_type": "execute_result"
    }
   ],
   "source": [
    "scores"
   ]
  },
  {
   "cell_type": "markdown",
   "metadata": {},
   "source": [
    "On remarque  que la modélisation non supervisée avec LDA n'est pas adaptée. En effet, avec cette dernière méthode de prédiction, un certain nombre de topics sont très regroupés affectant la prédiction des tags."
   ]
  },
  {
   "cell_type": "markdown",
   "metadata": {
    "id": "7hnDu0iFSL41"
   },
   "source": [
    "#### <font id=\"section_62\"> 6.2 NMF Modèle"
   ]
  },
  {
   "cell_type": "markdown",
   "metadata": {},
   "source": [
    "Le modèle NMF est autre version du modèle LDA, son score ne peut pas être quantifié. Nous allons donc utiliser comme dans le cas du  LDA n_components=17."
   ]
  },
  {
   "cell_type": "code",
   "execution_count": 113,
   "metadata": {
    "executionInfo": {
     "elapsed": 3599,
     "status": "ok",
     "timestamp": 1661303402631,
     "user": {
      "displayName": "mostapha bounkass",
      "userId": "09949847470110953923"
     },
     "user_tz": -120
    },
    "id": "TZAS-A2XWrI0"
   },
   "outputs": [],
   "source": [
    "from sklearn.decomposition import NMF\n",
    "# Create an NMF  model\n",
    "\n",
    "model_nmf = NMF(n_components= 17, init='random', random_state=5, max_iter=500)\n",
    " \n",
    "# Fit the model to TF-IDF\n",
    "model_nmf.fit(X_tfidf)\n",
    " \n",
    "# Transform the TF-IDF: nmf_features\n",
    "nmf_features = model_nmf.transform(X_tfidf)"
   ]
  },
  {
   "cell_type": "code",
   "execution_count": null,
   "metadata": {
    "colab": {
     "base_uri": "https://localhost:8080/"
    },
    "executionInfo": {
     "elapsed": 22,
     "status": "ok",
     "timestamp": 1660322205308,
     "user": {
      "displayName": "mostapha bounkass",
      "userId": "09949847470110953923"
     },
     "user_tz": -120
    },
    "id": "Syq9Jh5yYBHe",
    "outputId": "e395c19b-bab7-4fc3-de6f-c33762ab78c6"
   },
   "outputs": [
    {
     "name": "stdout",
     "output_type": "stream",
     "text": [
      "(19117, 6616)\n",
      "(19117, 17)\n",
      "(17, 6616)\n"
     ]
    }
   ],
   "source": [
    "print(X_tfidf.shape)\n",
    "print(nmf_features.shape)\n",
    "print(model_nmf.components_.shape)"
   ]
  },
  {
   "cell_type": "code",
   "execution_count": null,
   "metadata": {
    "colab": {
     "base_uri": "https://localhost:8080/",
     "height": 680
    },
    "executionInfo": {
     "elapsed": 4469,
     "status": "ok",
     "timestamp": 1660322288107,
     "user": {
      "displayName": "mostapha bounkass",
      "userId": "09949847470110953923"
     },
     "user_tz": -120
    },
    "id": "-m0zp21oc5pk",
    "outputId": "0edf76e4-8c9c-4ec5-dfad-1bd7620859d3"
   },
   "outputs": [
    {
     "data": {
      "image/png": "[encoded data removed]",
      "text/plain": [
       "<Figure size 2160x1080 with 10 Axes>"
      ]
     },
     "metadata": {
      "needs_background": "light"
     },
     "output_type": "display_data"
    }
   ],
   "source": [
    "# Plot the 10 first topics\n",
    "n_top_words =12\n",
    "feature_names = vectorizer.get_feature_names()\n",
    "fig, axes = plt.subplots(2, 5, figsize=(30, 15), sharex=True)\n",
    "axes = axes.flatten()\n",
    "for topic_idx, topic in enumerate(model_nmf.components_):\n",
    "  if(topic_idx < 10):\n",
    "        top_features_ind = topic.argsort()[: -n_top_words - 1 : -1]\n",
    "        top_features = [feature_names[i] for i in top_features_ind]\n",
    "        weights = topic[top_features_ind]\n",
    "\n",
    "        ax = axes[topic_idx]\n",
    "        ax.barh(top_features, weights, height=0.7)\n",
    "        ax.set_title(f\"Topic {topic_idx +1}\", fontdict={\"fontsize\": 30})\n",
    "        ax.invert_yaxis()\n",
    "        ax.tick_params(axis=\"both\", which=\"major\", labelsize=20)\n",
    "        for i in \"top right left\".split():\n",
    "            ax.spines[i].set_visible(False)\n",
    "        fig.suptitle('Topics in NMF model', fontsize=30)\n",
    "\n",
    "plt.subplots_adjust(top=0.90, bottom=0.05, wspace=0.90, hspace=0.3)\n",
    "plt.show()"
   ]
  }
 ],
 "metadata": {
  "accelerator": "GPU",
  "colab": {
   "authorship_tag": "ABX9TyOcZeLbjOifpGiBsJDWGssD",
   "collapsed_sections": [],
   "name": "NotebP5_ml.ipynb",
   "provenance": []
  },
  "gpuClass": "standard",
  "kernelspec": {
   "display_name": "Python 3 (ipykernel)",
   "language": "python",
   "name": "python3"
  },
  "language_info": {
   "codemirror_mode": {
    "name": "ipython",
    "version": 3
   },
   "file_extension": ".py",
   "mimetype": "text/x-python",
   "name": "python",
   "nbconvert_exporter": "python",
   "pygments_lexer": "ipython3",
   "version": "3.9.12"
  }
 },
 "nbformat": 4,
 "nbformat_minor": 1
}
